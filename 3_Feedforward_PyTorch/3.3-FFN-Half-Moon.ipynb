{
  "nbformat": 4,
  "nbformat_minor": 0,
  "metadata": {
    "kernelspec": {
      "display_name": "Python 3",
      "language": "python",
      "name": "python3"
    },
    "language_info": {
      "codemirror_mode": {
        "name": "ipython",
        "version": 3
      },
      "file_extension": ".py",
      "mimetype": "text/x-python",
      "name": "python",
      "nbconvert_exporter": "python",
      "pygments_lexer": "ipython3",
      "version": "3.7.2"
    },
    "colab": {
      "name": "3.3-FFN-Half-Moon.ipynb",
      "provenance": []
    }
  },
  "cells": [
    {
      "cell_type": "markdown",
      "metadata": {
        "id": "qT17zunvSrTx"
      },
      "source": [
        "# Credits\n",
        "> This code is a slight modification to a translation (TensorFlow --> PyTorch) of a previous version of the [02456](http://kurser.dtu.dk/course/02456) course material. \n",
        "> [Original repo link (TensorFlow)](https://github.com/DeepLearningDTU/02456-deep-learning).\n",
        "> [Translated repo link (PyTorch)](https://github.com/munkai/pytorch-tutorial/tree/master/2_intermediate)."
      ]
    },
    {
      "cell_type": "markdown",
      "metadata": {
        "id": "joH8DnpBSrT1"
      },
      "source": [
        "# Purpose and goals\n",
        "In this notebook you will implement a simple neural network in PyTorch.\n",
        "\n",
        "The building blocks of PyTorch are Tensors, and Operations, with these we can form dynamic computational graphs that represent neural networks.\n",
        "In this exercise we'll start right away by defining a logistic regression model using these simple building blocks.\n",
        "We'll initially start with a simple 2D and binary (i.e. two-class) classification problem where the class decision boundary can be visualized.\n",
        "Initially we show that logistic regression can only separate classes linearly.\n",
        "Adding a nonlinear hidden layer to the algorithm permits nonlinear class separation.\n",
        "\n",
        "In this notebook you should:\n",
        "* **First** run the code as is, and see what it does.\n",
        "* **Then** modify the code, following the instructions in the bottom of the notebook.\n",
        "* **Lastly** play around a bit, and do some small experiments that you come up with.\n",
        "\n",
        "> We assume that you are already familiar with backpropagation (if not please see [Andrej Karpathy](http://cs.stanford.edu/people/karpathy/) or [Michal Nielsen](http://neuralnetworksanddeeplearning.com/chap2.html))."
      ]
    },
    {
      "cell_type": "markdown",
      "metadata": {
        "id": "CCVZJnt4SrT2"
      },
      "source": [
        "# Dependencies and supporting functions\n",
        "Load dependencies and supporting functions by running the code block below."
      ]
    },
    {
      "cell_type": "code",
      "metadata": {
        "id": "i9c-UNaQSrT2"
      },
      "source": [
        "%matplotlib inline\n",
        "import matplotlib\n",
        "import numpy as np\n",
        "import matplotlib.pyplot as plt\n",
        "import sklearn.datasets\n",
        "\n",
        "# Do not worry about the code below for now, it is used for plotting later\n",
        "def plot_decision_boundary(pred_func, X, y):\n",
        "    #from https://github.com/dennybritz/nn-from-scratch/blob/master/nn-from-scratch.ipynb\n",
        "    # Set min and max values and give it some padding\n",
        "    x_min, x_max = X[:, 0].min() - .5, X[:, 0].max() + .5\n",
        "    y_min, y_max = X[:, 1].min() - .5, X[:, 1].max() + .5\n",
        "    \n",
        "    h = 0.01\n",
        "    # Generate a grid of points with distance h between them\n",
        "    xx, yy = np.meshgrid(np.arange(x_min, x_max, h), np.arange(y_min, y_max, h))\n",
        "    \n",
        "    yy = yy.astype('float32')\n",
        "    xx = xx.astype('float32')\n",
        "    # Predict the function value for the whole gid\n",
        "    Z = pred_func(np.c_[xx.ravel(), yy.ravel()])[:,0]\n",
        "    Z = Z.reshape(xx.shape)\n",
        "    # Plot the contour and training examples\n",
        "    plt.figure()\n",
        "    plt.contourf(xx, yy, Z, cmap=plt.cm.RdBu)\n",
        "    plt.scatter(X[:, 0], X[:, 1], c=-y, cmap=plt.cm.Spectral)\n",
        "\n",
        "def onehot(t, num_classes):\n",
        "    out = np.zeros((t.shape[0], num_classes))\n",
        "    for row, col in enumerate(t):\n",
        "        out[row, col] = 1\n",
        "    return out"
      ],
      "execution_count": 218,
      "outputs": []
    },
    {
      "cell_type": "markdown",
      "metadata": {
        "collapsed": true,
        "id": "HjBf6rOISrT3"
      },
      "source": [
        "# Problem \n",
        "We'll initally demonstrate that Multi-layer Perceptrons (MLPs) can classify nonlinear problems, whereas a simple logistic regression model cannot.\n",
        "For ease of visualization and computational speed we initially experiment on the simple 2D half-moon dataset, visualized below."
      ]
    },
    {
      "cell_type": "code",
      "metadata": {
        "id": "5wtOr-cASrT3",
        "outputId": "38b62446-1e5b-4781-8fd0-57d6f023d758",
        "colab": {
          "base_uri": "https://localhost:8080/",
          "height": 282
        }
      },
      "source": [
        "# Generate a dataset and plot it\n",
        "np.random.seed(0)\n",
        "num_samples = 300\n",
        "\n",
        "X, y = sklearn.datasets.make_moons(num_samples, noise=0.20)\n",
        "\n",
        "# define train, validation, and test sets\n",
        "X_tr = X[:100].astype('float32')\n",
        "X_val = X[100:200].astype('float32')\n",
        "X_te = X[200:].astype('float32')\n",
        "\n",
        "# and labels\n",
        "y_tr = y[:100].astype('int32')\n",
        "y_val = y[100:200].astype('int32')\n",
        "y_te = y[200:].astype('int32')\n",
        "\n",
        "plt.scatter(X_tr[:,0], X_tr[:,1], s=40, c=y_tr, cmap=plt.cm.Spectral)\n",
        "\n",
        "print(X.shape, y.shape)\n",
        "\n",
        "num_features = X_tr.shape[-1]\n",
        "num_output = 2\n",
        "num_hidden_units = 10"
      ],
      "execution_count": 219,
      "outputs": [
        {
          "output_type": "stream",
          "name": "stdout",
          "text": [
            "(300, 2) (300,)\n"
          ]
        },
        {
          "output_type": "display_data",
          "data": {
            "image/png": "[encoded data removed]",
            "text/plain": [
              "<Figure size 432x288 with 1 Axes>"
            ]
          },
          "metadata": {
            "needs_background": "light"
          }
        }
      ]
    },
    {
      "cell_type": "markdown",
      "metadata": {
        "id": "pzEgUre6SrT4"
      },
      "source": [
        "# From Logistic Regression to \"Deep Learning\"\n",
        "The code implements logistic regression. In section [__Assignments Half Moon__](#Assignments-Half-Moon) (bottom of this notebook) you are asked to modify the code into a neural network.\n",
        "\n",
        "The standard building block for neural networks are layers, the simplest of which is called a *fully-connected layer* or *dense feed forward layer*, and it is computed as follows:\n",
        "\n",
        "$$y = g(W^{\\top} x + b)$$\n",
        "\n",
        "where $x$ is the input vector, $y$ is the output vector, $W, b$ are the weights and biases (a matrix and vector respectively) and $g$ is a non-linear function, called *activation function*.\n",
        "The *dense* part of the name comes from the fact that every element of $x$ contributes to every element of $y$.\n",
        "And the *feed forward* part of the name means that the layer processes each input independently. \n",
        "If we were to draw the layer it would be acyclical.\n",
        "Later we will see layers that break from both of these conventions."
      ]
    },
    {
      "cell_type": "markdown",
      "metadata": {
        "id": "kcr64M9dSrT4"
      },
      "source": [
        "- $x$ has shape `[batch_size, num_features]`,\n",
        "- $W$ has shape `[num_units, num_features]`,\n",
        "- $b$ has `[num_units]`, and\n",
        "- $y$ has then `[batch_size, num_units]`"
      ]
    },
    {
      "cell_type": "markdown",
      "metadata": {
        "id": "RCC_DIG2SrT5"
      },
      "source": [
        "## PyTorch 101\n",
        "\n",
        "In this first exercise we will use basic PyTorch functions so that you can learn how to build it from scratch. This will help you later if you want to build your own custom operations."
      ]
    },
    {
      "cell_type": "code",
      "metadata": {
        "id": "NVZX1SV_SrT5"
      },
      "source": [
        "import torch\n",
        "from torch.nn.parameter import Parameter\n",
        "import torch.nn as nn\n",
        "import torch.nn.functional as F"
      ],
      "execution_count": 220,
      "outputs": []
    },
    {
      "cell_type": "markdown",
      "metadata": {
        "id": "SW89TNbRSrT5"
      },
      "source": [
        "[`Parameters`](https://pytorch.org/docs/stable/generated/torch.nn.parameter.Parameter.html#torch.nn.parameter.Parameter) have a very special property when used with [`Module`](https://pytorch.org/docs/stable/generated/torch.nn.Module.html?highlight=module#torch.nn.Module)s - when they’re assigned as `Module` attributes they are automatically added to the list of its parameters, and will appear e.g. in the `parameters()` iterator. \\\n",
        "Assigning a Tensor doesn’t have such effect. This is because one might want to cache some temporary state (more on this later) in the model. If there was no such class as `Parameter`, these temporaries would get registered too."
      ]
    },
    {
      "cell_type": "code",
      "metadata": {
        "id": "6zjHpg0_SrT6"
      },
      "source": [
        "class Net(nn.Module):\n",
        "\n",
        "    def __init__(self):\n",
        "        super(Net, self).__init__()\n",
        "        # Setting up variables, these variables are weights in your \n",
        "        # network that can be updated while running our graph.\n",
        "        # Notice, to make a hidden layer, the weights need to have the \n",
        "        # following dimensionality:\n",
        "        #   W[number_of_units_going_out, number_of_units_going_in]\n",
        "        #   b[number_of_units_going_out]\n",
        "        # in the example below we have 2 input units (num_features) and 2 output units (num_output)\n",
        "        # so our weights become W[2, 2], b[2]\n",
        "        # if we want to make a hidden layer with 100 units, we need to define the shape of the\n",
        "        # first weight to W[100, 2], b[2] and the shape of the second weight to W[2, 100], b[2]\n",
        "        \n",
        "        # first layer\n",
        "        self.W_1 = Parameter(torch.randn(num_hidden_units, num_features)) \n",
        "        self.b_1 = Parameter(torch.randn(num_hidden_units))\n",
        "        \n",
        "        # second layer (to be completed as an exercise)\n",
        "        # NB when you create a second layer, remember that you also must change parts of the first layer\n",
        "        self.W_2 = Parameter(torch.randn(num_hidden_units, num_hidden_units)) \n",
        "        self.b_2 = Parameter(torch.randn(num_hidden_units))\n",
        "\n",
        "        #third layer\n",
        "        self.W_3 = Parameter(torch.randn(num_hidden_units, num_hidden_units)) \n",
        "        self.b_3 = Parameter(torch.randn(num_hidden_units))\n",
        "\n",
        "        #fourth layer\n",
        "        self.W_4 = Parameter(torch.randn(num_output, num_hidden_units)) \n",
        "        self.b_4 = Parameter(torch.randn(num_output))\n",
        "        \n",
        "    def forward(self, x):\n",
        "        # Setting up ops, these ops will define edges along our computational graph\n",
        "        # The below ops will compute a logistic regression, \n",
        "        # but can be modified to compute a neural network\n",
        "        x = F.linear(x, self.W_1, self.b_1)\n",
        "        x = F.relu(x)\n",
        "\n",
        "        x = F.linear(x, self.W_2, self.b_2)\n",
        "        x = F.relu(x)\n",
        "\n",
        "        x = F.linear(x, self.W_3, self.b_3)\n",
        "        x = F.relu(x)\n",
        "        \n",
        "        # second layer (to be completed as an exercise)\n",
        "        # NB when you create a second layer, remember that you also must change parts of the first layer\n",
        "        x = F.linear(x, self.W_4, self.b_4)\n",
        "        return F.softmax(x, dim=1) # softmax to be performed on the second dimension\n",
        "\n",
        "net = Net()"
      ],
      "execution_count": 221,
      "outputs": []
    },
    {
      "cell_type": "markdown",
      "metadata": {
        "id": "BWIk9QynSrT6"
      },
      "source": [
        "Knowing how to print your tensors is useful"
      ]
    },
    {
      "cell_type": "code",
      "metadata": {
        "id": "WCLQMSXSSrT6",
        "outputId": "a1ed4eef-7582-4315-b7fc-1a4c73594382",
        "colab": {
          "base_uri": "https://localhost:8080/"
        }
      },
      "source": [
        "# list all parameters in your network\n",
        "print(\"NAMED PARAMETERS\")\n",
        "print(list(net.named_parameters()))\n",
        "print()\n",
        "# the .parameters() method simply gives the Tensors in the list\n",
        "print(\"PARAMETERS\")\n",
        "print(list(net.parameters()))\n",
        "print()\n",
        "\n",
        "# list individual parameters by name\n",
        "print('WEIGHTS')\n",
        "print(net.W_1)\n",
        "print(net.W_1.size())\n",
        "print('\\nBIAS')\n",
        "print(net.b_1)\n",
        "print(net.b_1.size())"
      ],
      "execution_count": 222,
      "outputs": [
        {
          "output_type": "stream",
          "name": "stdout",
          "text": [
            "NAMED PARAMETERS\n",
            "[('W_1', Parameter containing:\n",
            "tensor([[-1.3524, -1.0902],\n",
            "        [ 0.5725, -1.1699],\n",
            "        [ 1.1246, -0.0283],\n",
            "        [ 0.5219,  0.6675],\n",
            "        [-1.3265,  0.5498],\n",
            "        [-0.4547, -0.2700],\n",
            "        [ 0.0214, -1.0286],\n",
            "        [-0.4455, -1.7261],\n",
            "        [ 1.4467, -0.8593],\n",
            "        [-0.3132,  1.3464]], requires_grad=True)), ('b_1', Parameter containing:\n",
            "tensor([-2.8022, -0.0357,  0.2985, -0.2636, -0.3375, -2.1424,  0.7793,  0.4580,\n",
            "        -2.0022, -0.4683], requires_grad=True)), ('W_2', Parameter containing:\n",
            "tensor([[ 0.1059, -0.3438,  1.9430, -0.0417,  0.1732, -0.4423,  0.6273,  0.3866,\n",
            "          0.0440, -0.4955],\n",
            "        [ 0.8116,  0.3042, -0.1766, -0.0571,  0.2593,  1.1378, -0.2381,  0.5359,\n",
            "          0.1246,  0.3123],\n",
            "        [ 0.6131, -1.0252, -0.6101,  0.8247,  1.2005,  0.5987,  0.7863, -0.0344,\n",
            "          1.5292,  1.2179],\n",
            "        [-0.7833,  0.9483,  0.2719,  0.0342,  0.5900,  0.4163,  1.8740,  1.2210,\n",
            "          0.3719, -0.1093],\n",
            "        [ 2.0957, -1.1314, -0.7504, -1.5253, -0.3309,  0.3820,  0.7688, -0.6411,\n",
            "         -0.0098, -1.4262],\n",
            "        [ 0.6795, -0.0211,  0.5480, -1.0379, -1.7754,  0.8449, -0.4899, -0.0665,\n",
            "          0.8955,  2.1820],\n",
            "        [-0.8293,  0.5367,  0.6342, -1.5633,  1.6056,  0.7015, -0.0125,  0.5686,\n",
            "         -0.1896, -0.5756],\n",
            "        [-0.2798, -0.5342, -0.4340, -0.1037, -1.8822, -0.7147, -0.8218, -0.3036,\n",
            "         -1.4285,  0.6726],\n",
            "        [-0.9733, -0.8524,  1.3416,  0.5770,  1.3954, -0.8851, -1.3215,  0.9080,\n",
            "          1.0405, -0.6875],\n",
            "        [-0.2070,  0.4572,  0.1676, -0.7576,  0.3466,  0.8644,  1.0195, -0.6704,\n",
            "          0.8359,  1.1971]], requires_grad=True)), ('b_2', Parameter containing:\n",
            "tensor([-0.5825,  0.2814, -0.2094, -0.6183, -1.6919, -0.7957, -0.0875,  0.1661,\n",
            "        -1.6488, -1.2372], requires_grad=True)), ('W_3', Parameter containing:\n",
            "tensor([[-8.3050e-01, -1.8857e-01,  6.8982e-04, -1.0658e+00, -2.5670e-01,\n",
            "          1.0875e+00,  1.8464e-02,  2.0229e+00, -1.5712e-01,  1.3927e-01],\n",
            "        [ 5.4004e-02, -4.0159e-01, -2.0628e+00,  7.9714e-01, -3.5780e-01,\n",
            "          2.8123e-01, -8.5277e-01,  4.4118e-01,  5.4443e-01, -9.8248e-02],\n",
            "        [-5.0564e-01,  1.9223e+00, -1.8061e-01, -1.8848e-01, -7.2818e-01,\n",
            "         -1.1340e+00,  6.8869e-01,  2.4344e+00,  1.5832e+00, -4.7126e-01],\n",
            "        [ 1.8245e+00,  5.6836e-01,  7.8893e-01,  1.0937e+00,  5.5395e-01,\n",
            "          2.2752e-01, -5.2962e-01, -1.0867e+00,  1.2424e+00, -2.7221e+00],\n",
            "        [ 1.4113e+00,  4.4787e-01,  2.0146e-01,  4.7236e-01,  3.1409e-01,\n",
            "         -1.4976e+00, -1.1871e+00, -5.4105e-02, -7.2992e-01, -2.4848e+00],\n",
            "        [ 8.5958e-01, -2.9651e-01, -1.4291e+00,  1.1742e+00,  9.6956e-01,\n",
            "         -2.9789e-01,  5.6548e-01, -7.5674e-01,  1.4164e+00,  1.0479e+00],\n",
            "        [ 3.2452e-01,  9.1934e-01, -3.4829e-01, -5.3231e-01, -4.5462e-01,\n",
            "          1.2334e+00,  3.0062e+00,  1.4618e+00, -3.5796e-01,  1.4166e+00],\n",
            "        [ 3.0979e-02,  7.6375e-01, -2.0444e+00, -5.2716e-02,  4.7135e-01,\n",
            "          1.1840e+00, -1.0672e-01,  4.9179e-01, -5.6220e-01,  4.0548e-01],\n",
            "        [ 2.5772e+00, -6.2882e-01,  1.6053e+00,  1.1856e+00,  2.5766e-01,\n",
            "          4.6888e-01, -7.7182e-01,  8.9727e-02,  2.7944e+00, -1.0741e+00],\n",
            "        [-1.6363e+00, -4.8667e-01, -5.7908e-01,  1.5388e+00, -9.7125e-02,\n",
            "         -7.1975e-01,  3.7046e-01,  5.8258e-01,  1.2352e+00,  3.4632e-01]],\n",
            "       requires_grad=True)), ('b_3', Parameter containing:\n",
            "tensor([ 1.5353, -1.5466,  0.3832,  0.1326, -0.0347, -0.3085,  0.3438, -1.8056,\n",
            "         0.5474, -1.1428], requires_grad=True)), ('W_4', Parameter containing:\n",
            "tensor([[ 7.2543e-01, -7.2706e-02,  2.4728e+00, -1.3802e-01, -5.4883e-01,\n",
            "         -1.5842e-03, -6.2687e-01, -5.7112e-01,  8.8394e-01,  3.6802e-01],\n",
            "        [-1.3480e-01, -1.7559e+00,  1.6129e+00,  8.7781e-01,  4.5620e-01,\n",
            "          1.2850e+00,  9.6146e-01, -1.4667e+00,  9.5448e-01,  5.1295e-01]],\n",
            "       requires_grad=True)), ('b_4', Parameter containing:\n",
            "tensor([-1.0407,  0.7465], requires_grad=True))]\n",
            "\n",
            "PARAMETERS\n",
            "[Parameter containing:\n",
            "tensor([[-1.3524, -1.0902],\n",
            "        [ 0.5725, -1.1699],\n",
            "        [ 1.1246, -0.0283],\n",
            "        [ 0.5219,  0.6675],\n",
            "        [-1.3265,  0.5498],\n",
            "        [-0.4547, -0.2700],\n",
            "        [ 0.0214, -1.0286],\n",
            "        [-0.4455, -1.7261],\n",
            "        [ 1.4467, -0.8593],\n",
            "        [-0.3132,  1.3464]], requires_grad=True), Parameter containing:\n",
            "tensor([-2.8022, -0.0357,  0.2985, -0.2636, -0.3375, -2.1424,  0.7793,  0.4580,\n",
            "        -2.0022, -0.4683], requires_grad=True), Parameter containing:\n",
            "tensor([[ 0.1059, -0.3438,  1.9430, -0.0417,  0.1732, -0.4423,  0.6273,  0.3866,\n",
            "          0.0440, -0.4955],\n",
            "        [ 0.8116,  0.3042, -0.1766, -0.0571,  0.2593,  1.1378, -0.2381,  0.5359,\n",
            "          0.1246,  0.3123],\n",
            "        [ 0.6131, -1.0252, -0.6101,  0.8247,  1.2005,  0.5987,  0.7863, -0.0344,\n",
            "          1.5292,  1.2179],\n",
            "        [-0.7833,  0.9483,  0.2719,  0.0342,  0.5900,  0.4163,  1.8740,  1.2210,\n",
            "          0.3719, -0.1093],\n",
            "        [ 2.0957, -1.1314, -0.7504, -1.5253, -0.3309,  0.3820,  0.7688, -0.6411,\n",
            "         -0.0098, -1.4262],\n",
            "        [ 0.6795, -0.0211,  0.5480, -1.0379, -1.7754,  0.8449, -0.4899, -0.0665,\n",
            "          0.8955,  2.1820],\n",
            "        [-0.8293,  0.5367,  0.6342, -1.5633,  1.6056,  0.7015, -0.0125,  0.5686,\n",
            "         -0.1896, -0.5756],\n",
            "        [-0.2798, -0.5342, -0.4340, -0.1037, -1.8822, -0.7147, -0.8218, -0.3036,\n",
            "         -1.4285,  0.6726],\n",
            "        [-0.9733, -0.8524,  1.3416,  0.5770,  1.3954, -0.8851, -1.3215,  0.9080,\n",
            "          1.0405, -0.6875],\n",
            "        [-0.2070,  0.4572,  0.1676, -0.7576,  0.3466,  0.8644,  1.0195, -0.6704,\n",
            "          0.8359,  1.1971]], requires_grad=True), Parameter containing:\n",
            "tensor([-0.5825,  0.2814, -0.2094, -0.6183, -1.6919, -0.7957, -0.0875,  0.1661,\n",
            "        -1.6488, -1.2372], requires_grad=True), Parameter containing:\n",
            "tensor([[-8.3050e-01, -1.8857e-01,  6.8982e-04, -1.0658e+00, -2.5670e-01,\n",
            "          1.0875e+00,  1.8464e-02,  2.0229e+00, -1.5712e-01,  1.3927e-01],\n",
            "        [ 5.4004e-02, -4.0159e-01, -2.0628e+00,  7.9714e-01, -3.5780e-01,\n",
            "          2.8123e-01, -8.5277e-01,  4.4118e-01,  5.4443e-01, -9.8248e-02],\n",
            "        [-5.0564e-01,  1.9223e+00, -1.8061e-01, -1.8848e-01, -7.2818e-01,\n",
            "         -1.1340e+00,  6.8869e-01,  2.4344e+00,  1.5832e+00, -4.7126e-01],\n",
            "        [ 1.8245e+00,  5.6836e-01,  7.8893e-01,  1.0937e+00,  5.5395e-01,\n",
            "          2.2752e-01, -5.2962e-01, -1.0867e+00,  1.2424e+00, -2.7221e+00],\n",
            "        [ 1.4113e+00,  4.4787e-01,  2.0146e-01,  4.7236e-01,  3.1409e-01,\n",
            "         -1.4976e+00, -1.1871e+00, -5.4105e-02, -7.2992e-01, -2.4848e+00],\n",
            "        [ 8.5958e-01, -2.9651e-01, -1.4291e+00,  1.1742e+00,  9.6956e-01,\n",
            "         -2.9789e-01,  5.6548e-01, -7.5674e-01,  1.4164e+00,  1.0479e+00],\n",
            "        [ 3.2452e-01,  9.1934e-01, -3.4829e-01, -5.3231e-01, -4.5462e-01,\n",
            "          1.2334e+00,  3.0062e+00,  1.4618e+00, -3.5796e-01,  1.4166e+00],\n",
            "        [ 3.0979e-02,  7.6375e-01, -2.0444e+00, -5.2716e-02,  4.7135e-01,\n",
            "          1.1840e+00, -1.0672e-01,  4.9179e-01, -5.6220e-01,  4.0548e-01],\n",
            "        [ 2.5772e+00, -6.2882e-01,  1.6053e+00,  1.1856e+00,  2.5766e-01,\n",
            "          4.6888e-01, -7.7182e-01,  8.9727e-02,  2.7944e+00, -1.0741e+00],\n",
            "        [-1.6363e+00, -4.8667e-01, -5.7908e-01,  1.5388e+00, -9.7125e-02,\n",
            "         -7.1975e-01,  3.7046e-01,  5.8258e-01,  1.2352e+00,  3.4632e-01]],\n",
            "       requires_grad=True), Parameter containing:\n",
            "tensor([ 1.5353, -1.5466,  0.3832,  0.1326, -0.0347, -0.3085,  0.3438, -1.8056,\n",
            "         0.5474, -1.1428], requires_grad=True), Parameter containing:\n",
            "tensor([[ 7.2543e-01, -7.2706e-02,  2.4728e+00, -1.3802e-01, -5.4883e-01,\n",
            "         -1.5842e-03, -6.2687e-01, -5.7112e-01,  8.8394e-01,  3.6802e-01],\n",
            "        [-1.3480e-01, -1.7559e+00,  1.6129e+00,  8.7781e-01,  4.5620e-01,\n",
            "          1.2850e+00,  9.6146e-01, -1.4667e+00,  9.5448e-01,  5.1295e-01]],\n",
            "       requires_grad=True), Parameter containing:\n",
            "tensor([-1.0407,  0.7465], requires_grad=True)]\n",
            "\n",
            "WEIGHTS\n",
            "Parameter containing:\n",
            "tensor([[-1.3524, -1.0902],\n",
            "        [ 0.5725, -1.1699],\n",
            "        [ 1.1246, -0.0283],\n",
            "        [ 0.5219,  0.6675],\n",
            "        [-1.3265,  0.5498],\n",
            "        [-0.4547, -0.2700],\n",
            "        [ 0.0214, -1.0286],\n",
            "        [-0.4455, -1.7261],\n",
            "        [ 1.4467, -0.8593],\n",
            "        [-0.3132,  1.3464]], requires_grad=True)\n",
            "torch.Size([10, 2])\n",
            "\n",
            "BIAS\n",
            "Parameter containing:\n",
            "tensor([-2.8022, -0.0357,  0.2985, -0.2636, -0.3375, -2.1424,  0.7793,  0.4580,\n",
            "        -2.0022, -0.4683], requires_grad=True)\n",
            "torch.Size([10])\n"
          ]
        }
      ]
    },
    {
      "cell_type": "markdown",
      "metadata": {
        "id": "HZ-ZKKiiSrT7"
      },
      "source": [
        "# Exploring Parameter\n",
        "\n",
        "Ok, let's investigate what a Parameter is"
      ]
    },
    {
      "cell_type": "code",
      "metadata": {
        "id": "SRvQDgnFSrT7",
        "outputId": "73d2ae7f-fd73-4031-9e4e-898619e50a78",
        "colab": {
          "base_uri": "https://localhost:8080/"
        }
      },
      "source": [
        "param = net.W_1\n",
        "print(\"## this is the tensor\")\n",
        "print(param.data)\n",
        "print(\"\\n## this is the tensor's gradient\")\n",
        "print(param.grad)\n",
        "# notice, the gradient is undefined because we have not yet run a backward pass\n",
        "\n",
        "print(\"\\n## is it a leaf in the graph?\")\n",
        "print(param.is_leaf)"
      ],
      "execution_count": 223,
      "outputs": [
        {
          "output_type": "stream",
          "name": "stdout",
          "text": [
            "## this is the tensor\n",
            "tensor([[-1.3524, -1.0902],\n",
            "        [ 0.5725, -1.1699],\n",
            "        [ 1.1246, -0.0283],\n",
            "        [ 0.5219,  0.6675],\n",
            "        [-1.3265,  0.5498],\n",
            "        [-0.4547, -0.2700],\n",
            "        [ 0.0214, -1.0286],\n",
            "        [-0.4455, -1.7261],\n",
            "        [ 1.4467, -0.8593],\n",
            "        [-0.3132,  1.3464]])\n",
            "\n",
            "## this is the tensor's gradient\n",
            "None\n",
            "\n",
            "## is it a leaf in the graph?\n",
            "True\n"
          ]
        }
      ]
    },
    {
      "cell_type": "markdown",
      "metadata": {
        "id": "e7nQVl7sSrT7"
      },
      "source": [
        "## Excluding subgraphs from backward propagation\n",
        "\n",
        "To exclude part of your computational graph (i.e. a subgraph) from backward propagation, simply set the relevant tensors' attribute `requires_grad` to `False`.\n",
        "\n",
        "If there’s a single input to an operation that requires gradient, its output will also require gradient. Conversely, only if all inputs don’t require gradient, the output also won’t require it. Backward computation is never performed in the subgraphs, where all Tensors didn’t require gradients."
      ]
    },
    {
      "cell_type": "markdown",
      "metadata": {
        "id": "ULL7qEIESrT7"
      },
      "source": [
        "# Test network\n",
        "\n",
        "To use our network we can simply call our graph, and it will dynamically be created. Here is an example of running the network's forward pass."
      ]
    },
    {
      "cell_type": "code",
      "metadata": {
        "id": "J7LUmQmQSrT7",
        "outputId": "0b07c82b-ebf1-41ca-83a8-48c950efa785",
        "colab": {
          "base_uri": "https://localhost:8080/"
        }
      },
      "source": [
        "X = torch.randn(5, num_features)\n",
        "# the net.__call__ runs some pre-defined functions\n",
        "# both before and after running net.forward()\n",
        "# see http://pytorch.org/docs/master/_modules/torch/nn/modules/module.html\n",
        "\n",
        "print('input')\n",
        "print(X)\n",
        "\n",
        "print('\\noutput')\n",
        "print(net(X))"
      ],
      "execution_count": 224,
      "outputs": [
        {
          "output_type": "stream",
          "name": "stdout",
          "text": [
            "input\n",
            "tensor([[ 1.1710, -0.0212],\n",
            "        [-0.6293,  0.2685],\n",
            "        [-0.6590, -0.8887],\n",
            "        [-0.1614,  0.5747],\n",
            "        [-1.4291,  0.7330]])\n",
            "\n",
            "output\n",
            "tensor([[3.8918e-11, 1.0000e+00],\n",
            "        [1.0812e-03, 9.9892e-01],\n",
            "        [6.4997e-13, 1.0000e+00],\n",
            "        [1.6192e-01, 8.3808e-01],\n",
            "        [4.2540e-06, 1.0000e+00]], grad_fn=<SoftmaxBackward>)\n"
          ]
        }
      ]
    },
    {
      "cell_type": "markdown",
      "metadata": {
        "id": "AvrGQfVySrT8"
      },
      "source": [
        "`Parameter`s are a special kind of `Tensor`"
      ]
    },
    {
      "cell_type": "code",
      "metadata": {
        "id": "fnhn4ksFSrT8",
        "outputId": "7cebbe1f-ac87-49ae-8a4f-2de0276e7b4f",
        "colab": {
          "base_uri": "https://localhost:8080/"
        }
      },
      "source": [
        "# let's take a look at the gradients\n",
        "for p in net.parameters():\n",
        "    print(p.data)\n",
        "    print(p.grad)\n",
        "    print()"
      ],
      "execution_count": 225,
      "outputs": [
        {
          "output_type": "stream",
          "name": "stdout",
          "text": [
            "tensor([[-1.3524, -1.0902],\n",
            "        [ 0.5725, -1.1699],\n",
            "        [ 1.1246, -0.0283],\n",
            "        [ 0.5219,  0.6675],\n",
            "        [-1.3265,  0.5498],\n",
            "        [-0.4547, -0.2700],\n",
            "        [ 0.0214, -1.0286],\n",
            "        [-0.4455, -1.7261],\n",
            "        [ 1.4467, -0.8593],\n",
            "        [-0.3132,  1.3464]])\n",
            "None\n",
            "\n",
            "tensor([-2.8022, -0.0357,  0.2985, -0.2636, -0.3375, -2.1424,  0.7793,  0.4580,\n",
            "        -2.0022, -0.4683])\n",
            "None\n",
            "\n",
            "tensor([[ 0.1059, -0.3438,  1.9430, -0.0417,  0.1732, -0.4423,  0.6273,  0.3866,\n",
            "          0.0440, -0.4955],\n",
            "        [ 0.8116,  0.3042, -0.1766, -0.0571,  0.2593,  1.1378, -0.2381,  0.5359,\n",
            "          0.1246,  0.3123],\n",
            "        [ 0.6131, -1.0252, -0.6101,  0.8247,  1.2005,  0.5987,  0.7863, -0.0344,\n",
            "          1.5292,  1.2179],\n",
            "        [-0.7833,  0.9483,  0.2719,  0.0342,  0.5900,  0.4163,  1.8740,  1.2210,\n",
            "          0.3719, -0.1093],\n",
            "        [ 2.0957, -1.1314, -0.7504, -1.5253, -0.3309,  0.3820,  0.7688, -0.6411,\n",
            "         -0.0098, -1.4262],\n",
            "        [ 0.6795, -0.0211,  0.5480, -1.0379, -1.7754,  0.8449, -0.4899, -0.0665,\n",
            "          0.8955,  2.1820],\n",
            "        [-0.8293,  0.5367,  0.6342, -1.5633,  1.6056,  0.7015, -0.0125,  0.5686,\n",
            "         -0.1896, -0.5756],\n",
            "        [-0.2798, -0.5342, -0.4340, -0.1037, -1.8822, -0.7147, -0.8218, -0.3036,\n",
            "         -1.4285,  0.6726],\n",
            "        [-0.9733, -0.8524,  1.3416,  0.5770,  1.3954, -0.8851, -1.3215,  0.9080,\n",
            "          1.0405, -0.6875],\n",
            "        [-0.2070,  0.4572,  0.1676, -0.7576,  0.3466,  0.8644,  1.0195, -0.6704,\n",
            "          0.8359,  1.1971]])\n",
            "None\n",
            "\n",
            "tensor([-0.5825,  0.2814, -0.2094, -0.6183, -1.6919, -0.7957, -0.0875,  0.1661,\n",
            "        -1.6488, -1.2372])\n",
            "None\n",
            "\n",
            "tensor([[-8.3050e-01, -1.8857e-01,  6.8982e-04, -1.0658e+00, -2.5670e-01,\n",
            "          1.0875e+00,  1.8464e-02,  2.0229e+00, -1.5712e-01,  1.3927e-01],\n",
            "        [ 5.4004e-02, -4.0159e-01, -2.0628e+00,  7.9714e-01, -3.5780e-01,\n",
            "          2.8123e-01, -8.5277e-01,  4.4118e-01,  5.4443e-01, -9.8248e-02],\n",
            "        [-5.0564e-01,  1.9223e+00, -1.8061e-01, -1.8848e-01, -7.2818e-01,\n",
            "         -1.1340e+00,  6.8869e-01,  2.4344e+00,  1.5832e+00, -4.7126e-01],\n",
            "        [ 1.8245e+00,  5.6836e-01,  7.8893e-01,  1.0937e+00,  5.5395e-01,\n",
            "          2.2752e-01, -5.2962e-01, -1.0867e+00,  1.2424e+00, -2.7221e+00],\n",
            "        [ 1.4113e+00,  4.4787e-01,  2.0146e-01,  4.7236e-01,  3.1409e-01,\n",
            "         -1.4976e+00, -1.1871e+00, -5.4105e-02, -7.2992e-01, -2.4848e+00],\n",
            "        [ 8.5958e-01, -2.9651e-01, -1.4291e+00,  1.1742e+00,  9.6956e-01,\n",
            "         -2.9789e-01,  5.6548e-01, -7.5674e-01,  1.4164e+00,  1.0479e+00],\n",
            "        [ 3.2452e-01,  9.1934e-01, -3.4829e-01, -5.3231e-01, -4.5462e-01,\n",
            "          1.2334e+00,  3.0062e+00,  1.4618e+00, -3.5796e-01,  1.4166e+00],\n",
            "        [ 3.0979e-02,  7.6375e-01, -2.0444e+00, -5.2716e-02,  4.7135e-01,\n",
            "          1.1840e+00, -1.0672e-01,  4.9179e-01, -5.6220e-01,  4.0548e-01],\n",
            "        [ 2.5772e+00, -6.2882e-01,  1.6053e+00,  1.1856e+00,  2.5766e-01,\n",
            "          4.6888e-01, -7.7182e-01,  8.9727e-02,  2.7944e+00, -1.0741e+00],\n",
            "        [-1.6363e+00, -4.8667e-01, -5.7908e-01,  1.5388e+00, -9.7125e-02,\n",
            "         -7.1975e-01,  3.7046e-01,  5.8258e-01,  1.2352e+00,  3.4632e-01]])\n",
            "None\n",
            "\n",
            "tensor([ 1.5353, -1.5466,  0.3832,  0.1326, -0.0347, -0.3085,  0.3438, -1.8056,\n",
            "         0.5474, -1.1428])\n",
            "None\n",
            "\n",
            "tensor([[ 7.2543e-01, -7.2706e-02,  2.4728e+00, -1.3802e-01, -5.4883e-01,\n",
            "         -1.5842e-03, -6.2687e-01, -5.7112e-01,  8.8394e-01,  3.6802e-01],\n",
            "        [-1.3480e-01, -1.7559e+00,  1.6129e+00,  8.7781e-01,  4.5620e-01,\n",
            "          1.2850e+00,  9.6146e-01, -1.4667e+00,  9.5448e-01,  5.1295e-01]])\n",
            "None\n",
            "\n",
            "tensor([-1.0407,  0.7465])\n",
            "None\n",
            "\n"
          ]
        }
      ]
    },
    {
      "cell_type": "code",
      "metadata": {
        "id": "ujzvzXL_SrT8"
      },
      "source": [
        "X = torch.randn(7, num_features)\n",
        "out = net(X)\n",
        "# we need to give a tensor of gradients to .backward,\n",
        "# we give a dummy tensor\n",
        "out.backward(torch.randn(7, num_output))"
      ],
      "execution_count": 226,
      "outputs": []
    },
    {
      "cell_type": "markdown",
      "metadata": {
        "id": "AHtJtR73SrT9"
      },
      "source": [
        "for details on `.backward()`, see http://pytorch.org/docs/master/autograd.html#torch.autograd.backward"
      ]
    },
    {
      "cell_type": "code",
      "metadata": {
        "id": "VbVWpAnISrT9",
        "outputId": "ec8b52eb-6e1b-4296-ef89-95790af27b7f",
        "colab": {
          "base_uri": "https://localhost:8080/"
        }
      },
      "source": [
        "# let's take a look at the gradients\n",
        "for p in net.parameters():\n",
        "    print(p.data)\n",
        "    print(p.grad)\n",
        "    print()"
      ],
      "execution_count": 227,
      "outputs": [
        {
          "output_type": "stream",
          "name": "stdout",
          "text": [
            "tensor([[-1.3524, -1.0902],\n",
            "        [ 0.5725, -1.1699],\n",
            "        [ 1.1246, -0.0283],\n",
            "        [ 0.5219,  0.6675],\n",
            "        [-1.3265,  0.5498],\n",
            "        [-0.4547, -0.2700],\n",
            "        [ 0.0214, -1.0286],\n",
            "        [-0.4455, -1.7261],\n",
            "        [ 1.4467, -0.8593],\n",
            "        [-0.3132,  1.3464]])\n",
            "tensor([[ 0.0000e+00,  0.0000e+00],\n",
            "        [ 3.7716e-16,  1.9236e-15],\n",
            "        [-9.3451e-02, -1.7358e-01],\n",
            "        [ 1.8099e-03,  2.7027e-03],\n",
            "        [-1.8090e-04,  1.4059e-04],\n",
            "        [ 0.0000e+00,  0.0000e+00],\n",
            "        [-4.6255e-02, -8.5828e-02],\n",
            "        [ 4.4757e-16,  2.2827e-15],\n",
            "        [ 0.0000e+00,  0.0000e+00],\n",
            "        [ 1.2774e-02,  2.3966e-02]])\n",
            "\n",
            "tensor([-2.8022, -0.0357,  0.2985, -0.2636, -0.3375, -2.1424,  0.7793,  0.4580,\n",
            "        -2.0022, -0.4683])\n",
            "tensor([ 0.0000e+00, -1.4537e-15, -2.3696e-01,  3.9382e-03,  1.4466e-04,\n",
            "         0.0000e+00, -1.1686e-01, -1.7251e-15,  0.0000e+00,  3.2619e-02])\n",
            "\n",
            "tensor([[ 0.1059, -0.3438,  1.9430, -0.0417,  0.1732, -0.4423,  0.6273,  0.3866,\n",
            "          0.0440, -0.4955],\n",
            "        [ 0.8116,  0.3042, -0.1766, -0.0571,  0.2593,  1.1378, -0.2381,  0.5359,\n",
            "          0.1246,  0.3123],\n",
            "        [ 0.6131, -1.0252, -0.6101,  0.8247,  1.2005,  0.5987,  0.7863, -0.0344,\n",
            "          1.5292,  1.2179],\n",
            "        [-0.7833,  0.9483,  0.2719,  0.0342,  0.5900,  0.4163,  1.8740,  1.2210,\n",
            "          0.3719, -0.1093],\n",
            "        [ 2.0957, -1.1314, -0.7504, -1.5253, -0.3309,  0.3820,  0.7688, -0.6411,\n",
            "         -0.0098, -1.4262],\n",
            "        [ 0.6795, -0.0211,  0.5480, -1.0379, -1.7754,  0.8449, -0.4899, -0.0665,\n",
            "          0.8955,  2.1820],\n",
            "        [-0.8293,  0.5367,  0.6342, -1.5633,  1.6056,  0.7015, -0.0125,  0.5686,\n",
            "         -0.1896, -0.5756],\n",
            "        [-0.2798, -0.5342, -0.4340, -0.1037, -1.8822, -0.7147, -0.8218, -0.3036,\n",
            "         -1.4285,  0.6726],\n",
            "        [-0.9733, -0.8524,  1.3416,  0.5770,  1.3954, -0.8851, -1.3215,  0.9080,\n",
            "          1.0405, -0.6875],\n",
            "        [-0.2070,  0.4572,  0.1676, -0.7576,  0.3466,  0.8644,  1.0195, -0.6704,\n",
            "          0.8359,  1.1971]])\n",
            "tensor([[ 0.0000e+00,  7.2076e-16, -8.0138e-02, -4.7888e-02,  0.0000e+00,\n",
            "          0.0000e+00, -3.5999e-03,  1.5102e-15,  0.0000e+00, -4.3807e-02],\n",
            "        [ 0.0000e+00, -2.8025e-15, -1.4756e-02, -8.7662e-03,  1.4989e-05,\n",
            "          0.0000e+00, -6.6986e-04, -5.8720e-15,  0.0000e+00, -7.9981e-03],\n",
            "        [ 0.0000e+00,  0.0000e+00, -1.1261e-02, -6.7338e-03,  8.1092e-06,\n",
            "          0.0000e+00, -5.0546e-04,  0.0000e+00,  0.0000e+00, -6.1597e-03],\n",
            "        [ 0.0000e+00, -9.0093e-16, -2.9163e-17,  2.4166e-06,  5.6316e-05,\n",
            "          0.0000e+00, -1.4102e-15, -1.8877e-15,  0.0000e+00,  3.7234e-05],\n",
            "        [ 0.0000e+00,  0.0000e+00,  0.0000e+00,  0.0000e+00,  0.0000e+00,\n",
            "          0.0000e+00,  0.0000e+00,  0.0000e+00,  0.0000e+00,  0.0000e+00],\n",
            "        [ 0.0000e+00,  0.0000e+00, -1.1945e-02, -7.1500e-03,  6.3448e-05,\n",
            "          0.0000e+00, -5.3291e-04,  0.0000e+00,  0.0000e+00, -6.4876e-03],\n",
            "        [ 0.0000e+00, -5.1947e-17, -1.6816e-18,  3.1171e-05,  2.4529e-04,\n",
            "          0.0000e+00, -8.1312e-17, -1.0885e-16,  0.0000e+00,  2.1517e-04],\n",
            "        [ 0.0000e+00,  0.0000e+00,  4.1875e-02,  2.5079e-02,  0.0000e+00,\n",
            "          0.0000e+00,  1.8735e-03,  0.0000e+00,  0.0000e+00,  2.2957e-02],\n",
            "        [ 0.0000e+00,  0.0000e+00,  2.5995e-05,  1.2649e-05, -5.9297e-05,\n",
            "          0.0000e+00,  0.0000e+00,  0.0000e+00,  0.0000e+00, -3.8023e-05],\n",
            "        [ 0.0000e+00,  0.0000e+00,  0.0000e+00,  1.8494e-05,  6.6781e-05,\n",
            "          0.0000e+00,  0.0000e+00,  0.0000e+00,  0.0000e+00,  8.4269e-05]])\n",
            "\n",
            "tensor([-0.5825,  0.2814, -0.2094, -0.6183, -1.6919, -0.7957, -0.0875,  0.1661,\n",
            "        -1.6488, -1.2372])\n",
            "tensor([-1.1113e-01, -2.0557e-02, -1.5604e-02,  3.0381e-05,  0.0000e+00,\n",
            "        -1.6488e-02,  1.1586e-04,  5.7962e-02, -5.4436e-06,  2.3557e-05])\n",
            "\n",
            "tensor([[-8.3050e-01, -1.8857e-01,  6.8982e-04, -1.0658e+00, -2.5670e-01,\n",
            "          1.0875e+00,  1.8464e-02,  2.0229e+00, -1.5712e-01,  1.3927e-01],\n",
            "        [ 5.4004e-02, -4.0159e-01, -2.0628e+00,  7.9714e-01, -3.5780e-01,\n",
            "          2.8123e-01, -8.5277e-01,  4.4118e-01,  5.4443e-01, -9.8248e-02],\n",
            "        [-5.0564e-01,  1.9223e+00, -1.8061e-01, -1.8848e-01, -7.2818e-01,\n",
            "         -1.1340e+00,  6.8869e-01,  2.4344e+00,  1.5832e+00, -4.7126e-01],\n",
            "        [ 1.8245e+00,  5.6836e-01,  7.8893e-01,  1.0937e+00,  5.5395e-01,\n",
            "          2.2752e-01, -5.2962e-01, -1.0867e+00,  1.2424e+00, -2.7221e+00],\n",
            "        [ 1.4113e+00,  4.4787e-01,  2.0146e-01,  4.7236e-01,  3.1409e-01,\n",
            "         -1.4976e+00, -1.1871e+00, -5.4105e-02, -7.2992e-01, -2.4848e+00],\n",
            "        [ 8.5958e-01, -2.9651e-01, -1.4291e+00,  1.1742e+00,  9.6956e-01,\n",
            "         -2.9789e-01,  5.6548e-01, -7.5674e-01,  1.4164e+00,  1.0479e+00],\n",
            "        [ 3.2452e-01,  9.1934e-01, -3.4829e-01, -5.3231e-01, -4.5462e-01,\n",
            "          1.2334e+00,  3.0062e+00,  1.4618e+00, -3.5796e-01,  1.4166e+00],\n",
            "        [ 3.0979e-02,  7.6375e-01, -2.0444e+00, -5.2716e-02,  4.7135e-01,\n",
            "          1.1840e+00, -1.0672e-01,  4.9179e-01, -5.6220e-01,  4.0548e-01],\n",
            "        [ 2.5772e+00, -6.2882e-01,  1.6053e+00,  1.1856e+00,  2.5766e-01,\n",
            "          4.6888e-01, -7.7182e-01,  8.9727e-02,  2.7944e+00, -1.0741e+00],\n",
            "        [-1.6363e+00, -4.8667e-01, -5.7908e-01,  1.5388e+00, -9.7125e-02,\n",
            "         -7.1975e-01,  3.7046e-01,  5.8258e-01,  1.2352e+00,  3.4632e-01]])\n",
            "tensor([[ 1.1679e-02,  4.5356e-03,  3.8222e-03, -1.1198e-05,  0.0000e+00,\n",
            "         -7.9110e-05, -4.8577e-05,  8.7564e-04, -6.5815e-06, -3.7669e-05],\n",
            "        [ 7.0166e-17,  8.1230e-17,  0.0000e+00,  3.8809e-16,  0.0000e+00,\n",
            "          0.0000e+00,  1.0776e-16,  0.0000e+00,  0.0000e+00,  0.0000e+00],\n",
            "        [ 1.1753e-02,  4.5554e-03,  3.9110e-03, -1.1082e-05,  0.0000e+00,\n",
            "          1.7073e-06, -4.8225e-05,  8.9252e-04, -4.7966e-06, -3.7155e-05],\n",
            "        [-1.3791e-02, -5.3787e-03, -4.6006e-03,  5.7693e-06,  0.0000e+00,\n",
            "          8.6426e-05,  4.0774e-05, -1.0340e-03,  4.5601e-06,  9.7695e-06],\n",
            "        [-1.3644e-02, -5.3409e-03, -4.6088e-03,  2.9295e-15,  0.0000e+00,\n",
            "          8.5472e-05,  8.1345e-16, -1.0230e-03,  2.2215e-06,  0.0000e+00],\n",
            "        [ 1.8388e-10,  1.8042e-12,  7.9836e-12,  8.4562e-18,  0.0000e+00,\n",
            "          0.0000e+00,  2.3481e-18,  0.0000e+00,  7.8801e-11,  0.0000e+00],\n",
            "        [-2.1563e-02, -8.3742e-03, -7.0566e-03,  2.0722e-05,  0.0000e+00,\n",
            "          1.4617e-04,  8.9829e-05, -1.6167e-03,  1.2196e-05,  6.9756e-05],\n",
            "        [ 0.0000e+00,  0.0000e+00,  0.0000e+00,  0.0000e+00,  0.0000e+00,\n",
            "          0.0000e+00,  0.0000e+00,  0.0000e+00,  0.0000e+00,  0.0000e+00],\n",
            "        [-9.5772e-04, -3.7171e-04, -3.1260e-04,  9.7882e-07,  0.0000e+00,\n",
            "          6.6237e-06,  4.1652e-06, -7.1789e-05,  5.1326e-07,  3.3601e-06],\n",
            "        [-3.5516e-16, -6.9030e-09, -2.3619e-08, -4.1055e-09,  0.0000e+00,\n",
            "          0.0000e+00, -1.6136e-08,  0.0000e+00, -5.7156e-09, -7.8913e-09]])\n",
            "\n",
            "tensor([ 1.5353, -1.5466,  0.3832,  0.1326, -0.0347, -0.3085,  0.3438, -1.8056,\n",
            "         0.5474, -1.1428])\n",
            "tensor([ 1.8648e-02,  4.7463e-17,  1.8699e-02, -2.2032e-02, -2.1817e-02,\n",
            "         6.7455e-11, -3.4430e-02,  0.0000e+00, -1.5290e-03, -4.4017e-09])\n",
            "\n",
            "tensor([[ 7.2543e-01, -7.2706e-02,  2.4728e+00, -1.3802e-01, -5.4883e-01,\n",
            "         -1.5842e-03, -6.2687e-01, -5.7112e-01,  8.8394e-01,  3.6802e-01],\n",
            "        [-1.3480e-01, -1.7559e+00,  1.6129e+00,  8.7781e-01,  4.5620e-01,\n",
            "          1.2850e+00,  9.6146e-01, -1.4667e+00,  9.5448e-01,  5.1295e-01]])\n",
            "tensor([[ 2.2982e-02, -1.5848e-15,  1.3283e-02,  3.3138e-02,  2.1785e-02,\n",
            "         -1.4955e-07,  1.6310e-02,  0.0000e+00,  5.0773e-02, -5.6769e-11],\n",
            "        [-2.2982e-02,  0.0000e+00, -1.3283e-02, -3.3138e-02, -2.1785e-02,\n",
            "          0.0000e+00, -1.6309e-02,  0.0000e+00, -5.0773e-02,  0.0000e+00]])\n",
            "\n",
            "tensor([-1.0407,  0.7465])\n",
            "tensor([ 0.0217, -0.0217])\n",
            "\n"
          ]
        }
      ]
    },
    {
      "cell_type": "code",
      "metadata": {
        "id": "dAh8vufNSrT9",
        "outputId": "8bdfa3e1-ffb8-41b6-da91-598590bc7702",
        "colab": {
          "base_uri": "https://localhost:8080/"
        }
      },
      "source": [
        "# ok, let's try and zero the accumulated gradients\n",
        "net.zero_grad()\n",
        "for p in net.parameters():\n",
        "    print(p.data)\n",
        "    print(p.grad)"
      ],
      "execution_count": 228,
      "outputs": [
        {
          "output_type": "stream",
          "name": "stdout",
          "text": [
            "tensor([[-1.3524, -1.0902],\n",
            "        [ 0.5725, -1.1699],\n",
            "        [ 1.1246, -0.0283],\n",
            "        [ 0.5219,  0.6675],\n",
            "        [-1.3265,  0.5498],\n",
            "        [-0.4547, -0.2700],\n",
            "        [ 0.0214, -1.0286],\n",
            "        [-0.4455, -1.7261],\n",
            "        [ 1.4467, -0.8593],\n",
            "        [-0.3132,  1.3464]])\n",
            "tensor([[0., 0.],\n",
            "        [0., 0.],\n",
            "        [0., 0.],\n",
            "        [0., 0.],\n",
            "        [0., 0.],\n",
            "        [0., 0.],\n",
            "        [0., 0.],\n",
            "        [0., 0.],\n",
            "        [0., 0.],\n",
            "        [0., 0.]])\n",
            "tensor([-2.8022, -0.0357,  0.2985, -0.2636, -0.3375, -2.1424,  0.7793,  0.4580,\n",
            "        -2.0022, -0.4683])\n",
            "tensor([0., 0., 0., 0., 0., 0., 0., 0., 0., 0.])\n",
            "tensor([[ 0.1059, -0.3438,  1.9430, -0.0417,  0.1732, -0.4423,  0.6273,  0.3866,\n",
            "          0.0440, -0.4955],\n",
            "        [ 0.8116,  0.3042, -0.1766, -0.0571,  0.2593,  1.1378, -0.2381,  0.5359,\n",
            "          0.1246,  0.3123],\n",
            "        [ 0.6131, -1.0252, -0.6101,  0.8247,  1.2005,  0.5987,  0.7863, -0.0344,\n",
            "          1.5292,  1.2179],\n",
            "        [-0.7833,  0.9483,  0.2719,  0.0342,  0.5900,  0.4163,  1.8740,  1.2210,\n",
            "          0.3719, -0.1093],\n",
            "        [ 2.0957, -1.1314, -0.7504, -1.5253, -0.3309,  0.3820,  0.7688, -0.6411,\n",
            "         -0.0098, -1.4262],\n",
            "        [ 0.6795, -0.0211,  0.5480, -1.0379, -1.7754,  0.8449, -0.4899, -0.0665,\n",
            "          0.8955,  2.1820],\n",
            "        [-0.8293,  0.5367,  0.6342, -1.5633,  1.6056,  0.7015, -0.0125,  0.5686,\n",
            "         -0.1896, -0.5756],\n",
            "        [-0.2798, -0.5342, -0.4340, -0.1037, -1.8822, -0.7147, -0.8218, -0.3036,\n",
            "         -1.4285,  0.6726],\n",
            "        [-0.9733, -0.8524,  1.3416,  0.5770,  1.3954, -0.8851, -1.3215,  0.9080,\n",
            "          1.0405, -0.6875],\n",
            "        [-0.2070,  0.4572,  0.1676, -0.7576,  0.3466,  0.8644,  1.0195, -0.6704,\n",
            "          0.8359,  1.1971]])\n",
            "tensor([[0., 0., 0., 0., 0., 0., 0., 0., 0., 0.],\n",
            "        [0., 0., 0., 0., 0., 0., 0., 0., 0., 0.],\n",
            "        [0., 0., 0., 0., 0., 0., 0., 0., 0., 0.],\n",
            "        [0., 0., 0., 0., 0., 0., 0., 0., 0., 0.],\n",
            "        [0., 0., 0., 0., 0., 0., 0., 0., 0., 0.],\n",
            "        [0., 0., 0., 0., 0., 0., 0., 0., 0., 0.],\n",
            "        [0., 0., 0., 0., 0., 0., 0., 0., 0., 0.],\n",
            "        [0., 0., 0., 0., 0., 0., 0., 0., 0., 0.],\n",
            "        [0., 0., 0., 0., 0., 0., 0., 0., 0., 0.],\n",
            "        [0., 0., 0., 0., 0., 0., 0., 0., 0., 0.]])\n",
            "tensor([-0.5825,  0.2814, -0.2094, -0.6183, -1.6919, -0.7957, -0.0875,  0.1661,\n",
            "        -1.6488, -1.2372])\n",
            "tensor([0., 0., 0., 0., 0., 0., 0., 0., 0., 0.])\n",
            "tensor([[-8.3050e-01, -1.8857e-01,  6.8982e-04, -1.0658e+00, -2.5670e-01,\n",
            "          1.0875e+00,  1.8464e-02,  2.0229e+00, -1.5712e-01,  1.3927e-01],\n",
            "        [ 5.4004e-02, -4.0159e-01, -2.0628e+00,  7.9714e-01, -3.5780e-01,\n",
            "          2.8123e-01, -8.5277e-01,  4.4118e-01,  5.4443e-01, -9.8248e-02],\n",
            "        [-5.0564e-01,  1.9223e+00, -1.8061e-01, -1.8848e-01, -7.2818e-01,\n",
            "         -1.1340e+00,  6.8869e-01,  2.4344e+00,  1.5832e+00, -4.7126e-01],\n",
            "        [ 1.8245e+00,  5.6836e-01,  7.8893e-01,  1.0937e+00,  5.5395e-01,\n",
            "          2.2752e-01, -5.2962e-01, -1.0867e+00,  1.2424e+00, -2.7221e+00],\n",
            "        [ 1.4113e+00,  4.4787e-01,  2.0146e-01,  4.7236e-01,  3.1409e-01,\n",
            "         -1.4976e+00, -1.1871e+00, -5.4105e-02, -7.2992e-01, -2.4848e+00],\n",
            "        [ 8.5958e-01, -2.9651e-01, -1.4291e+00,  1.1742e+00,  9.6956e-01,\n",
            "         -2.9789e-01,  5.6548e-01, -7.5674e-01,  1.4164e+00,  1.0479e+00],\n",
            "        [ 3.2452e-01,  9.1934e-01, -3.4829e-01, -5.3231e-01, -4.5462e-01,\n",
            "          1.2334e+00,  3.0062e+00,  1.4618e+00, -3.5796e-01,  1.4166e+00],\n",
            "        [ 3.0979e-02,  7.6375e-01, -2.0444e+00, -5.2716e-02,  4.7135e-01,\n",
            "          1.1840e+00, -1.0672e-01,  4.9179e-01, -5.6220e-01,  4.0548e-01],\n",
            "        [ 2.5772e+00, -6.2882e-01,  1.6053e+00,  1.1856e+00,  2.5766e-01,\n",
            "          4.6888e-01, -7.7182e-01,  8.9727e-02,  2.7944e+00, -1.0741e+00],\n",
            "        [-1.6363e+00, -4.8667e-01, -5.7908e-01,  1.5388e+00, -9.7125e-02,\n",
            "         -7.1975e-01,  3.7046e-01,  5.8258e-01,  1.2352e+00,  3.4632e-01]])\n",
            "tensor([[0., 0., 0., 0., 0., 0., 0., 0., 0., 0.],\n",
            "        [0., 0., 0., 0., 0., 0., 0., 0., 0., 0.],\n",
            "        [0., 0., 0., 0., 0., 0., 0., 0., 0., 0.],\n",
            "        [0., 0., 0., 0., 0., 0., 0., 0., 0., 0.],\n",
            "        [0., 0., 0., 0., 0., 0., 0., 0., 0., 0.],\n",
            "        [0., 0., 0., 0., 0., 0., 0., 0., 0., 0.],\n",
            "        [0., 0., 0., 0., 0., 0., 0., 0., 0., 0.],\n",
            "        [0., 0., 0., 0., 0., 0., 0., 0., 0., 0.],\n",
            "        [0., 0., 0., 0., 0., 0., 0., 0., 0., 0.],\n",
            "        [0., 0., 0., 0., 0., 0., 0., 0., 0., 0.]])\n",
            "tensor([ 1.5353, -1.5466,  0.3832,  0.1326, -0.0347, -0.3085,  0.3438, -1.8056,\n",
            "         0.5474, -1.1428])\n",
            "tensor([0., 0., 0., 0., 0., 0., 0., 0., 0., 0.])\n",
            "tensor([[ 7.2543e-01, -7.2706e-02,  2.4728e+00, -1.3802e-01, -5.4883e-01,\n",
            "         -1.5842e-03, -6.2687e-01, -5.7112e-01,  8.8394e-01,  3.6802e-01],\n",
            "        [-1.3480e-01, -1.7559e+00,  1.6129e+00,  8.7781e-01,  4.5620e-01,\n",
            "          1.2850e+00,  9.6146e-01, -1.4667e+00,  9.5448e-01,  5.1295e-01]])\n",
            "tensor([[0., 0., 0., 0., 0., 0., 0., 0., 0., 0.],\n",
            "        [0., 0., 0., 0., 0., 0., 0., 0., 0., 0.]])\n",
            "tensor([-1.0407,  0.7465])\n",
            "tensor([0., 0.])\n"
          ]
        }
      ]
    },
    {
      "cell_type": "markdown",
      "metadata": {
        "id": "NFhznYX_SrT9"
      },
      "source": [
        "# Loss function\n",
        "\n",
        "Let's define a custom loss function to compute how good our graph is doing."
      ]
    },
    {
      "cell_type": "code",
      "metadata": {
        "id": "IYpQZxsaSrT-"
      },
      "source": [
        "def cross_entropy(ys, ts):\n",
        "    # computing cross entropy per sample\n",
        "    cross_entropy = -torch.sum(ts * torch.log(ys), dim=1, keepdim=False)\n",
        "    # averaging over samples\n",
        "    return torch.mean(cross_entropy)"
      ],
      "execution_count": 229,
      "outputs": []
    },
    {
      "cell_type": "markdown",
      "metadata": {
        "id": "MBQcSkVNSrT-"
      },
      "source": [
        "To train our neural network we need to update the parameters in the direction of the negative gradient w.r.t the cost function we defined earlier.\n",
        "We can use [`torch.optim`](http://pytorch.org/docs/master/optim.html) to get the gradients with some update rule for all parameters in the network.\n",
        "\n",
        "Heres a small animation of gradient descent: http://imgur.com/a/Hqolp, which also illustrates which challenges optimizers might face, e.g. saddle points."
      ]
    },
    {
      "cell_type": "code",
      "metadata": {
        "id": "YVADEVJnSrT-"
      },
      "source": [
        "import torch.optim as optim\n",
        "\n",
        "optimizer = optim.Adam(net.parameters(), lr=0.01)"
      ],
      "execution_count": 230,
      "outputs": []
    },
    {
      "cell_type": "markdown",
      "metadata": {
        "id": "mjr-w7mkSrT-"
      },
      "source": [
        "Next, we make the prediction functions, such that we can get an accuracy measure over a batch"
      ]
    },
    {
      "cell_type": "code",
      "metadata": {
        "id": "M8Wwr9eVSrT-"
      },
      "source": [
        "def accuracy(ys, ts):\n",
        "    # making a one-hot encoded vector of correct (1) and incorrect (0) predictions\n",
        "    correct_prediction = torch.eq(torch.max(ys, 1)[1], torch.max(ts, 1)[1])\n",
        "    # averaging the one-hot encoded vector\n",
        "    return torch.mean(correct_prediction.float())"
      ],
      "execution_count": 231,
      "outputs": []
    },
    {
      "cell_type": "markdown",
      "metadata": {
        "id": "36N3IKsMSrT_"
      },
      "source": [
        "The next step is to utilize our `optimizer` repeatedly in order to optimize our weights `W_1` and `b_1` to make the best possible linear seperation of the half moon dataset."
      ]
    },
    {
      "cell_type": "code",
      "metadata": {
        "id": "krxw2PIDSrT_"
      },
      "source": [
        "def trainModel(epochs, units):\n",
        "    \n",
        "    # number of training passses\n",
        "    num_epochs = epochs\n",
        "    num_hidden_units = units\n",
        "\n",
        "    # store loss and accuracy for information\n",
        "    train_losses, val_losses, train_accs, val_accs = [], [], [], []\n",
        "\n",
        "    def pred(X):\n",
        "        \"\"\" Compute graph's prediction and return numpy array\n",
        "        \n",
        "        Parameters\n",
        "        ----------\n",
        "        X : numpy.ndarray\n",
        "        \n",
        "        Returns\n",
        "        -------\n",
        "        numpy.ndarray\n",
        "        \"\"\"\n",
        "        X = torch.from_numpy(X)\n",
        "        y = net(X)\n",
        "        return y.data.numpy()\n",
        "\n",
        "    # plot boundary on testset before training session\n",
        "    plot_decision_boundary(lambda x: pred(x), X_te, y_te)\n",
        "    plt.title(\"Untrained Classifier\")\n",
        "\n",
        "    # training loop\n",
        "    for e in range(num_epochs):\n",
        "        # get training input and expected output as torch Variables and make sure type is correct\n",
        "        tr_input = torch.from_numpy(X_tr)\n",
        "        tr_targets = torch.from_numpy(onehot(y_tr, num_output)).float()\n",
        "        \n",
        "        # zeroize accumulated gradients in parameters\n",
        "        optimizer.zero_grad()\n",
        "        # predict by running forward pass\n",
        "        tr_output = net(tr_input)\n",
        "        # compute cross entropy loss\n",
        "        tr_loss = cross_entropy(tr_output, tr_targets)\n",
        "        # compute gradients given loss\n",
        "        tr_loss.backward()\n",
        "        # update the parameters given the computed gradients\n",
        "        optimizer.step()\n",
        "        train_acc = accuracy(tr_output, tr_targets)\n",
        "        \n",
        "        # store training loss\n",
        "        train_losses.append(tr_loss.data.numpy())\n",
        "        train_accs.append(train_acc)\n",
        "        \n",
        "        # get validation input and expected output as torch Variables and make sure type is correct\n",
        "        val_input = torch.from_numpy(X_val)\n",
        "        val_targets = torch.from_numpy(onehot(y_val, num_output)).float()\n",
        "        \n",
        "        # predict with validation input\n",
        "        val_output = net(val_input)\n",
        "        # compute loss and accuracy\n",
        "        val_loss = cross_entropy(val_output, val_targets)\n",
        "        val_acc = accuracy(val_output, val_targets)\n",
        "        \n",
        "        # store loss and accuracy\n",
        "        val_losses.append(val_loss.data.numpy())\n",
        "        val_accs.append(val_acc.data.numpy())\n",
        "        \n",
        "        if e % 100 == 0:\n",
        "            print(\"Epoch %i, \"\n",
        "                  \"Train Cost: %0.3f\"\n",
        "                  \"\\tVal Cost: %0.3f\"\n",
        "                  \"\\t Val acc: %0.3f\" % (e, \n",
        "                                        train_losses[-1],\n",
        "                                        val_losses[-1],\n",
        "                                        val_accs[-1]))\n",
        "            \n",
        "            \n",
        "    # get test input and expected output\n",
        "    te_input = torch.from_numpy(X_te)\n",
        "    te_targets = torch.from_numpy(onehot(y_te, num_output)).float()\n",
        "    # predict on testset\n",
        "    te_output = net(te_input)\n",
        "    # compute loss and accuracy\n",
        "    te_loss = cross_entropy(te_output, te_targets)\n",
        "    te_acc = accuracy(te_output, te_targets)\n",
        "    print(\"\\nTest Cost: %0.3f\\tTest Accuracy: %0.3f\" % (te_loss.data.numpy(), te_acc.data.numpy()))\n",
        "\n",
        "    # plot boundary on testset after training session\n",
        "    plot_decision_boundary(lambda x: pred(x), X_te, y_te)\n",
        "    plt.title(\"Trained Classifier\")\n",
        "\n",
        "    plt.figure()\n",
        "    epoch = np.arange(len(train_losses))\n",
        "    plt.plot(epoch, train_losses, 'r', label='Train Loss')\n",
        "    plt.plot(epoch, val_losses, 'b', label='Val Loss')\n",
        "    plt.legend()\n",
        "    plt.xlabel('Updates')\n",
        "    plt.ylabel('Loss')\n",
        "    plt.show()\n",
        "\n",
        "    plt.figure()\n",
        "    plt.plot(epoch, train_accs, 'r', label='Train Acc')\n",
        "    plt.plot(epoch, val_accs, 'b', label='Val Acc')\n",
        "    plt.legend()\n",
        "    plt.xlabel('Updates')\n",
        "    plt.ylabel('Accuracy')\n",
        "    plt.show()\n",
        "    return"
      ],
      "execution_count": 232,
      "outputs": []
    },
    {
      "cell_type": "code",
      "metadata": {
        "id": "s4msCERgbRzF",
        "outputId": "f343815b-29ae-48d4-9360-908439ba7806",
        "colab": {
          "base_uri": "https://localhost:8080/",
          "height": 1000
        }
      },
      "source": [
        "#trainModel(epochs=1000, units=50) #train error: 0.346 #validation error: 0.381 #test error: 0.328 (one hidden layer - relu + softmax)\n",
        "#trainModel(epochs=1000, units=50) #train error: 0.432 #validation error: 0.448 #test error: 0.410 (one hidden layer - sigmoid + softmax)\n",
        "\n",
        "#trainModel(epochs=1000, units=50)  #train error: 0.238 #validation error: 0.309 #test error: 0.216 (two hidden layers - relu + relu + softmax)\n",
        "#trainModel(epochs=1000, units=50)  #train error: 0.383 #validation error: 0.400 #test error: 0.355 (two hidden layers - sigmoid + sigmoid + softmax)\n",
        "\n",
        "#trainModel(epochs=1000, units=50)  #train error: 0.496 #validation error: 0.508 #test error: 0.474 (three hidden layers - sigmoid + sigmoid + sigmoid + softmax)\n",
        "#trainModel(epochs=1000, units=50)  #train error: 0.080  #validation error: 0.162  #test error: 0.086 (three hidden layers - relu + relu + relu + softmax)\n",
        "\n",
        "#trainModel(epochs=2000, units=100)  #train error: 0.009  #validation error: 0.179  #test error: 0.059 (three hidden layers - relu + relu + relu + softmax) BEST ONE (small overfit tho)\n",
        "#trainModel(epochs=3000, units=200)  #train error: 0.010  #validation error: 0.175  #test error: 0.069 (three hidden layers - relu + relu + relu + softmax)\n",
        "\n",
        "#trainModel(epochs=2000, units=100)  #train error: 0.008  #validation error: 0.398  #test error: 0.074 (four hidden layers - relu + relu + relu + relu + softmax)\n",
        "\n",
        "trainModel(epochs=1000, units=100)  #train error: 0.000  #validation error: 0.506  #test error: 0.144 (three hidden layers - relu + relu + relu + softmax) Using ADAM"
      ],
      "execution_count": 233,
      "outputs": [
        {
          "output_type": "stream",
          "name": "stdout",
          "text": [
            "Epoch 0, Train Cost: 4.063\tVal Cost: 4.175\t Val acc: 0.480\n",
            "Epoch 100, Train Cost: 0.137\tVal Cost: 0.255\t Val acc: 0.880\n",
            "Epoch 200, Train Cost: 0.016\tVal Cost: 0.262\t Val acc: 0.960\n",
            "Epoch 300, Train Cost: 0.002\tVal Cost: 0.327\t Val acc: 0.970\n",
            "Epoch 400, Train Cost: 0.001\tVal Cost: 0.361\t Val acc: 0.970\n",
            "Epoch 500, Train Cost: 0.000\tVal Cost: 0.395\t Val acc: 0.970\n",
            "Epoch 600, Train Cost: 0.000\tVal Cost: 0.428\t Val acc: 0.970\n",
            "Epoch 700, Train Cost: 0.000\tVal Cost: 0.457\t Val acc: 0.970\n",
            "Epoch 800, Train Cost: 0.000\tVal Cost: 0.483\t Val acc: 0.970\n",
            "Epoch 900, Train Cost: 0.000\tVal Cost: 0.506\t Val acc: 0.970\n",
            "\n",
            "Test Cost: 0.144\tTest Accuracy: 0.980\n"
          ]
        },
        {
          "output_type": "display_data",
          "data": {
            "image/png": "[encoded data removed]",
            "text/plain": [
              "<Figure size 432x288 with 1 Axes>"
            ]
          },
          "metadata": {
            "needs_background": "light"
          }
        },
        {
          "output_type": "display_data",
          "data": {
            "image/png": "[encoded data removed]",
            "text/plain": [
              "<Figure size 432x288 with 1 Axes>"
            ]
          },
          "metadata": {
            "needs_background": "light"
          }
        },
        {
          "output_type": "display_data",
          "data": {
            "image/png": "[encoded data removed]",
            "text/plain": [
              "<Figure size 432x288 with 1 Axes>"
            ]
          },
          "metadata": {
            "needs_background": "light"
          }
        },
        {
          "output_type": "display_data",
          "data": {
            "image/png": "[encoded data removed]",
            "text/plain": [
              "<Figure size 432x288 with 1 Axes>"
            ]
          },
          "metadata": {
            "needs_background": "light"
          }
        }
      ]
    },
    {
      "cell_type": "markdown",
      "metadata": {
        "id": "70uFse6jSrT_"
      },
      "source": [
        "# Assignments\n",
        "\n",
        "1. A linear logistic classifier is only able to create a linear decision boundary. Change the Logistic classifier into a (nonlinear) Neural network by inserting a dense hidden layer between the input and output layers of the model\n",
        " \n",
        "2. Experiment with multiple hidden layers or more / less hidden units. What happens to the decision boundary?\n",
        "\n",
        "Using relu the decision boundry is more straight while sigmoid produces wave like boundries. Adding units made the result better (100 was found to be optimal). 3 hidden layers of 100 units produced the best validation and test errors (0.179 and 0.059)\n",
        " \n",
        "3. Overfitting: When increasing the number of hidden layers / units, the neural network will fit the training data better by creating a highly nonlinear decision boundary. If the model is too complex it will often generalize poorly to new data (validation and test set). Can you observe this from the training and validation errors? \n",
        "\n",
        "OVerfitting was achieved using 2000 epochs, 4 hidden layers with 100 units each and relu activation functions. The train error was: 0.008, validation error: 0.398 and test error: 0.074. The graph showed that the train loss was much smaller than validation loss meaning the model does not generalise well.\n",
        " \n",
        "4. We used the vanilla stochastic gradient descent algorithm for parameter updates. This usually converges slowly and more sophisticated pseudo-second-order methods usually work better. Try changing the optimizer to [adam or momentum](http://pytorch.org/docs/master/optim.html#torch.optim.Adam)"
      ]
    },
    {
      "cell_type": "markdown",
      "metadata": {
        "id": "zl8dXCH9SrUA"
      },
      "source": [
        "When you're done, continue to the next part of this lab."
      ]
    }
  ]
}