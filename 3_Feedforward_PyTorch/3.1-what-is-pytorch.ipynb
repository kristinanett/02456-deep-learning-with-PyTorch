{
  "nbformat": 4,
  "nbformat_minor": 0,
  "metadata": {
    "kernelspec": {
      "display_name": "Python 3",
      "language": "python",
      "name": "python3"
    },
    "language_info": {
      "codemirror_mode": {
        "name": "ipython",
        "version": 3
      },
      "file_extension": ".py",
      "mimetype": "text/x-python",
      "name": "python",
      "nbconvert_exporter": "python",
      "pygments_lexer": "ipython3",
      "version": "3.7.2"
    },
    "colab": {
      "name": "3.1-what-is-pytorch.ipynb",
      "provenance": [],
      "include_colab_link": true
    },
    "accelerator": "GPU"
  },
  "cells": [
    {
      "cell_type": "markdown",
      "metadata": {
        "id": "view-in-github",
        "colab_type": "text"
      },
      "source": [
        "<a href=\"https://colab.research.google.com/github/kristinanett/02456-deep-learning-with-PyTorch/blob/master/3_Feedforward_PyTorch/3.1-what-is-pytorch.ipynb\" target=\"_parent\"><img src=\"https://colab.research.google.com/assets/colab-badge.svg\" alt=\"Open In Colab\"/></a>"
      ]
    },
    {
      "cell_type": "markdown",
      "metadata": {
        "id": "hOvBMjal6HfN"
      },
      "source": [
        "# Credits\n",
        "\n",
        "This is heavily influenced or copied from https://github.com/pytorch/tutorials"
      ]
    },
    {
      "cell_type": "markdown",
      "metadata": {
        "id": "fbNqVmZT6Hfl"
      },
      "source": [
        "# What is PyTorch?\n",
        "\n",
        "> **NOTE** In the last part of this lab cuda is used. If you have a cuda enabled machine, read the README.md in the root of this repo on how to use nvidia-docker.\n",
        "\n",
        "\n",
        "It’s a Python based scientific computing package targeted at two sets of\n",
        "audiences:\n",
        "-  A replacement for numpy to use the power of GPUs\n",
        "-  a deep learning research platform that provides maximum flexibility\n",
        "   and speed\n"
      ]
    },
    {
      "cell_type": "markdown",
      "metadata": {
        "id": "xN7G-kIv6Hfp"
      },
      "source": [
        "# Getting Started\n",
        "\n",
        "In this lab you will get a quick start on what pytorch is and how to use it.\n",
        "\n",
        "## 1. Tensors\n",
        "\n",
        "Tensors are similar to numpy’s ndarrays, with the addition being that\n",
        "Tensors can also be used on a GPU to accelerate computing."
      ]
    },
    {
      "cell_type": "code",
      "metadata": {
        "id": "XjaogQ2w6Hft"
      },
      "source": [
        "import torch"
      ],
      "execution_count": 2,
      "outputs": []
    },
    {
      "cell_type": "markdown",
      "metadata": {
        "id": "jvRBV52Y6Hfx"
      },
      "source": [
        "Construct a 5x3 matrix, uninitialized"
      ]
    },
    {
      "cell_type": "code",
      "metadata": {
        "scrolled": false,
        "id": "hk0nXioW6Hfz",
        "outputId": "a3a6602b-e64a-4ac6-b96c-e6e2d4893cfe",
        "colab": {
          "base_uri": "https://localhost:8080/"
        }
      },
      "source": [
        "x = torch.Tensor(5, 3)\n",
        "print(x)"
      ],
      "execution_count": 3,
      "outputs": [
        {
          "output_type": "stream",
          "name": "stdout",
          "text": [
            "tensor([[1.3495e+30, 3.0962e-41, 3.7835e-44],\n",
            "        [0.0000e+00,        nan, 3.0962e-41],\n",
            "        [1.3733e-14, 6.4069e+02, 4.3066e+21],\n",
            "        [1.1824e+22, 4.3066e+21, 6.3828e+28],\n",
            "        [3.8016e-39, 3.0962e-41, 3.5148e+29]])\n"
          ]
        }
      ]
    },
    {
      "cell_type": "markdown",
      "metadata": {
        "id": "46dAyUO66Hf1"
      },
      "source": [
        "Construct a randomly initialized matrix"
      ]
    },
    {
      "cell_type": "code",
      "metadata": {
        "id": "PLh-DTS96Hf2",
        "outputId": "90627976-84c7-4be2-ca8a-c11acf7f65cf",
        "colab": {
          "base_uri": "https://localhost:8080/"
        }
      },
      "source": [
        "x = torch.rand(5, 3)\n",
        "print(x)"
      ],
      "execution_count": 4,
      "outputs": [
        {
          "output_type": "stream",
          "name": "stdout",
          "text": [
            "tensor([[0.3878, 0.5127, 0.1098],\n",
            "        [0.8145, 0.6383, 0.2991],\n",
            "        [0.4723, 0.1406, 0.8021],\n",
            "        [0.9423, 0.9877, 0.7174],\n",
            "        [0.2497, 0.6621, 0.6350]])\n"
          ]
        }
      ]
    },
    {
      "cell_type": "markdown",
      "metadata": {
        "id": "ihSe_fDa6Hf3"
      },
      "source": [
        "Get its size"
      ]
    },
    {
      "cell_type": "code",
      "metadata": {
        "id": "uL0i6ugc6Hf4",
        "outputId": "19acb309-b415-4bf3-e587-9a99f0553a17",
        "colab": {
          "base_uri": "https://localhost:8080/"
        }
      },
      "source": [
        "print(x.size())"
      ],
      "execution_count": 5,
      "outputs": [
        {
          "output_type": "stream",
          "name": "stdout",
          "text": [
            "torch.Size([5, 3])\n"
          ]
        }
      ]
    },
    {
      "cell_type": "markdown",
      "metadata": {
        "id": "EKqWvfxr6Hf5"
      },
      "source": [
        "**NOTE** `torch.Size` is in fact a tuple, so it supports the same operations"
      ]
    },
    {
      "cell_type": "code",
      "metadata": {
        "id": "PNCj4d4P6Hf6",
        "outputId": "2c04e3a4-1b76-4341-a498-5566ffa914b7",
        "colab": {
          "base_uri": "https://localhost:8080/"
        }
      },
      "source": [
        "x[1:3] = 2\n",
        "print(x)"
      ],
      "execution_count": 6,
      "outputs": [
        {
          "output_type": "stream",
          "name": "stdout",
          "text": [
            "tensor([[0.3878, 0.5127, 0.1098],\n",
            "        [2.0000, 2.0000, 2.0000],\n",
            "        [2.0000, 2.0000, 2.0000],\n",
            "        [0.9423, 0.9877, 0.7174],\n",
            "        [0.2497, 0.6621, 0.6350]])\n"
          ]
        }
      ]
    },
    {
      "cell_type": "markdown",
      "metadata": {
        "id": "rLvJNp3C6Hf6"
      },
      "source": [
        "# Assignment\n",
        "\n",
        "Make use of the pytorch docs <http://pytorch.org/docs/torch>\n",
        "1. Make a tensor of size (2, 17)\n",
        "2. Make a torch.FloatTensor of size (3, 1)\n",
        "3. Make a torch.LongTensor of size (5, 2, 1)\n",
        "  - fill the entire tensor with 7s\n",
        "4. Make a torch.ByteTensor of size (5,)\n",
        "  - fill the middle 3 indices with ones such that it records [0, 1, 1, 1, 0]"
      ]
    },
    {
      "cell_type": "code",
      "metadata": {
        "id": "gBtNlO4G7Z99",
        "outputId": "5c8f2319-4fd3-404f-e2f4-3e8aab659476",
        "colab": {
          "base_uri": "https://localhost:8080/"
        }
      },
      "source": [
        "#Tensor of size (2, 17)\n",
        "\n",
        "t = torch.Tensor(2, 17)\n",
        "print(t)"
      ],
      "execution_count": 7,
      "outputs": [
        {
          "output_type": "stream",
          "name": "stdout",
          "text": [
            "tensor([[1.3020e+30, 3.0962e-41, 0.0000e+00, 0.0000e+00, 1.4013e-45, 0.0000e+00,\n",
            "         0.0000e+00, 0.0000e+00, 0.0000e+00, 0.0000e+00, 0.0000e+00, 0.0000e+00,\n",
            "         1.3474e+30, 3.0962e-41, 0.0000e+00, 0.0000e+00, 1.4013e-45],\n",
            "        [0.0000e+00, 4.2039e-45, 0.0000e+00, 0.0000e+00, 0.0000e+00, 0.0000e+00,\n",
            "         0.0000e+00, 0.0000e+00, 0.0000e+00, 0.0000e+00, 0.0000e+00, 1.4013e-45,\n",
            "         0.0000e+00, 0.0000e+00, 0.0000e+00, 0.0000e+00, 0.0000e+00]])\n"
          ]
        }
      ]
    },
    {
      "cell_type": "code",
      "metadata": {
        "id": "Ed_GLgR3788y",
        "outputId": "dc33cab2-1eb7-4f80-b450-f27c23ed6518",
        "colab": {
          "base_uri": "https://localhost:8080/"
        }
      },
      "source": [
        "#Float tensor of size (3,1)\n",
        "\n",
        "t = torch.FloatTensor(3,1)\n",
        "print(t)"
      ],
      "execution_count": 8,
      "outputs": [
        {
          "output_type": "stream",
          "name": "stdout",
          "text": [
            "tensor([[1.3495e+30],\n",
            "        [3.0962e-41],\n",
            "        [2.3694e-38]])\n"
          ]
        }
      ]
    },
    {
      "cell_type": "code",
      "metadata": {
        "id": "Yd3b9Ost8ddH",
        "outputId": "c2c26e2b-0845-4242-e41c-5f8b62d7204c",
        "colab": {
          "base_uri": "https://localhost:8080/"
        }
      },
      "source": [
        "# Long tensor of size (5, 2, 1) and change all values to 7\n",
        "\n",
        "t = torch.LongTensor(5, 2, 1)\n",
        "print(t)\n",
        "print()\n",
        "\n",
        "t[:,:,:] = 7\n",
        "print(t)"
      ],
      "execution_count": 9,
      "outputs": [
        {
          "output_type": "stream",
          "name": "stdout",
          "text": [
            "tensor([[[94899207126400],\n",
            "         [  210453397554]],\n",
            "\n",
            "        [[  206158430253],\n",
            "         [  193273528377]],\n",
            "\n",
            "        [[  219043332145],\n",
            "         [  210453397588]],\n",
            "\n",
            "        [[  249108103218],\n",
            "         [  214748364851]],\n",
            "\n",
            "        [[  227633266746],\n",
            "         [  197568495664]]])\n",
            "\n",
            "tensor([[[7],\n",
            "         [7]],\n",
            "\n",
            "        [[7],\n",
            "         [7]],\n",
            "\n",
            "        [[7],\n",
            "         [7]],\n",
            "\n",
            "        [[7],\n",
            "         [7]],\n",
            "\n",
            "        [[7],\n",
            "         [7]]])\n"
          ]
        }
      ]
    },
    {
      "cell_type": "code",
      "metadata": {
        "id": "aP6x0lHm-tpX",
        "outputId": "5dc4dcf5-0f42-4737-91dd-7fee04814511",
        "colab": {
          "base_uri": "https://localhost:8080/"
        }
      },
      "source": [
        "#Make a torch.ByteTensor of size (5,) + fill the middle 3 indices with ones such that it records [0, 1, 1, 1, 0]\n",
        "\n",
        "t = torch.ByteTensor(5) \n",
        "print(t)\n",
        "\n",
        "t[1:4] = 1\n",
        "print(t)"
      ],
      "execution_count": 10,
      "outputs": [
        {
          "output_type": "stream",
          "name": "stdout",
          "text": [
            "tensor([ 64,  69, 136, 113,  79], dtype=torch.uint8)\n",
            "tensor([64,  1,  1,  1, 79], dtype=torch.uint8)\n"
          ]
        }
      ]
    },
    {
      "cell_type": "markdown",
      "metadata": {
        "id": "WivQ4lwL6Hf7"
      },
      "source": [
        "## 2. Operations\n",
        "There are multiple syntaxes for operations. Let's see addition as an example:\n",
        "\n",
        "### 2.1 Addition: syntax 1"
      ]
    },
    {
      "cell_type": "code",
      "metadata": {
        "id": "WIOGqp086Hf8",
        "outputId": "6bcf6b75-9b69-49ef-9255-991d80da4f38",
        "colab": {
          "base_uri": "https://localhost:8080/"
        }
      },
      "source": [
        "y = torch.rand(5, 3)\n",
        "print(x + y)"
      ],
      "execution_count": 11,
      "outputs": [
        {
          "output_type": "stream",
          "name": "stdout",
          "text": [
            "tensor([[0.8678, 1.1455, 0.2772],\n",
            "        [2.0177, 2.1097, 2.7128],\n",
            "        [2.2940, 2.0204, 2.7143],\n",
            "        [1.0639, 1.7897, 0.9001],\n",
            "        [0.5748, 1.0544, 1.1323]])\n"
          ]
        }
      ]
    },
    {
      "cell_type": "markdown",
      "metadata": {
        "id": "IHcG3Jth6Hf8"
      },
      "source": [
        "### 2.2 Addition: syntax 2"
      ]
    },
    {
      "cell_type": "code",
      "metadata": {
        "id": "ikYSUHEW6Hf8",
        "outputId": "f2ee72d5-7933-4947-8bb0-ac12dfb66813",
        "colab": {
          "base_uri": "https://localhost:8080/"
        }
      },
      "source": [
        "print(torch.add(x, y))"
      ],
      "execution_count": 12,
      "outputs": [
        {
          "output_type": "stream",
          "name": "stdout",
          "text": [
            "tensor([[0.8678, 1.1455, 0.2772],\n",
            "        [2.0177, 2.1097, 2.7128],\n",
            "        [2.2940, 2.0204, 2.7143],\n",
            "        [1.0639, 1.7897, 0.9001],\n",
            "        [0.5748, 1.0544, 1.1323]])\n"
          ]
        }
      ]
    },
    {
      "cell_type": "markdown",
      "metadata": {
        "id": "Sra-aSCN6Hf9"
      },
      "source": [
        "### 2.3 Addition: giving an output tensor"
      ]
    },
    {
      "cell_type": "code",
      "metadata": {
        "id": "Osir6Wrn6Hf9",
        "outputId": "deed9b81-236e-4257-9d5a-ffdb9336deee",
        "colab": {
          "base_uri": "https://localhost:8080/"
        }
      },
      "source": [
        "result = torch.Tensor(5, 3)\n",
        "torch.add(x, y, out=result)\n",
        "print(result)"
      ],
      "execution_count": 13,
      "outputs": [
        {
          "output_type": "stream",
          "name": "stdout",
          "text": [
            "tensor([[0.8678, 1.1455, 0.2772],\n",
            "        [2.0177, 2.1097, 2.7128],\n",
            "        [2.2940, 2.0204, 2.7143],\n",
            "        [1.0639, 1.7897, 0.9001],\n",
            "        [0.5748, 1.0544, 1.1323]])\n"
          ]
        }
      ]
    },
    {
      "cell_type": "markdown",
      "metadata": {
        "id": "mW0YqTRw6Hf9"
      },
      "source": [
        "### 2.4 Addition: in-place\n",
        "\n",
        "adds `x`to `y`"
      ]
    },
    {
      "cell_type": "code",
      "metadata": {
        "id": "n3dsxq0g6Hf-",
        "outputId": "3590bd65-b511-41b0-eb34-6b7968a834de",
        "colab": {
          "base_uri": "https://localhost:8080/"
        }
      },
      "source": [
        "y.add_(x)\n",
        "print(y)"
      ],
      "execution_count": 14,
      "outputs": [
        {
          "output_type": "stream",
          "name": "stdout",
          "text": [
            "tensor([[0.8678, 1.1455, 0.2772],\n",
            "        [2.0177, 2.1097, 2.7128],\n",
            "        [2.2940, 2.0204, 2.7143],\n",
            "        [1.0639, 1.7897, 0.9001],\n",
            "        [0.5748, 1.0544, 1.1323]])\n"
          ]
        }
      ]
    },
    {
      "cell_type": "markdown",
      "metadata": {
        "id": "LHeWbHlX6Hf-"
      },
      "source": [
        "**NOTE** Any operation that mutates a tensor in-place is post-fixed with an `_`. For example: `x.copy_(y)`, `x.t_()`, will change `x`."
      ]
    },
    {
      "cell_type": "markdown",
      "metadata": {
        "id": "qRxPSXH26Hf_"
      },
      "source": [
        "You can use standard numpy-like indexing with all bells and whistles!"
      ]
    },
    {
      "cell_type": "code",
      "metadata": {
        "id": "JPXEk3qM6Hf_",
        "outputId": "8bab0b53-54b1-4e35-93b4-592ad7963954",
        "colab": {
          "base_uri": "https://localhost:8080/"
        }
      },
      "source": [
        "print(x[:, 1])"
      ],
      "execution_count": 15,
      "outputs": [
        {
          "output_type": "stream",
          "name": "stdout",
          "text": [
            "tensor([0.5127, 2.0000, 2.0000, 0.9877, 0.6621])\n"
          ]
        }
      ]
    },
    {
      "cell_type": "markdown",
      "metadata": {
        "id": "BElP_93E6Hf_"
      },
      "source": [
        "**Read later** 100+ Tensor operations, including transposing, indexing, slicing, mathematical operations, linear algebra, random numbers, etc are described here <http://pytorch.org/docs/torch>"
      ]
    },
    {
      "cell_type": "markdown",
      "metadata": {
        "id": "gY0lfqsH6HgA"
      },
      "source": [
        "# Assignment\n",
        "\n",
        "1. multiplication of two tensors (see [torch.Tensor.mul](http://pytorch.org/docs/master/tensors.html#torch.Tensor.mul))\n",
        "2. do the same, but inplace\n",
        "3. division of two tensors (see [torch.Tensor.div](http://pytorch.org/docs/master/tensors.html#torch.Tensor.div))\n",
        "4. perform a matrix multiplication of two tensors of size (2, 4) and (4, 2)"
      ]
    },
    {
      "cell_type": "code",
      "metadata": {
        "id": "R11nQSo4EK9K",
        "outputId": "5cfc6745-3331-4250-c445-c15010f2b0f6",
        "colab": {
          "base_uri": "https://localhost:8080/"
        }
      },
      "source": [
        "#Tensor multiplication \n",
        "w = torch.full((3, 3), 2)\n",
        "q = torch.full((3, 3), 5)\n",
        "\n",
        "out = torch.mul(w, q)\n",
        "print(out)"
      ],
      "execution_count": 16,
      "outputs": [
        {
          "output_type": "stream",
          "name": "stdout",
          "text": [
            "tensor([[10, 10, 10],\n",
            "        [10, 10, 10],\n",
            "        [10, 10, 10]])\n"
          ]
        }
      ]
    },
    {
      "cell_type": "code",
      "metadata": {
        "id": "5hvp5SmNFgP-",
        "outputId": "d95489e3-21ba-483f-bde1-1f5beefd924c",
        "colab": {
          "base_uri": "https://localhost:8080/"
        }
      },
      "source": [
        "#Tensor in-place multiplication\n",
        "w = torch.full((3, 3), 2)\n",
        "q = torch.full((3, 3), 5)\n",
        "\n",
        "q.mul_(w)\n",
        "print(q)"
      ],
      "execution_count": 17,
      "outputs": [
        {
          "output_type": "stream",
          "name": "stdout",
          "text": [
            "tensor([[10, 10, 10],\n",
            "        [10, 10, 10],\n",
            "        [10, 10, 10]])\n"
          ]
        }
      ]
    },
    {
      "cell_type": "code",
      "metadata": {
        "id": "OmXeps9DFzPq",
        "outputId": "6c4ec8f3-9bc5-4d84-a12d-46a29c27eabe",
        "colab": {
          "base_uri": "https://localhost:8080/"
        }
      },
      "source": [
        "#Tensor division\n",
        "w = torch.full((3, 3), 10)\n",
        "q = torch.full((3, 3), 5)\n",
        "\n",
        "out = torch.div(w, q)\n",
        "print(out)"
      ],
      "execution_count": 18,
      "outputs": [
        {
          "output_type": "stream",
          "name": "stdout",
          "text": [
            "tensor([[2., 2., 2.],\n",
            "        [2., 2., 2.],\n",
            "        [2., 2., 2.]])\n"
          ]
        }
      ]
    },
    {
      "cell_type": "code",
      "metadata": {
        "id": "72z85-byGSDX",
        "outputId": "98129b8b-33de-4ef8-ec71-60aab522bbc1",
        "colab": {
          "base_uri": "https://localhost:8080/"
        }
      },
      "source": [
        "#Matrix multiplication\n",
        "\n",
        "w = torch.full((2, 4), 2)\n",
        "q = torch.full((4, 2), 5)\n",
        "\n",
        "out = torch.matmul(w, q)\n",
        "print(out)\n"
      ],
      "execution_count": 19,
      "outputs": [
        {
          "output_type": "stream",
          "name": "stdout",
          "text": [
            "tensor([[40, 40],\n",
            "        [40, 40]])\n"
          ]
        }
      ]
    },
    {
      "cell_type": "markdown",
      "metadata": {
        "id": "l9i882E26HgA"
      },
      "source": [
        "## 3. Numpy Bridge\n",
        "\n",
        "Converting a torch Tensor to a numpy array and vice versa is a breeze.\n",
        "\n",
        "The torch Tensor and numpy array will share their underlying memory locations, and changing one will change the other.\n",
        "\n",
        "### 3.1 Converting torch Tensor to numpy Array"
      ]
    },
    {
      "cell_type": "code",
      "metadata": {
        "id": "ApF57sal6HgA",
        "outputId": "dc8aed1a-c09f-448e-ffae-1b0b592178dd",
        "colab": {
          "base_uri": "https://localhost:8080/"
        }
      },
      "source": [
        "a = torch.ones(5)\n",
        "print(a)"
      ],
      "execution_count": 20,
      "outputs": [
        {
          "output_type": "stream",
          "name": "stdout",
          "text": [
            "tensor([1., 1., 1., 1., 1.])\n"
          ]
        }
      ]
    },
    {
      "cell_type": "code",
      "metadata": {
        "id": "70X0PyrL6HgB",
        "outputId": "7ae75ede-4ef9-400d-f6d7-6b961d0651ab",
        "colab": {
          "base_uri": "https://localhost:8080/"
        }
      },
      "source": [
        "b = a.numpy()\n",
        "print(b)"
      ],
      "execution_count": 21,
      "outputs": [
        {
          "output_type": "stream",
          "name": "stdout",
          "text": [
            "[1. 1. 1. 1. 1.]\n"
          ]
        }
      ]
    },
    {
      "cell_type": "markdown",
      "metadata": {
        "id": "CktyTWRF6HgB"
      },
      "source": [
        "See how the numpy array changed in value."
      ]
    },
    {
      "cell_type": "code",
      "metadata": {
        "id": "u_tGqnQ96HgB",
        "outputId": "10532a1c-2f67-4981-aea5-332f1df15e90",
        "colab": {
          "base_uri": "https://localhost:8080/"
        }
      },
      "source": [
        "a.add_(1)\n",
        "print(a)\n",
        "print(b)"
      ],
      "execution_count": 22,
      "outputs": [
        {
          "output_type": "stream",
          "name": "stdout",
          "text": [
            "tensor([2., 2., 2., 2., 2.])\n",
            "[2. 2. 2. 2. 2.]\n"
          ]
        }
      ]
    },
    {
      "cell_type": "markdown",
      "metadata": {
        "id": "nyCiuH_b6HgC"
      },
      "source": [
        "### 3.2 Converting numpy Array to torch Tensor\n",
        "\n",
        "See how changing the np array changed the torch Tensor automatically"
      ]
    },
    {
      "cell_type": "code",
      "metadata": {
        "id": "I_nbPh2q6HgC",
        "outputId": "b2a5b96f-1a9a-4b8d-f317-6421709e431e",
        "colab": {
          "base_uri": "https://localhost:8080/"
        }
      },
      "source": [
        "import numpy as np\n",
        "a = np.ones(5)\n",
        "b = torch.from_numpy(a)\n",
        "np.add(a, 1, out=a)\n",
        "print(a)\n",
        "print(b)"
      ],
      "execution_count": 23,
      "outputs": [
        {
          "output_type": "stream",
          "name": "stdout",
          "text": [
            "[2. 2. 2. 2. 2.]\n",
            "tensor([2., 2., 2., 2., 2.], dtype=torch.float64)\n"
          ]
        }
      ]
    },
    {
      "cell_type": "markdown",
      "metadata": {
        "id": "9c_2FSC-6HgE"
      },
      "source": [
        "# Assignment\n",
        "\n",
        "1. create a tensor of size (5, 2) containing ones\n",
        "2. now convert it to a numpy array\n",
        "3. now convert it back to a torch tensor"
      ]
    },
    {
      "cell_type": "code",
      "metadata": {
        "id": "vf7uOmQCIDzw",
        "outputId": "dc0dae28-883b-4124-b566-0e80a070f354",
        "colab": {
          "base_uri": "https://localhost:8080/"
        }
      },
      "source": [
        "#Tensor of 1s into a np array and back to tensor\n",
        "\n",
        "t = torch.ones(5, 2)\n",
        "print(t)\n",
        "\n",
        "a = t.numpy()\n",
        "print(a)\n",
        "\n",
        "t_again = torch.from_numpy(a)\n",
        "print(t_again)\n"
      ],
      "execution_count": 24,
      "outputs": [
        {
          "output_type": "stream",
          "name": "stdout",
          "text": [
            "tensor([[1., 1.],\n",
            "        [1., 1.],\n",
            "        [1., 1.],\n",
            "        [1., 1.],\n",
            "        [1., 1.]])\n",
            "[[1. 1.]\n",
            " [1. 1.]\n",
            " [1. 1.]\n",
            " [1. 1.]\n",
            " [1. 1.]]\n",
            "tensor([[1., 1.],\n",
            "        [1., 1.],\n",
            "        [1., 1.],\n",
            "        [1., 1.],\n",
            "        [1., 1.]])\n"
          ]
        }
      ]
    },
    {
      "cell_type": "markdown",
      "metadata": {
        "id": "XCcHslIE6HgF"
      },
      "source": [
        "All the Tensors on the CPU except a CharTensor support converting to NumPy and back.\n",
        "\n",
        "## 4 CUDA Tensors\n",
        "\n",
        "Tensors can be moved onto GPU using the `.cuda` function.\n",
        "This is not necessary, but check the `README.md` for details on how to use a GPU with docker."
      ]
    },
    {
      "cell_type": "code",
      "metadata": {
        "id": "s1cW5YE-6HgF",
        "outputId": "32090d04-3ddf-4d44-f9cc-637b035ab31a",
        "colab": {
          "base_uri": "https://localhost:8080/"
        }
      },
      "source": [
        "# let us run this cell only if CUDA is available\n",
        "if torch.cuda.is_available():\n",
        "    x = x.cuda()\n",
        "    y = y.cuda()\n",
        "    z = x + y\n",
        "    # notice that the tensors are now of type torch.cuda.FloatTensor (notice the cuda in there)\n",
        "    # this is meant as a tensor to be run on the GPU.\n",
        "    # the .cuda() does this to any parameter it is applied to\n",
        "    print(x)\n",
        "    print(y)\n",
        "    print(z)\n",
        "else:\n",
        "    print(\"CUDA not available on your machine.\")"
      ],
      "execution_count": 25,
      "outputs": [
        {
          "output_type": "stream",
          "name": "stdout",
          "text": [
            "tensor([[0.3878, 0.5127, 0.1098],\n",
            "        [2.0000, 2.0000, 2.0000],\n",
            "        [2.0000, 2.0000, 2.0000],\n",
            "        [0.9423, 0.9877, 0.7174],\n",
            "        [0.2497, 0.6621, 0.6350]], device='cuda:0')\n",
            "tensor([[0.8678, 1.1455, 0.2772],\n",
            "        [2.0177, 2.1097, 2.7128],\n",
            "        [2.2940, 2.0204, 2.7143],\n",
            "        [1.0639, 1.7897, 0.9001],\n",
            "        [0.5748, 1.0544, 1.1323]], device='cuda:0')\n",
            "tensor([[1.2556, 1.6582, 0.3870],\n",
            "        [4.0177, 4.1097, 4.7128],\n",
            "        [4.2940, 4.0204, 4.7143],\n",
            "        [2.0062, 2.7774, 1.6176],\n",
            "        [0.8245, 1.7165, 1.7672]], device='cuda:0')\n"
          ]
        }
      ]
    },
    {
      "cell_type": "code",
      "metadata": {
        "id": "gYbcp1iX6HgF"
      },
      "source": [
        ""
      ],
      "execution_count": 25,
      "outputs": []
    }
  ]
}