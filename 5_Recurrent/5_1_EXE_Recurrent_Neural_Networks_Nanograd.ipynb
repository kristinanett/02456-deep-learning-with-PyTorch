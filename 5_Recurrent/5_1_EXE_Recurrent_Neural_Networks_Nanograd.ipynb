{
  "nbformat": 4,
  "nbformat_minor": 0,
  "metadata": {
    "colab": {
      "name": "5.1-EXE-Recurrent-Neural-Networks-Nanograd.ipynb",
      "provenance": [],
      "collapsed_sections": [
        "bdA4LPsFiACe",
        "cGSoDRgHk2g1",
        "Dzmryk72k2g-",
        "M93ORx95k2ix"
      ],
      "include_colab_link": true
    },
    "kernelspec": {
      "display_name": "Python 3",
      "language": "python",
      "name": "python3"
    },
    "language_info": {
      "codemirror_mode": {
        "name": "ipython",
        "version": 3
      },
      "file_extension": ".py",
      "mimetype": "text/x-python",
      "name": "python",
      "nbconvert_exporter": "python",
      "pygments_lexer": "ipython3",
      "version": "3.8.5"
    }
  },
  "cells": [
    {
      "cell_type": "markdown",
      "metadata": {
        "id": "view-in-github",
        "colab_type": "text"
      },
      "source": [
        "<a href=\"https://colab.research.google.com/github/kristinanett/02456-deep-learning-with-PyTorch/blob/master/5_Recurrent/5_1_EXE_Recurrent_Neural_Networks_Nanograd.ipynb\" target=\"_parent\"><img src=\"https://colab.research.google.com/assets/colab-badge.svg\" alt=\"Open In Colab\"/></a>"
      ]
    },
    {
      "cell_type": "markdown",
      "metadata": {
        "id": "y-CptVs7iACc"
      },
      "source": [
        "# Week 5 - Recurrent Neural Networks\n",
        "\n",
        "In this lab, we will introduce different ways of learning from sequential data.\n",
        "\n",
        "As a recurring example, we will train neural networks to do language modelling, i.e. predict the next token in a sentence. In the context of natural language processing a token could be a character or a word, but mind you that the concepts introduced here apply to all kinds of sequential data, such as e.g. protein sequences, weather measurements, audio signals, or videos, just to name a few.\n",
        "\n",
        "To really get a grasp of what is going on inside a recurrent neural network (RNN), we will carry out a substantial part of this exercise in Nanograd rather than PyTorch. \n",
        "\n",
        "We start off with a simple toy problem, build an RNN using Nanograd, train it, and see for ourselves that it really works. Once we're convinced, you will implement the Long Short-Term Memory (LSTM) cell, also in Nanograd. \n",
        "\n",
        "This is *not* simple but with the DenseLayer class we already have, it is doable. Having done it yourself will help you understand what happens under the hood of the PyTorch code we will use throughout the course.\n",
        "\n",
        "To summarize, in this notebook we will show you:\n",
        "* How to represent sequences of categorical variables\n",
        "* How to build and train an RNN in Nanograd\n",
        "* How to build and train an LSTM network in Nanograd\n",
        "* How to build and train an LSTM network in PyTorch\n",
        "\n",
        "\n",
        "[Numpy version of the Notebook (previous version)](https://github.com/DeepLearningDTU/02456-deep-learning-with-PyTorch/blob/master/5_Recurrent/OLD-5.1-Numpy-Recurrent-Neural-Networks.ipynb)"
      ]
    },
    {
      "cell_type": "markdown",
      "metadata": {
        "id": "XapO8SLwiACd"
      },
      "source": [
        "## Representing tokens or text\n",
        "\n",
        "In previous labs we mainly considered data $x \\in \\mathbb{R}^d$, where $d$ is the feature space dimension.\n",
        "With time sequences our data can be represented as $x \\in \\mathbb{R}^{t \\, \\times \\, d}$, where $t$ is the sequence length. \n",
        "This emphasises sequence dependence and that the samples along the sequence are not independent and identically distributed (i.i.d.).\n",
        "\n",
        "With RNNs, we can model both many-to-one functions: $\\mathbb{R}^{t \\, \\times \\, d} \\rightarrow \\mathbb{R}^c$ and many-to-many functions: $\\mathbb{R}^{t \\, \\times \\, d} \\rightarrow \\mathbb{R}^{t \\, \\times \\, c}$, where $c$ is the amount of classes/output dimensions.\n",
        "\n",
        "There are several ways to represent sequences. With text, the challenge is how to represent a word as a feature vector in $d$ dimensions, as we are required to represent text with decimal numbers in order to apply neural networks to it.\n",
        "\n",
        "In this exercise we will use a simple one-hot encoding but for categorical variables that can take on many values (e.g. words in the English language) this may be infeasible. For such scenarios, you can project the encodings into a smaller space by use of embeddings. If you want to learn more about tokens, encodings and embeddings than what is covered in this exercise, we highly recommend [this lecture](https://www.youtube.com/watch?v=kEMJRjEdNzM&list=PLoROMvodv4rOhcuXMZkNm7j3fVwBBY42z)."
      ]
    },
    {
      "cell_type": "markdown",
      "metadata": {
        "id": "bdA4LPsFiACe"
      },
      "source": [
        "### One-hot encoding over vocabulary\n",
        "\n",
        "One way to represent a fixed amount of words is by making a one-hot encoded vector, which consists of 0s in all cells with the exception of a single 1 in a cell used uniquely to identify each word.\n",
        "\n",
        "| vocabulary    | one-hot encoded vector   |\n",
        "| ------------- |--------------------------|\n",
        "| Paris         | $= [1, 0, 0, \\ldots, 0]$ |\n",
        "| Rome          | $= [0, 1, 0, \\ldots, 0]$ |\n",
        "| Copenhagen    | $= [0, 0, 1, \\ldots, 0]$ |\n",
        "\n",
        "Representing a large vocabulary with one-hot encodings often becomes inefficient because of the size of each sparse vector.\n",
        "To overcome this challenge it is common practice to truncate the vocabulary to contain the $k$ most used words and represent the rest with a special symbol, $\\mathtt{UNK}$, to define unknown/unimportant words.\n",
        "This often causes entities such as names to be represented with $\\mathtt{UNK}$ because they are rare.\n",
        "\n",
        "Consider the following text\n",
        "> I love the corny jokes in Spielberg's new movie.\n",
        "\n",
        "where an example result would be similar to\n",
        "> I love the corny jokes in $\\mathtt{UNK}$'s new movie."
      ]
    },
    {
      "cell_type": "markdown",
      "metadata": {
        "id": "KNmyPw7zk2gY"
      },
      "source": [
        "## Generating a dataset"
      ]
    },
    {
      "cell_type": "markdown",
      "metadata": {
        "id": "M9IEA4t2k2gb"
      },
      "source": [
        "For this exercise we will create a simple dataset that we can learn from. We generate sequences of the form:\n",
        "\n",
        "`a b EOS`,\n",
        "\n",
        "`a a b b EOS`,\n",
        "\n",
        "`a a a a a b b b b b EOS`\n",
        "\n",
        "where `EOS` is a special character denoting the end of a sequence. The task is to predict the next token $t_n$, i.e. `a`, `b`, `EOS` or the unknown token `UNK` given a sequence of tokens $\\{ t_{1}, t_{2}, \\dots , t_{n-1}\\}$, and we are to process sequences in a sequential manner. As such, the network will need to learn that e.g. 5 `b`s and an `EOS` token will follow 5 `a`s."
      ]
    },
    {
      "cell_type": "code",
      "metadata": {
        "id": "dcoN-kb7k2gc",
        "colab": {
          "base_uri": "https://localhost:8080/"
        },
        "outputId": "14fd80be-9f1f-421a-b105-607910db0e27"
      },
      "source": [
        "import numpy as np\n",
        "\n",
        "# Set seed such that we always get the same dataset\n",
        "# (this is a good idea in general)\n",
        "np.random.seed(42)\n",
        "\n",
        "def generate_dataset(num_sequences=2**5):\n",
        "    \"\"\"\n",
        "    Generates a number of sequences as our dataset.\n",
        "    \n",
        "    Args:\n",
        "     `num_sequences`: the number of sequences to be generated.\n",
        "     \n",
        "    Returns a list of sequences.\n",
        "    \"\"\"\n",
        "    samples = []\n",
        "    \n",
        "    for _ in range(num_sequences): \n",
        "        num_tokens = np.random.randint(1, 4)\n",
        "        sample = ['a'] * num_tokens + ['b'] * num_tokens + ['EOS']\n",
        "        samples.append(sample)\n",
        "        \n",
        "    return samples\n",
        "\n",
        "\n",
        "sequences = generate_dataset()\n",
        "\n",
        "print('A single sample from the generated dataset:')\n",
        "print(sequences[0])"
      ],
      "execution_count": 77,
      "outputs": [
        {
          "output_type": "stream",
          "name": "stdout",
          "text": [
            "A single sample from the generated dataset:\n",
            "['a', 'a', 'a', 'b', 'b', 'b', 'EOS']\n"
          ]
        }
      ]
    },
    {
      "cell_type": "markdown",
      "metadata": {
        "id": "YMLd3Gzak2gp"
      },
      "source": [
        "## Representing tokens as indices"
      ]
    },
    {
      "cell_type": "markdown",
      "metadata": {
        "id": "S9LSqaJSk2gp"
      },
      "source": [
        "To build a one-hot encoding, we need to assign each possible word in our vocabulary an index. We do that by creating two dictionaries: one that allows us to go from a given word to its corresponding index in our vocabulary, and one for the reverse direction. Let's call them `word_to_idx` and `idx_to_word`. The keyword `vocab_size` specifies the maximum size of our vocabulary. If we try to access a word that does not exist in our vocabulary, it is automatically replaced by the `UNK` token or its corresponding index."
      ]
    },
    {
      "cell_type": "markdown",
      "metadata": {
        "id": "sNY1OOS_k2gy"
      },
      "source": [
        "## Exercise a) Sequence to dictionary function \n",
        "\n",
        "Complete the sequences_to_dicts function below. You will need to fill the word_to_idx and idx_to_word dictionaries so that we can go back and forth between the two representations."
      ]
    },
    {
      "cell_type": "code",
      "metadata": {
        "id": "Smdo70UMk2gr",
        "colab": {
          "base_uri": "https://localhost:8080/"
        },
        "outputId": "449d8765-2509-410e-f9e7-f78f53c4b728"
      },
      "source": [
        "from collections import defaultdict\n",
        "\n",
        "def sequences_to_dicts(sequences):\n",
        "    \"\"\"\n",
        "    Creates word_to_idx and idx_to_word dictionaries for a list of sequences.\n",
        "    \"\"\"\n",
        "    # A bit of Python-magic to flatten a nested list\n",
        "    flatten = lambda l: [item for sublist in l for item in sublist]\n",
        "    \n",
        "    # Flatten the dataset\n",
        "    all_words = flatten(sequences)\n",
        "    \n",
        "    # Count number of word occurences\n",
        "    word_count = defaultdict(int)\n",
        "    for word in flatten(sequences):\n",
        "        word_count[word] += 1\n",
        "\n",
        "    # Sort by frequency\n",
        "    word_count = sorted(list(word_count.items()), key=lambda l: -l[1])\n",
        "\n",
        "    # Create a list of all unique words\n",
        "    unique_words = [item[0] for item in word_count]\n",
        "    \n",
        "    # Add UNK token to list of words\n",
        "    unique_words.append('UNK')\n",
        "    print(unique_words)\n",
        "\n",
        "    # Count number of sequences and number of unique words\n",
        "    num_sentences, vocab_size = len(sequences), len(unique_words)\n",
        "\n",
        "    # Create dictionaries so that we can go from word to index and back\n",
        "    # If a word is not in our vocabulary, we assign it to token 'UNK'\n",
        "    word_to_idx = defaultdict(lambda: vocab_size-1)\n",
        "    idx_to_word = defaultdict(lambda: 'UNK')\n",
        "\n",
        "    # Fill dictionaries\n",
        "    for idx, word in enumerate(unique_words):\n",
        "        # YOUR CODE HERE!\n",
        "        word_to_idx[word] = idx\n",
        "        idx_to_word[idx] = word\n",
        "\n",
        "    return word_to_idx, idx_to_word, num_sentences, vocab_size\n",
        "\n",
        "\n",
        "word_to_idx, idx_to_word, num_sequences, vocab_size = sequences_to_dicts(sequences)\n",
        "\n",
        "print(f'We have {num_sequences} sentences and {len(word_to_idx)} unique tokens in our dataset (including UNK).\\n')\n",
        "print('The index of \\'b\\' is', word_to_idx['b'])\n",
        "print(f'The word corresponding to index 1 is \\'{idx_to_word[1]}\\'')\n",
        "\n",
        "assert idx_to_word[word_to_idx['b']] == 'b', \\\n",
        "    'Consistency error: something went wrong in the conversion.'"
      ],
      "execution_count": 78,
      "outputs": [
        {
          "output_type": "stream",
          "name": "stdout",
          "text": [
            "['a', 'b', 'EOS', 'UNK']\n",
            "We have 32 sentences and 4 unique tokens in our dataset (including UNK).\n",
            "\n",
            "The index of 'b' is 1\n",
            "The word corresponding to index 1 is 'b'\n"
          ]
        }
      ]
    },
    {
      "cell_type": "markdown",
      "metadata": {
        "id": "cGSoDRgHk2g1"
      },
      "source": [
        "## Partitioning the dataset"
      ]
    },
    {
      "cell_type": "markdown",
      "metadata": {
        "id": "UMTn1iLIk2g1"
      },
      "source": [
        "To build our dataset, we need to create inputs and targets for each sequences and partition sentences it into training, validation and test sets. 80%, 10% and 10% is a common distribution, but mind you that this largely depends on the size of the dataset. Since we are doing next-word predictions, our target sequence is simply the input sequence shifted by one word.\n",
        "\n",
        "We can use PyTorch's `Dataset` class to build a simple dataset where we can easily retrieve (inputs, targets) pairs for each of our sequences."
      ]
    },
    {
      "cell_type": "code",
      "metadata": {
        "id": "9dW7MrPnk2g3",
        "colab": {
          "base_uri": "https://localhost:8080/"
        },
        "outputId": "056a7627-2b7a-4620-fb66-04f49737331c"
      },
      "source": [
        "from torch.utils import data\n",
        "\n",
        "class Dataset(data.Dataset):\n",
        "    def __init__(self, inputs, targets):\n",
        "        self.inputs = inputs\n",
        "        self.targets = targets\n",
        "\n",
        "    def __len__(self):\n",
        "        # Return the size of the dataset\n",
        "        return len(self.targets)\n",
        "\n",
        "    def __getitem__(self, index):\n",
        "        # Retrieve inputs and targets at the given index\n",
        "        X = self.inputs[index]\n",
        "        y = self.targets[index]\n",
        "\n",
        "        return X, y\n",
        "\n",
        "    \n",
        "def create_datasets(sequences, dataset_class, p_train=0.8, p_val=0.1, p_test=0.1):\n",
        "    # Define partition sizes\n",
        "    num_train = int(len(sequences)*p_train)\n",
        "    num_val = int(len(sequences)*p_val)\n",
        "    num_test = int(len(sequences)*p_test)\n",
        "\n",
        "    # Split sequences into partitions\n",
        "    sequences_train = sequences[:num_train]\n",
        "    sequences_val = sequences[num_train:num_train+num_val]\n",
        "    sequences_test = sequences[-num_test:]\n",
        "\n",
        "    def get_inputs_targets_from_sequences(sequences):\n",
        "        # Define empty lists\n",
        "        inputs, targets = [], []\n",
        "        \n",
        "        # Append inputs and targets s.t. both lists contain L-1 words of a sentence of length L\n",
        "        # but targets are shifted right by one so that we can predict the next word\n",
        "        for sequence in sequences:\n",
        "            inputs.append(sequence[:-1])\n",
        "            targets.append(sequence[1:])\n",
        "            \n",
        "        return inputs, targets\n",
        "\n",
        "    # Get inputs and targets for each partition\n",
        "    inputs_train, targets_train = get_inputs_targets_from_sequences(sequences_train)\n",
        "    inputs_val, targets_val = get_inputs_targets_from_sequences(sequences_val)\n",
        "    inputs_test, targets_test = get_inputs_targets_from_sequences(sequences_test)\n",
        "\n",
        "    # Create datasets\n",
        "    training_set = dataset_class(inputs_train, targets_train)\n",
        "    validation_set = dataset_class(inputs_val, targets_val)\n",
        "    test_set = dataset_class(inputs_test, targets_test)\n",
        "\n",
        "    return training_set, validation_set, test_set\n",
        "    \n",
        "\n",
        "training_set, validation_set, test_set = create_datasets(sequences, Dataset)\n",
        "\n",
        "print(f'We have {len(training_set)} samples in the training set.')\n",
        "print(f'We have {len(validation_set)} samples in the validation set.')\n",
        "print(f'We have {len(test_set)} samples in the test set.')"
      ],
      "execution_count": 79,
      "outputs": [
        {
          "output_type": "stream",
          "name": "stdout",
          "text": [
            "We have 25 samples in the training set.\n",
            "We have 3 samples in the validation set.\n",
            "We have 3 samples in the test set.\n"
          ]
        }
      ]
    },
    {
      "cell_type": "markdown",
      "metadata": {
        "id": "4xMMSm7Mk2g9"
      },
      "source": [
        "When working with more complex data than what we use in this exercise, creating a PyTorch `DataLoader` on top of the dataset can be beneficial. A data loader is basically a fancy generator/iterator that we can use to abstract away all of the data handling and pre-processing + it's super useful for processing batches of data as well! Data loaders will come in handy later when you start to work on your projects, so be sure to check them out!\n",
        "\n",
        "For more information on how to use datasets and data loaders in PyTorch, [consult the official guide](https://pytorch.org/tutorials/beginner/data_loading_tutorial.html)."
      ]
    },
    {
      "cell_type": "markdown",
      "metadata": {
        "id": "t-rfgDfZeMQ6"
      },
      "source": [
        "## Nanograd utilities"
      ]
    },
    {
      "cell_type": "markdown",
      "metadata": {
        "id": "oRO5ssg0eQMK"
      },
      "source": [
        "We load necessary utility functions for the Nanograd library, which we saw in Lab 2."
      ]
    },
    {
      "cell_type": "code",
      "metadata": {
        "id": "Jd4CoEBNzNWS"
      },
      "source": [
        "# Copy and pasted from https://github.com/rasmusbergpalm/nanograd/blob/main/nanograd.py\n",
        "\n",
        "from math import exp, log, tanh\n",
        "\n",
        "class Var:\n",
        "    \"\"\"\n",
        "    A variable which holds a float and enables gradient computations.\n",
        "    \"\"\"\n",
        "\n",
        "    def __init__(self, val: float, grad_fn=lambda: []):\n",
        "        assert type(val) == float\n",
        "        self.v = val\n",
        "        self.grad_fn = grad_fn\n",
        "        self.grad = 0.0\n",
        "\n",
        "    def backprop(self, bp):\n",
        "        self.grad += bp\n",
        "        for input, grad in self.grad_fn():\n",
        "            input.backprop(grad * bp)\n",
        "\n",
        "    def backward(self):\n",
        "        self.backprop(1.0)\n",
        "\n",
        "    def __add__(self: 'Var', other: 'Var') -> 'Var':\n",
        "        return Var(self.v + other.v, lambda: [(self, 1.0), (other, 1.0)])\n",
        "\n",
        "    def __mul__(self: 'Var', other: 'Var') -> 'Var':\n",
        "        return Var(self.v * other.v, lambda: [(self, other.v), (other, self.v)])\n",
        "\n",
        "    def __pow__(self, power):\n",
        "        assert type(power) in {float, int}, \"power must be float or int\"\n",
        "        return Var(self.v ** power, lambda: [(self, power * self.v ** (power - 1))])\n",
        "\n",
        "    def __neg__(self: 'Var') -> 'Var':\n",
        "        return Var(-1.0) * self\n",
        "\n",
        "    def __sub__(self: 'Var', other: 'Var') -> 'Var':\n",
        "        return self + (-other)\n",
        "\n",
        "    def __truediv__(self: 'Var', other: 'Var') -> 'Var':\n",
        "        return self * other ** -1\n",
        "\n",
        "    def __repr__(self):\n",
        "        return \"Var(v=%.4f, grad=%.4f)\" % (self.v, self.grad)\n",
        "    \n",
        "    def exp(self):\n",
        "        return Var(exp(self.v), lambda: [(self, exp(self.v))])\n",
        "    \n",
        "    def log(self):\n",
        "        return Var(log(self.v), lambda: [(self, self.v ** -1)])\n",
        "\n",
        "    def relu(self):\n",
        "        return Var(self.v if self.v > 0.0 else 0.0, lambda: [(self, 1.0 if self.v > 0.0 else 0.0)])\n",
        "    \n",
        "    def identity(self):\n",
        "        return self\n",
        "\n",
        "    def sigmoid(self):\n",
        "        return Var(0.5) * (Var(1.0) + (Var(0.5) * self).tanh()) # logistic function is a scaled and shifted version of tanh\n",
        "    \n",
        "    def tanh(self):\n",
        "        return Var(tanh(self.v), lambda: [(self, 1-tanh(self.v) ** 2)])"
      ],
      "execution_count": 80,
      "outputs": []
    },
    {
      "cell_type": "code",
      "metadata": {
        "id": "9AMqMsiseMfz"
      },
      "source": [
        "# convert from ndarray to Var\n",
        "def nparray_to_Var(x):\n",
        "  if x.ndim==1:\n",
        "    y = [[Var(float(x[i]))] for i in range(x.shape[0])] # always work with list of list\n",
        "  else:\n",
        "    y = [[Var(float(x[i,j])) for j in range(x.shape[1])] for i in range(x.shape[0])]\n",
        "  return y\n",
        "\n",
        "# convert from Var to ndarray  \n",
        "def Var_to_nparray(x):\n",
        "  try:\n",
        "    y = np.zeros((len(x),len(x[0])))\n",
        "    for i in range(len(x)):\n",
        "      for j in range(len(x[0])):\n",
        "        y[i,j] = x[i][j].v\n",
        "  except TypeError:\n",
        "    y = np.zeros((len(x)))\n",
        "    for i in range(len(x)):\n",
        "      y[i] = x[i].v\n",
        "\n",
        "  return y"
      ],
      "execution_count": 81,
      "outputs": []
    },
    {
      "cell_type": "code",
      "metadata": {
        "id": "ij_ieRsAt7Xt"
      },
      "source": [
        "class Initializer:\n",
        "\n",
        "  def init_weights(self, n_in, n_out):\n",
        "    raise NotImplementedError\n",
        "\n",
        "  def init_bias(self, n_out):\n",
        "    raise NotImplementedError"
      ],
      "execution_count": 82,
      "outputs": []
    },
    {
      "cell_type": "code",
      "metadata": {
        "id": "eb18N5phuIha"
      },
      "source": [
        "import random\n",
        "\n",
        "class NormalInitializer(Initializer):\n",
        "\n",
        "  def __init__(self, mean=0, std=0.1):\n",
        "    self.mean = mean\n",
        "    self.std = std\n",
        "\n",
        "  def init_weights(self, n_in, n_out):\n",
        "    return [[Var(random.gauss(self.mean, self.std)) for _ in range(n_out)] for _ in range(n_in)]\n",
        "\n",
        "  def init_bias(self, n_out):\n",
        "    return [Var(0.0) for _ in range(n_out)]\n",
        "\n",
        "class ConstantInitializer(Initializer):\n",
        "\n",
        "  def __init__(self, weight=1.0, bias=0.0):\n",
        "    self.weight = weight\n",
        "    self.bias = bias\n",
        "\n",
        "  def init_weights(self, n_in, n_out):\n",
        "    return [[Var(self.weight) for _ in range(n_out)] for _ in range(n_in)]\n",
        "\n",
        "  def init_bias(self, n_out):\n",
        "    return [Var(self.bias) for _ in range(n_out)]"
      ],
      "execution_count": 83,
      "outputs": []
    },
    {
      "cell_type": "markdown",
      "metadata": {
        "id": "Dzmryk72k2g-"
      },
      "source": [
        "## One-hot encodings"
      ]
    },
    {
      "cell_type": "markdown",
      "metadata": {
        "id": "abRN9f8Xk2g_"
      },
      "source": [
        "We now create a simple function that returns the one-hot encoded representation of a given index of a word in our vocabulary. Notice that the shape of the one-hot encoding is equal to the entire vocabulary (which can be huge!). Additionally, we define a function to automatically one-hot encode a sentence."
      ]
    },
    {
      "cell_type": "code",
      "metadata": {
        "id": "IZruCIHJk2hB",
        "colab": {
          "base_uri": "https://localhost:8080/"
        },
        "outputId": "09d93418-f6b4-4253-920c-f8c3851dab87"
      },
      "source": [
        "def one_hot_encode(idx, vocab_size):\n",
        "    \"\"\"\n",
        "    One-hot encodes a single word given its index and the size of the vocabulary.\n",
        "    \n",
        "    Args:\n",
        "     `idx`: the index of the given word\n",
        "     `vocab_size`: the size of the vocabulary\n",
        "    \n",
        "    Returns a 1-D numpy array of length `vocab_size`.\n",
        "    \"\"\"\n",
        "    # Initialize the encoded array\n",
        "    one_hot = np.array([np.zeros(vocab_size)])\n",
        "    \n",
        "    # Set the appropriate element to one\n",
        "    one_hot[0][idx] = 1.0\n",
        "    return nparray_to_Var(one_hot)\n",
        "\n",
        "\n",
        "def one_hot_encode_sequence(sequence, vocab_size, ex_j=False):\n",
        "    \"\"\"\n",
        "    One-hot encodes a sequence of words given a fixed vocabulary size.\n",
        "    \n",
        "    Args:\n",
        "     `sentence`: a list of words to encode\n",
        "     `vocab_size`: the size of the vocabulary\n",
        "     \n",
        "    Returns a 3-D numpy array of shape (num words, vocab size, 1).\n",
        "    \"\"\"\n",
        "    # Encode each word in the sentence\n",
        "    encoding = np.array([Var_to_nparray(one_hot_encode(word_to_idx[word], vocab_size)) for word in sequence])\n",
        "\n",
        "    # Reshape encoding s.t. it has shape (num words, vocab size, 1)\n",
        "    encoding = encoding.reshape(encoding.shape[0], encoding.shape[2], 1)\n",
        "\n",
        "    if ex_j:\n",
        "      return encoding\n",
        "    else:\n",
        "      return nparray_to_Var(encoding)\n",
        "\n",
        "test_word = one_hot_encode(word_to_idx['a'], vocab_size)\n",
        "print(f'Our one-hot encoding of \\'a\\' has shape {Var_to_nparray(test_word).shape}.')\n",
        "\n",
        "test_sentence = one_hot_encode_sequence(['a', 'b'], vocab_size)\n",
        "print(f'Our one-hot encoding of \\'a b\\' has shape {Var_to_nparray(test_sentence).shape}.')\n",
        "\n",
        "print(test_word)\n",
        "print(test_sentence)"
      ],
      "execution_count": 84,
      "outputs": [
        {
          "output_type": "stream",
          "name": "stdout",
          "text": [
            "Our one-hot encoding of 'a' has shape (1, 4).\n",
            "Our one-hot encoding of 'a b' has shape (2, 4).\n",
            "[[Var(v=1.0000, grad=0.0000), Var(v=0.0000, grad=0.0000), Var(v=0.0000, grad=0.0000), Var(v=0.0000, grad=0.0000)]]\n",
            "[[Var(v=1.0000, grad=0.0000), Var(v=0.0000, grad=0.0000), Var(v=0.0000, grad=0.0000), Var(v=0.0000, grad=0.0000)], [Var(v=0.0000, grad=0.0000), Var(v=1.0000, grad=0.0000), Var(v=0.0000, grad=0.0000), Var(v=0.0000, grad=0.0000)]]\n"
          ]
        }
      ]
    },
    {
      "cell_type": "code",
      "metadata": {
        "id": "JT6BqYrU_NxQ"
      },
      "source": [
        "encoded_training_set_x = []\n",
        "encoded_training_set_y = []\n",
        "encoded_validation_set_x = []\n",
        "encoded_validation_set_y = []\n",
        "encoded_test_set_x = []\n",
        "encoded_test_set_y = []\n",
        "\n",
        "for n in range(len(training_set)):\n",
        "  encoded_training_set_x.append(one_hot_encode_sequence(training_set[n][0], vocab_size))\n",
        "  encoded_training_set_y.append(one_hot_encode_sequence(training_set[n][1], vocab_size))\n",
        "for n in range(len(validation_set)):\n",
        "  encoded_validation_set_x.append(one_hot_encode_sequence(validation_set[n][0], vocab_size))\n",
        "  encoded_validation_set_y.append(one_hot_encode_sequence(validation_set[n][1], vocab_size))\n",
        "for n in range(len(test_set)):\n",
        "  encoded_test_set_x.append(one_hot_encode_sequence(test_set[n][0], vocab_size))\n",
        "  encoded_test_set_y.append(one_hot_encode_sequence(test_set[n][1], vocab_size))"
      ],
      "execution_count": 85,
      "outputs": []
    },
    {
      "cell_type": "markdown",
      "metadata": {
        "id": "erI_MXvKk2hG"
      },
      "source": [
        "Great! Now that we have our one-hot encodings in place, we can move on to the RNNs!"
      ]
    },
    {
      "cell_type": "markdown",
      "metadata": {
        "id": "MA6bxjGWjeSB"
      },
      "source": [
        "# Introduction to Recurrent Neural Networks (RNN)\n",
        "\n",
        "Reading material: [blog post](http://karpathy.github.io/2015/05/21/rnn-effectiveness/) and (optionally) [this lecture](https://www.youtube.com/watch?v=iWea12EAu6U&list=PLoROMvodv4rOhcuXMZkNm7j3fVwBBY42z).\n",
        "\n",
        "___\n",
        "\n",
        "A recurrent neural network (RNN) is a type of neural network that has been succesful in modelling sequential data, e.g. language, speech, protein sequences, etc.\n",
        "\n",
        "A RNN performs its computations in a cyclic manner, where the same computation is applied to every sample of a given sequence.\n",
        "The idea is that the network should be able to use the previous computations as some form of memory and apply this to future computations.\n",
        "An image may best explain how this is to be understood,\n",
        "\n",
        "![rnn-unroll image](https://github.com/DeepLearningDTU/02456-deep-learning-with-PyTorch/blob/master/static_files/rnn-unfold.png?raw=1)\n",
        "\n",
        "\n",
        "where it the network contains the following elements:\n",
        "\n",
        "- $x$ is the input sequence of samples, \n",
        "- $U$ is a weight matrix applied to the given input sample,\n",
        "- $V$ is a weight matrix used for the recurrent computation in order to pass memory along the sequence,\n",
        "- $W$ is a weight matrix used to compute the output of the every timestep (given that every timestep requires an output),\n",
        "- $h$ is the hidden state (the network's memory) for a given time step, and\n",
        "- $o$ is the resulting output.\n",
        "\n",
        "When the network is unrolled as shown, it is easier to refer to a timestep, $t$.\n",
        "We have the following computations through the network:\n",
        "\n",
        "- $h_t = f(U\\,{x_t} + V\\,{h_{t-1}})$, where $f$ is a non-linear activation function, e.g. $\\mathrm{tanh}$.\n",
        "- $o_t = W\\,{h_t}$\n",
        "\n",
        "When we are doing language modelling using a cross-entropy loss, we additionally apply the softmax function to the output $o_{t}$:\n",
        "\n",
        "- $\\hat{y}_t = \\mathrm{softmax}(o_{t})$\n",
        "\n",
        "\n",
        "### Backpropagation through time\n",
        "\n",
        "We define a loss function\n",
        "\n",
        "- $E = \\sum_t E_t  = \\sum_t E_t(y_t ,\\hat{y}_t ) \\ , $\n",
        "\n",
        "where $E_t(y_t ,\\hat{y}_t )$ is the cross-entropy function.\n",
        "\n",
        "Backpropagation through time amounts to computing the gradients of the loss using the same type of clever bookkeeping we applied to the feed-forward network in week 1. This you will do in Exercise D."
      ]
    },
    {
      "cell_type": "markdown",
      "metadata": {
        "id": "GuvwbvsGz9KE"
      },
      "source": [
        "## Implementing an RNN\n",
        "\n",
        "We will implement the forward pass, backward pass, optimization and training loop for an RNN in Nanograd so that you can get familiar with the recurrent nature of RNNs. Later, we will go back to PyTorch."
      ]
    },
    {
      "cell_type": "markdown",
      "metadata": {
        "id": "gfbfcB-NJZuM"
      },
      "source": [
        "We define the Nanograd DenseLayer class from [lab 2](https://github.com/DeepLearningDTU/02456-deep-learning-with-PyTorch/blob/master/2_Feedforward_Python/2.1-EXE-FNN-AutoDif-Nanograd.ipynb) with a few additions:\n",
        "* the option use_bias to define a layer without bias. This is useful when we define the recurrent layer and\n",
        "* a method forward_sequence which is useful when a DenseLayer is used as part of a recurrent neural network"
      ]
    },
    {
      "cell_type": "code",
      "metadata": {
        "id": "TqkVyEEACHKS"
      },
      "source": [
        "from typing import Sequence\n",
        "\n",
        "class DenseLayer:\n",
        "    def __init__(self, n_in: int, n_out: int, act_fn, initializer = NormalInitializer(), use_bias=True):\n",
        "        self.weights = initializer.init_weights(n_in, n_out)\n",
        "        self.use_bias = use_bias\n",
        "        if use_bias:\n",
        "          self.bias = initializer.init_bias(n_out)\n",
        "        self.act_fn = act_fn\n",
        "    \n",
        "    def __repr__(self):    \n",
        "        return 'Weights: ' + repr(self.weights) + (' Biases: ' + repr(self.bias) if self.use_bias else '')\n",
        "\n",
        "    def parameters(self) -> Sequence[Var]:\n",
        "      params = []\n",
        "      for r in self.weights:\n",
        "        params += r\n",
        "\n",
        "      if self.use_bias:\n",
        "        params += self.bias\n",
        "\n",
        "      return params\n",
        "\n",
        "    def forward(self, input: Sequence[Var]) -> Sequence[Var]:\n",
        "        # self.weights is a matrix with dimension n_in x n_out. We check that the dimensionality of the input \n",
        "        # to the current layer matches the number of nodes in the current layer\n",
        "        assert len(self.weights) == len(input), \"weights and input must match in first dimension\"\n",
        "        weights = self.weights\n",
        "        out = []\n",
        "        # For some given data point single_input, we now want to calculate the resulting value in each node in the current layer\n",
        "        # We therefore loop over the (number of) nodes in the current layer:\n",
        "        for j in range(len(weights[0])): \n",
        "            # Initialize the node value depending on its corresponding parameters.\n",
        "            node = self.bias[j] if self.use_bias else Var(0.0)\n",
        "            # We now finish the linear transformation corresponding to the parameters of the currently considered node.\n",
        "            for i in range(len(input)):\n",
        "                node += input[i]*weights[i][j]\n",
        "            node = self.act_fn(node)\n",
        "            out.append(node)\n",
        "\n",
        "        return out\n",
        "    \n",
        "    def forward_sequence(self, input: Sequence[Sequence[Var]]) -> Sequence[Sequence[Var]]:\n",
        "        out = []\n",
        "        for i in range(len(input)): \n",
        "            node = self.forward(input[i])\n",
        "            out.append(node)\n",
        "\n",
        "        return out"
      ],
      "execution_count": 86,
      "outputs": []
    },
    {
      "cell_type": "markdown",
      "metadata": {
        "id": "qDKFjjQEM-xX"
      },
      "source": [
        "## Exercise b) The RNNLayer class\n",
        "\n",
        "**Complete the RNNLayer class below.**\n",
        "\n",
        "**Explain how we reuse the DenseLayer class** \n",
        "\n",
        "The recurrent layer consists of 2 DenseLayers type of objects. One for going through the network as usual and the other for going through the sequence (through time). The basic calculation for the two is the same (inputs times weights) therefore we can use the forward function in the DenseLayer class to calculate both the contribution from the last hidden state/last element in the sequence and the current one (using different inputs and weights).\n",
        "\n",
        "**Explain what the forward and the forward_sequence method do.**\n",
        "\n",
        "The forward_sequence method takes a sequence and loops over every character in the sequence and performs the forward_step method on them.\n",
        "\n",
        "The forward_step method computes the contribution from the current input and the contribution from the last hidden state and adds them together to get the current hidden state value. "
      ]
    },
    {
      "cell_type": "code",
      "metadata": {
        "id": "IcM1N6PQrT7l"
      },
      "source": [
        "from typing import Sequence\n",
        "\n",
        "class RNNLayer:\n",
        "    def __init__(self, n_in: int, n_hid: int, act_fn, initializer = NormalInitializer(), initializer_hid = NormalInitializer()):\n",
        "        self.n_hid = n_hid\n",
        "        self.in_hid_layer = DenseLayer(n_in, n_hid, lambda x: x, initializer)\n",
        "        self.hid_hid_layer = DenseLayer (n_hid, n_hid, lambda x: x, initializer_hid, use_bias=False) # we already get a bias through in_hid_layer        \n",
        "        self.initial_hid = [Var(0.0) for _ in range(n_hid)]\n",
        "        self.stored_hid = [Var(0.0) for _ in range(n_hid)]\n",
        "        self.act_fn = act_fn\n",
        "    \n",
        "    def __repr__(self):    \n",
        "        return 'Feed-forward: ' + repr(self.in_hid_layer) + ' Recurrent: ' + repr(self.hid_hid_layer) + ' Initial hidden: ' + repr(self.initial_hid)\n",
        "\n",
        "    def parameters(self) -> Sequence[Var]:      \n",
        "      return self.in_hid_layer.parameters() + self.hid_hid_layer.parameters() + self.initial_hid\n",
        "\n",
        "    def forward_step(self, input: Sequence[Var], input_hid: Sequence[Var]) -> Sequence[Var]:\n",
        "        in_hids =  self.in_hid_layer.forward(input)       # contribution from input\n",
        "        hid_hids = self.hid_hid_layer.forward(input_hid)  # contribution from hidden state\n",
        "\n",
        "        hids = []\n",
        "        for i in range(self.n_hid):\n",
        "          hids.append(in_hids[i] + hid_hids[i])        #changed code here \n",
        "\n",
        "        return hids\n",
        "    \n",
        "    def forward_sequence(self, input: Sequence[Sequence[Var]], use_stored_hid = False) -> Sequence[Sequence[Var]]:\n",
        "        out = []\n",
        "        if use_stored_hid:\n",
        "            hid = self.stored_hid\n",
        "        else:\n",
        "            hid = self.initial_hid\n",
        "        # Takes a sequence and loops over each character in the sequence. Note that each character has dimension equal to the embedding dimension\n",
        "        for i in range(len(input)):\n",
        "            hid = self.forward_step(input[i], hid) #changed code here \n",
        "            out.append(hid)\n",
        "        self.stored_hid = hid\n",
        "        return out"
      ],
      "execution_count": 87,
      "outputs": []
    },
    {
      "cell_type": "markdown",
      "metadata": {
        "id": "VgAU6qPHKJFr"
      },
      "source": [
        "Now we can define a network and pass some data through it."
      ]
    },
    {
      "cell_type": "code",
      "metadata": {
        "id": "MFkZ5gNG6d7c",
        "colab": {
          "base_uri": "https://localhost:8080/"
        },
        "outputId": "4416cee2-b3aa-4520-d244-0ce518a81571"
      },
      "source": [
        "NN = [\n",
        "    RNNLayer(1, 5, lambda x: x.tanh()),\n",
        "    DenseLayer(5, 1, lambda x: x.identity())\n",
        "]\n",
        "\n",
        "def forward_batch(input: Sequence[Sequence[Sequence[Var]]], network, use_stored_hid=False):\n",
        "  \n",
        "  def forward_single_sequence(x, network, use_stored_hid):\n",
        "    for layer in network:\n",
        "        if isinstance(layer, RNNLayer):\n",
        "            x = layer.forward_sequence(x, use_stored_hid) \n",
        "        else:\n",
        "            x = layer.forward_sequence(x)\n",
        "    return x\n",
        "\n",
        "  output = [ forward_single_sequence(input[n], network, use_stored_hid) for n in range(len(input))]\n",
        "  return output\n",
        "\n",
        "print(NN[0])\n",
        "x_train =[\n",
        "          [[Var(1.0)], [Var(2.0)], [Var(3.0)]],\n",
        "          [[Var(1.0)], [Var(2.0)], [Var(3.0)]]\n",
        "          ]\n",
        "\n",
        "output_train = forward_batch(x_train, NN)          \n",
        "output_train[0][0][0].backward()\n",
        "\n",
        "print(output_train)"
      ],
      "execution_count": 88,
      "outputs": [
        {
          "output_type": "stream",
          "name": "stdout",
          "text": [
            "Feed-forward: Weights: [[Var(v=-0.0741, grad=0.0000), Var(v=-0.0553, grad=0.0000), Var(v=-0.0550, grad=0.0000), Var(v=-0.2483, grad=0.0000), Var(v=0.1370, grad=0.0000)]] Biases: [Var(v=0.0000, grad=0.0000), Var(v=0.0000, grad=0.0000), Var(v=0.0000, grad=0.0000), Var(v=0.0000, grad=0.0000), Var(v=0.0000, grad=0.0000)] Recurrent: Weights: [[Var(v=-0.1137, grad=0.0000), Var(v=0.0878, grad=0.0000), Var(v=-0.0002, grad=0.0000), Var(v=-0.0421, grad=0.0000), Var(v=-0.1009, grad=0.0000)], [Var(v=0.1656, grad=0.0000), Var(v=0.0800, grad=0.0000), Var(v=0.1128, grad=0.0000), Var(v=-0.0164, grad=0.0000), Var(v=-0.0422, grad=0.0000)], [Var(v=0.0531, grad=0.0000), Var(v=0.1923, grad=0.0000), Var(v=0.1971, grad=0.0000), Var(v=0.1278, grad=0.0000), Var(v=-0.0135, grad=0.0000)], [Var(v=0.0881, grad=0.0000), Var(v=0.0331, grad=0.0000), Var(v=-0.1360, grad=0.0000), Var(v=0.2437, grad=0.0000), Var(v=-0.0577, grad=0.0000)], [Var(v=0.1722, grad=0.0000), Var(v=0.1158, grad=0.0000), Var(v=0.0933, grad=0.0000), Var(v=-0.0775, grad=0.0000), Var(v=0.0568, grad=0.0000)]] Initial hidden: [Var(v=0.0000, grad=0.0000), Var(v=0.0000, grad=0.0000), Var(v=0.0000, grad=0.0000), Var(v=0.0000, grad=0.0000), Var(v=0.0000, grad=0.0000)]\n",
            "[[[Var(v=0.0344, grad=1.0000)], [Var(v=0.0795, grad=0.0000)], [Var(v=0.1285, grad=0.0000)]], [[Var(v=0.0344, grad=0.0000)], [Var(v=0.0795, grad=0.0000)], [Var(v=0.1285, grad=0.0000)]]]\n"
          ]
        }
      ]
    },
    {
      "cell_type": "markdown",
      "metadata": {
        "id": "yolo5dKrk2hR"
      },
      "source": [
        "## Exercise c) Unit test\n",
        "\n",
        "Make unit tests to make sure that the output and the backward method work as it should.\n",
        "\n",
        "NOTE: The .backward() call above simply backpropagates a value in the output (and not a loss). Below, we will extend our loss functions to be able to handle backpropagation through time.\n",
        "\n",
        "Recycling code from [Lab 2](https://github.com/DeepLearningDTU/02456-deep-learning-with-PyTorch/blob/master/2_Feedforward_Python/2.1-EXE-FNN-AutoDif-Nanograd.ipynb) is fine. "
      ]
    },
    {
      "cell_type": "code",
      "metadata": {
        "id": "GhCB1ASwK3X7",
        "colab": {
          "base_uri": "https://localhost:8080/"
        },
        "outputId": "d87b2c5f-d897-4b98-f662-8d46e0b2144a"
      },
      "source": [
        "# Insert code here\n",
        "\n",
        "x_unit =[\n",
        "          [[Var(1.0)], [Var(1.0)], [Var(1.0)]],\n",
        "          ]\n",
        "\n",
        "#First unit test \n",
        "NN1 = [\n",
        "    RNNLayer(1, 1, lambda x: x.identity(), ConstantInitializer(), ConstantInitializer()),\n",
        "    DenseLayer(1, 1, lambda x: x.identity(), ConstantInitializer())\n",
        "]\n",
        "\n",
        "output_unit1 = forward_batch(x_unit, NN1)          \n",
        "output_unit1[0][0][0].backward()\n",
        "\n",
        "#Checking value corrctness                                                      #Below () brackets show contribution from input and [] brackets denote contribution from last hidden state\n",
        "assert output_unit1[0][0][0].v == 1.0, \"Output value 1 is incorrect\"            #for the 1st input, the hidden unit value should be (1*1) = 1. There is only 1 unit in the hidden layer so the output value is 1*1=1\n",
        "assert output_unit1[0][1][0].v == 2.0, \"Output value 2 is incorrect\"            #for the 2nd input, the hidden unit value should be (1*1) + [1*1] = 2. There is only 1 unit in the hidden layer so the output value is 2*1=2\n",
        "assert output_unit1[0][2][0].v == 3.0, \"Output value 3 is incorrect\"            #for the 3rd input, the hidden unit value should be (1*1) + [2*1] = 3. There is only 1 unit in the hidden layer so the output value is 3*1=3\n",
        "print(output_unit1)\n",
        "\n",
        "#Second unit test \n",
        "NN2 = [\n",
        "    RNNLayer(1, 2, lambda x: x.identity(), ConstantInitializer(), ConstantInitializer()),\n",
        "    DenseLayer(2, 1, lambda x: x.identity(), ConstantInitializer())\n",
        "]\n",
        "\n",
        "output_unit2 = forward_batch(x_unit, NN2)          \n",
        "output_unit2[0][0][0].backward()\n",
        "\n",
        "#Checking value corrctness\n",
        "assert output_unit[0][0][0].v == 2.0, \"Output value 1 is incorrect\"             #for the 1st input, the hidden unit values should be (1*1) = 1. There are 2 units in the hidden layer so the output value is 1*1+1*1=2\n",
        "assert output_unit[0][1][0].v == 6.0, \"Output value 2 is incorrect\"             #for the 2nd input, the hidden unit values should be (1*1) + [(1*1)+(1*1)] = 3. There are 2 units in the hidden layer so the output value is 3*1+3*1=6\n",
        "assert output_unit[0][2][0].v == 14.0, \"Output value 3 is incorrect\"            #for the 3rd input, the hidden unit values should be (1*1) + [(3*1)+(3*1)] = 7. There are 2 units in the hidden layer so the output value is 7*1+7*1=14\n",
        "print(output_unit2)"
      ],
      "execution_count": 89,
      "outputs": [
        {
          "output_type": "stream",
          "name": "stdout",
          "text": [
            "[[[Var(v=1.0000, grad=1.0000)], [Var(v=2.0000, grad=0.0000)], [Var(v=3.0000, grad=0.0000)]]]\n",
            "[[[Var(v=2.0000, grad=1.0000)], [Var(v=6.0000, grad=0.0000)], [Var(v=14.0000, grad=0.0000)]]]\n"
          ]
        }
      ]
    },
    {
      "cell_type": "markdown",
      "metadata": {
        "id": "4d4_2b6mK5jH"
      },
      "source": [
        "## Exercise d) Advanced initialization\n",
        "\n",
        "How can we use He initialization for the recurrent layer?\n",
        "\n",
        "Hint: the sum of two unit variance stochastic variables have variance 2.\n",
        "\n",
        "Insert code for He initialization of the recurrent layer. Again, recycling code from Lab 2 is fine. "
      ]
    },
    {
      "cell_type": "code",
      "metadata": {
        "id": "oRn3mDnzLxu2"
      },
      "source": [
        "## He\n",
        "def DenseLayer_He_tanh(n_in: int, n_out: int):\n",
        "  std = (1.0/n_in)**0.5 # <- replace with proper initialization \n",
        "  return DenseLayer(n_in, n_out, lambda x: x.tanh(), initializer = NormalInitializer(std))"
      ],
      "execution_count": 90,
      "outputs": []
    },
    {
      "cell_type": "markdown",
      "metadata": {
        "id": "ozNN9xXML0yc"
      },
      "source": [
        "## Exercise e) Sequence loss function\n",
        "\n",
        "We want to solve a sequence to sequence problem. So you need a sequence loss function. \n",
        "\n",
        "Implement the function such that the sequence loss can take flexible input dimensions and so that it can take any loss as an argument, such as squared loss and cross entropy. (We recommend using cross entropy below)\n",
        "\n",
        "We have provided a bit of code to try it out.\n",
        "\n",
        "Hints: You can get inspiration from the forward_sequence method above. You can copy and paste squared loss and cross entropy from Lab 2. "
      ]
    },
    {
      "cell_type": "code",
      "metadata": {
        "id": "bYpEnbeMP4yL",
        "colab": {
          "base_uri": "https://localhost:8080/"
        },
        "outputId": "b311b457-d9e0-48a9-b02c-609fbf066eff"
      },
      "source": [
        "# Insert code here\n",
        "\n",
        "def squared_loss_sequence(t, y):\n",
        "    \n",
        "    # add check that sizes agree\n",
        "    assert len(t)==len(y), \"one-hot encodings have different shapes\"\n",
        "    \n",
        "    def squared_loss_single(t, y):\n",
        "\n",
        "        # add check that sizes agree\n",
        "        assert len(t)==len(y), \"one-hot encodings have different shapes\"\n",
        "        \n",
        "        Loss = Var(0.0)\n",
        "        for i in range(len(t)): # sum over outputs\n",
        "          Loss += (t[i]-y[i]) ** 2\n",
        "\n",
        "        return Loss\n",
        "\n",
        "    Loss = Var(0.0)\n",
        "    for n in range(len(t)): # sum over training data\n",
        "      Loss += squared_loss_single(t[n],y[n])\n",
        "\n",
        "    return Loss\n",
        "\n",
        "def cross_entropy_loss_sequence(t, y):\n",
        "\n",
        "    # add check that sizes agree\n",
        "    assert len(t)==len(y), \"one-hot encodings have different shapes\"\n",
        "\n",
        "    def cross_entropy_loss_single(t, y):\n",
        "\n",
        "        # add check that sizes agree\n",
        "        assert len(t)==len(y), \"one-hot encodings have different shapes\"\n",
        "\n",
        "        Loss = Var(0.0)\n",
        "        denominator = Var(0.0)\n",
        "\n",
        "        for i in range(len(t)): # sum over one-hot-encoding of character\n",
        "            denominator += t[i].exp()\n",
        "        for i in range(len(t)): # sum over one-hot-encoding of character\n",
        "            t_softmax = t[i].exp() / denominator\n",
        "            Loss += -y[i]*(t_softmax+Var(0.001)).log()\n",
        "\n",
        "        return Loss\n",
        "\n",
        "    Loss = Var(0.0)\n",
        "    for n in range(len(t)): # sum over training data\n",
        "        for i in range(len(t[n])): # sum over characters in output sequence\n",
        "            Loss += cross_entropy_loss_single(t[n][i],y[n][i])\n",
        "\n",
        "    return Loss\n",
        "\n",
        "def sequence_loss(t: Sequence[Sequence[Var]], y: Sequence[Sequence[Var]], loss_fn=cross_entropy_loss_sequence) -> Var:\n",
        "    assert len(t) == len(y)\n",
        "    return loss_fn(t, y)\n",
        "\n",
        "\n",
        "# Test of loss func\n",
        "NN = [\n",
        "    RNNLayer(4, 2, lambda x: x.tanh()),\n",
        "    DenseLayer(2, 4, lambda x: x.identity())\n",
        "]\n",
        "\n",
        "output_train = forward_batch(encoded_training_set_x[:3], NN)\n",
        "print(output_train)       \n",
        "loss = sequence_loss(output_train, encoded_training_set_y[:3], cross_entropy_loss_sequence)\n",
        "print(\"Loss:\", loss)\n",
        "loss.backward()\n",
        "\n",
        "print(\"Output:\", output_train)\n",
        "\n",
        "print('Network before update:')\n",
        "[print('Layer', i, '\\n', NN[i]) for i in range(len(NN))] \n",
        "\n",
        "def parameters(network):\n",
        "  params = []\n",
        "  for layer in range(len(network)):\n",
        "    params += network[layer].parameters()\n",
        "  return params\n",
        "\n",
        "def update_parameters(params, learning_rate=0.01):\n",
        "  for p in params:\n",
        "    p.v -= learning_rate*p.grad\n",
        "\n",
        "def zero_gradients(params):\n",
        "  for p in params:\n",
        "    p.grad = 0.0\n",
        "\n",
        "update_parameters(parameters(NN))\n",
        "\n",
        "print('\\nNetwork after update:')\n",
        "[print('Layer', i, '\\n', NN[i]) for i in range(len(NN))] \n",
        "\n",
        "zero_gradients(parameters(NN))\n",
        "\n",
        "print('\\nNetwork after zeroing gradients:')\n",
        "[print('Layer', i, '\\n', NN[i]) for i in range(len(NN))] \n"
      ],
      "execution_count": 91,
      "outputs": [
        {
          "output_type": "stream",
          "name": "stdout",
          "text": [
            "[[[Var(v=-0.0009, grad=0.0000), Var(v=-0.0035, grad=0.0000), Var(v=0.0010, grad=0.0000), Var(v=-0.0107, grad=0.0000)], [Var(v=-0.0011, grad=0.0000), Var(v=-0.0034, grad=0.0000), Var(v=0.0009, grad=0.0000), Var(v=-0.0093, grad=0.0000)], [Var(v=-0.0010, grad=0.0000), Var(v=-0.0034, grad=0.0000), Var(v=0.0009, grad=0.0000), Var(v=-0.0095, grad=0.0000)], [Var(v=0.0037, grad=0.0000), Var(v=0.0083, grad=0.0000), Var(v=-0.0017, grad=0.0000), Var(v=0.0156, grad=0.0000)], [Var(v=0.0038, grad=0.0000), Var(v=0.0079, grad=0.0000), Var(v=-0.0014, grad=0.0000), Var(v=0.0126, grad=0.0000)], [Var(v=0.0038, grad=0.0000), Var(v=0.0079, grad=0.0000), Var(v=-0.0015, grad=0.0000), Var(v=0.0131, grad=0.0000)]], [[Var(v=-0.0009, grad=0.0000), Var(v=-0.0035, grad=0.0000), Var(v=0.0010, grad=0.0000), Var(v=-0.0107, grad=0.0000)], [Var(v=0.0036, grad=0.0000), Var(v=0.0083, grad=0.0000), Var(v=-0.0017, grad=0.0000), Var(v=0.0158, grad=0.0000)]], [[Var(v=-0.0009, grad=0.0000), Var(v=-0.0035, grad=0.0000), Var(v=0.0010, grad=0.0000), Var(v=-0.0107, grad=0.0000)], [Var(v=-0.0011, grad=0.0000), Var(v=-0.0034, grad=0.0000), Var(v=0.0009, grad=0.0000), Var(v=-0.0093, grad=0.0000)], [Var(v=-0.0010, grad=0.0000), Var(v=-0.0034, grad=0.0000), Var(v=0.0009, grad=0.0000), Var(v=-0.0095, grad=0.0000)], [Var(v=0.0037, grad=0.0000), Var(v=0.0083, grad=0.0000), Var(v=-0.0017, grad=0.0000), Var(v=0.0156, grad=0.0000)], [Var(v=0.0038, grad=0.0000), Var(v=0.0079, grad=0.0000), Var(v=-0.0014, grad=0.0000), Var(v=0.0126, grad=0.0000)], [Var(v=0.0038, grad=0.0000), Var(v=0.0079, grad=0.0000), Var(v=-0.0015, grad=0.0000), Var(v=0.0131, grad=0.0000)]]]\n",
            "Loss: Var(v=19.3581, grad=0.0000)\n",
            "Output: [[[Var(v=-0.0009, grad=-0.7464), Var(v=-0.0035, grad=0.2490), Var(v=0.0010, grad=0.2501), Var(v=-0.0107, grad=0.2472)], [Var(v=-0.0011, grad=-0.7465), Var(v=-0.0034, grad=0.2490), Var(v=0.0009, grad=0.2500), Var(v=-0.0093, grad=0.2475)], [Var(v=-0.0010, grad=0.2496), Var(v=-0.0034, grad=-0.7471), Var(v=0.0009, grad=0.2500), Var(v=-0.0095, grad=0.2474)], [Var(v=0.0037, grad=0.2483), Var(v=0.0083, grad=-0.7466), Var(v=-0.0017, grad=0.2470), Var(v=0.0156, grad=0.2513)], [Var(v=0.0038, grad=0.2485), Var(v=0.0079, grad=-0.7465), Var(v=-0.0014, grad=0.2472), Var(v=0.0126, grad=0.2507)], [Var(v=0.0038, grad=0.2485), Var(v=0.0079, grad=0.2495), Var(v=-0.0015, grad=-0.7488), Var(v=0.0131, grad=0.2508)]], [[Var(v=-0.0009, grad=0.2497), Var(v=-0.0035, grad=-0.7470), Var(v=0.0010, grad=0.2501), Var(v=-0.0107, grad=0.2472)], [Var(v=0.0036, grad=0.2483), Var(v=0.0083, grad=0.2494), Var(v=-0.0017, grad=-0.7490), Var(v=0.0158, grad=0.2513)]], [[Var(v=-0.0009, grad=-0.7464), Var(v=-0.0035, grad=0.2490), Var(v=0.0010, grad=0.2501), Var(v=-0.0107, grad=0.2472)], [Var(v=-0.0011, grad=-0.7465), Var(v=-0.0034, grad=0.2490), Var(v=0.0009, grad=0.2500), Var(v=-0.0093, grad=0.2475)], [Var(v=-0.0010, grad=0.2496), Var(v=-0.0034, grad=-0.7471), Var(v=0.0009, grad=0.2500), Var(v=-0.0095, grad=0.2474)], [Var(v=0.0037, grad=0.2483), Var(v=0.0083, grad=-0.7466), Var(v=-0.0017, grad=0.2470), Var(v=0.0156, grad=0.2513)], [Var(v=0.0038, grad=0.2485), Var(v=0.0079, grad=-0.7465), Var(v=-0.0014, grad=0.2472), Var(v=0.0126, grad=0.2507)], [Var(v=0.0038, grad=0.2485), Var(v=0.0079, grad=0.2495), Var(v=-0.0015, grad=-0.7488), Var(v=0.0131, grad=0.2508)]]]\n",
            "Network before update:\n",
            "Layer 0 \n",
            " Feed-forward: Weights: [[Var(v=-0.0402, grad=0.2513), Var(v=0.0492, grad=0.0370)], [Var(v=0.0240, grad=0.2185), Var(v=-0.1150, grad=-0.0786)], [Var(v=-0.0215, grad=0.0000), Var(v=0.1107, grad=0.0000)], [Var(v=-0.0173, grad=0.0000), Var(v=0.1074, grad=0.0000)]] Biases: [Var(v=0.0000, grad=0.4698), Var(v=0.0000, grad=-0.0417)] Recurrent: Weights: [[Var(v=-0.1678, grad=-0.0061), Var(v=0.0002, grad=0.0000)], [Var(v=0.0320, grad=-0.0029), Var(v=-0.0343, grad=0.0074)]] Initial hidden: [Var(v=0.0000, grad=-0.0182), Var(v=0.0000, grad=0.0031)]\n",
            "Layer 1 \n",
            " Weights: [[Var(v=-0.0224, grad=0.1208), Var(v=0.0021, grad=-0.0079), Var(v=-0.0121, grad=-0.0910), Var(v=0.1526, grad=-0.0219)], [Var(v=-0.0374, grad=-0.3057), Var(v=-0.0704, grad=0.1957), Var(v=0.0112, grad=0.2259), Var(v=-0.0930, grad=-0.1159)]] Biases: [Var(v=0.0000, grad=-0.4980), Var(v=0.0000, grad=-3.4829), Var(v=0.0000, grad=0.4924), Var(v=0.0000, grad=3.4885)]\n",
            "\n",
            "Network after update:\n",
            "Layer 0 \n",
            " Feed-forward: Weights: [[Var(v=-0.0427, grad=0.2513), Var(v=0.0488, grad=0.0370)], [Var(v=0.0218, grad=0.2185), Var(v=-0.1142, grad=-0.0786)], [Var(v=-0.0215, grad=0.0000), Var(v=0.1107, grad=0.0000)], [Var(v=-0.0173, grad=0.0000), Var(v=0.1074, grad=0.0000)]] Biases: [Var(v=-0.0047, grad=0.4698), Var(v=0.0004, grad=-0.0417)] Recurrent: Weights: [[Var(v=-0.1677, grad=-0.0061), Var(v=0.0002, grad=0.0000)], [Var(v=0.0320, grad=-0.0029), Var(v=-0.0344, grad=0.0074)]] Initial hidden: [Var(v=0.0002, grad=-0.0182), Var(v=-0.0000, grad=0.0031)]\n",
            "Layer 1 \n",
            " Weights: [[Var(v=-0.0236, grad=0.1208), Var(v=0.0021, grad=-0.0079), Var(v=-0.0112, grad=-0.0910), Var(v=0.1529, grad=-0.0219)], [Var(v=-0.0343, grad=-0.3057), Var(v=-0.0724, grad=0.1957), Var(v=0.0089, grad=0.2259), Var(v=-0.0919, grad=-0.1159)]] Biases: [Var(v=0.0050, grad=-0.4980), Var(v=0.0348, grad=-3.4829), Var(v=-0.0049, grad=0.4924), Var(v=-0.0349, grad=3.4885)]\n",
            "\n",
            "Network after zeroing gradients:\n",
            "Layer 0 \n",
            " Feed-forward: Weights: [[Var(v=-0.0427, grad=0.0000), Var(v=0.0488, grad=0.0000)], [Var(v=0.0218, grad=0.0000), Var(v=-0.1142, grad=0.0000)], [Var(v=-0.0215, grad=0.0000), Var(v=0.1107, grad=0.0000)], [Var(v=-0.0173, grad=0.0000), Var(v=0.1074, grad=0.0000)]] Biases: [Var(v=-0.0047, grad=0.0000), Var(v=0.0004, grad=0.0000)] Recurrent: Weights: [[Var(v=-0.1677, grad=0.0000), Var(v=0.0002, grad=0.0000)], [Var(v=0.0320, grad=0.0000), Var(v=-0.0344, grad=0.0000)]] Initial hidden: [Var(v=0.0002, grad=0.0000), Var(v=-0.0000, grad=0.0000)]\n",
            "Layer 1 \n",
            " Weights: [[Var(v=-0.0236, grad=0.0000), Var(v=0.0021, grad=0.0000), Var(v=-0.0112, grad=0.0000), Var(v=0.1529, grad=0.0000)], [Var(v=-0.0343, grad=0.0000), Var(v=-0.0724, grad=0.0000), Var(v=0.0089, grad=0.0000), Var(v=-0.0919, grad=0.0000)]] Biases: [Var(v=0.0050, grad=0.0000), Var(v=0.0348, grad=0.0000), Var(v=-0.0049, grad=0.0000), Var(v=-0.0349, grad=0.0000)]\n"
          ]
        },
        {
          "output_type": "execute_result",
          "data": {
            "text/plain": [
              "[None, None]"
            ]
          },
          "metadata": {},
          "execution_count": 91
        }
      ]
    },
    {
      "cell_type": "markdown",
      "metadata": {
        "id": "ezSRiVJzk2h5"
      },
      "source": [
        "# Backpropagation through time \n",
        "\n",
        "Since we have automatic differentiation we don't have to code the backpropagation rule by hand. Just to give you a bit of appreciation for have much bookkeeping is necessary we have given the derivation belwo.\n",
        "\n",
        "We need to compute the partial derivatives\n",
        "$\n",
        "\\frac{\\partial E}{\\partial W},~\\frac{\\partial E}{\\partial U},~\\frac{\\partial E}{\\partial V}\n",
        "$. \n",
        "We repeat the definition of the RNN forward pass from above:\n",
        "\n",
        "- $h_t = f(U\\,{x_t} + V\\,{h_{t-1}})$, where $f$ usually is an activation function, e.g. $\\mathrm{tanh}$.\n",
        "- $o_t = W\\,{h_t}$\n",
        "- $\\hat{y}_t = \\mathrm{softmax}(o_{t})$\n",
        "\n",
        "where\n",
        "- $U$ is a weight matrix applied to the given input sample,\n",
        "- $V$ is a weight matrix used for the recurrent computation in order to pass memory along the sequence,\n",
        "- $W$ is a weight matrix used to compute the output of the every timestep (given that every timestep requires an output), and\n",
        "- $h$ is the hidden state (the network's memory) for a given time step.\n",
        "\n",
        "Recall though, that RNNs are recurrent and the weights $W,~U,~V$ are shared across time, i.e. we do not have separate weights for each time step. Therefore, to compute e.g. the partial derivative $\\frac{\\partial E}{\\partial W}$, we need to 1) sum up across time, and 2) apply the chain rule:\n",
        "\n",
        "$$\\frac{\\partial E}{\\partial W} = \\sum_{t} \\frac{\\partial E}{\\partial o_{t}} \\frac{\\partial o_{t}}{\\partial W}\\,.$$\n",
        "To compute$\\frac{\\partial o_{t}}{\\partial W}$ we use the definition of $o_t$ above.\n",
        "From week 1 (exercise i) we have that\n",
        "$$\\delta_{o,t} \\equiv \\frac{\\partial E}{\\partial o_{t}} = \\frac{\\partial E_t}{\\partial o_{t}} = \\hat{y}_{t} - y_{t}\\,,$$\n",
        "where $\\hat{y}_{t}$ is a softmax distribution over model outputs $o_{t}$ at time $t$, and $y_{t}$ is the target label at time $t$. \n",
        "\n",
        "To compute $\\frac{\\partial E}{\\partial U}$ and $\\frac{\\partial E}{\\partial V}$ we again sum over time and use the chain rule:\n",
        "$$\n",
        "\\frac{\\partial E}{\\partial U} = \\sum_{t} \\frac{\\partial E}{\\partial h_{t}} \\frac{\\partial h_{t}}{\\partial U} \\ . \n",
        "$$\n",
        "This leads us to introduce\n",
        "$$\n",
        "\\delta_{h,t} \\equiv \\frac{\\partial E}{\\partial h_{t}} \\ .\n",
        "$$\n",
        "The backpropagation through time recursion is derived by realising that a variation of $h_t$ affects 1) the loss at time step $t$ through the feed-forward connection to the output and 2) the future losses through the $h_{t+1}$ dependence of $h_t$. Mathematically, we write this through the chain rule:\n",
        "\n",
        "$$\n",
        "\\delta_{h,t} \\equiv \\frac{\\partial E}{\\partial h_{t}} =  \\frac{\\partial E}{\\partial o_{t}} \\frac{\\partial o_t}{\\partial h_{t}} + \\frac{\\partial E}{\\partial h_{t+1}}\n",
        "\\frac{\\partial h_{t+1}}{\\partial h_{t}} = \\delta_{o,t} \\frac{\\partial o_t}{\\partial h_{t}} + \\delta_{h,t+1}\n",
        "\\frac{\\partial h_{t+1}}{\\partial h_{t}} \\ . \n",
        "$$\n",
        "\n",
        "Like above we can compute $\\frac{\\partial h_{t+1}}{\\partial h_{t}}$ using the definition of the network (shifted one time step). In the code the intermediate steps to compute the $\\delta$ recursions have been precomputed for you. \n",
        "\n",
        "For more information on backpropagation through time see the [Deep learning book section 10.2.2](https://www.deeplearningbook.org/contents/rnn.html).\n"
      ]
    },
    {
      "cell_type": "markdown",
      "metadata": {
        "id": "XIy3OZaQSrVL"
      },
      "source": [
        "# Exercise f) Complete the training loop\n",
        "\n",
        "Complete the training loop above and run the training. You can leave the hyper-parameters and network size unchanged.\n",
        "\n",
        "Note that despite the small size of the network and dataset, training still takes quite a while. This is an issue with the recurrent structure of Nanograd. Using PyTorch, we would be able to use much larger datasets and models. We will attempt that in the bottom of the notebook. For now, you should get a feel of the recurrent structure of the RNN under the hood."
      ]
    },
    {
      "cell_type": "code",
      "metadata": {
        "id": "MkaqbWmroncY"
      },
      "source": [
        "# Initialize training hyperparameters\n",
        "EPOCHS = 200\n",
        "LR = 1e-2 \n",
        "LR_DECAY = 0.995"
      ],
      "execution_count": 92,
      "outputs": []
    },
    {
      "cell_type": "code",
      "metadata": {
        "id": "-JtM_IQjonfK",
        "colab": {
          "base_uri": "https://localhost:8080/",
          "height": 973
        },
        "outputId": "6a29b8f8-892c-4354-e027-66ff47299a06"
      },
      "source": [
        "train_loss = []\n",
        "val_loss = []\n",
        "\n",
        "batch_size = 8\n",
        "\n",
        "for e in range(EPOCHS):\n",
        "    epoch_loss = 0.0\n",
        "\n",
        "    for b in range(int(np.ceil(len(encoded_training_set_x)/batch_size))):\n",
        "\n",
        "        # Forward pass and loss computation\n",
        "        output_train = forward_batch(encoded_training_set_x[b*batch_size:(b+1)*batch_size], NN)\n",
        "        Loss = sequence_loss(output_train, encoded_training_set_y[b*batch_size:(b+1)*batch_size], cross_entropy_loss_sequence)\n",
        "\n",
        "        # Backward pass\n",
        "        Loss.backward()\n",
        "        \n",
        "        # gradient descent update\n",
        "        update_parameters(parameters(NN), LR)\n",
        "        zero_gradients(parameters(NN))\n",
        "\n",
        "        epoch_loss += Loss.v \n",
        "      \n",
        "    LR = LR * LR_DECAY\n",
        "\n",
        "    # Training loss\n",
        "    train_loss.append(epoch_loss/len(encoded_training_set_x))\n",
        "        \n",
        "    # Validation loss\n",
        "    output_validation = forward_batch(encoded_validation_set_x, NN)\n",
        "    Loss_validation = sequence_loss(output_validation, encoded_validation_set_y, cross_entropy_loss_sequence)\n",
        "    val_loss.append(Loss_validation.v/len(encoded_validation_set_x))\n",
        "    \n",
        "    if e%5==0:\n",
        "        print(\"{:4d}\".format(e),\n",
        "              \"({:5.2f}%)\".format(e/EPOCHS*100), \n",
        "              \"Train loss: {:4.3f} \\t Validation loss: {:4.3f}\".format(train_loss[-1], val_loss[-1]))\n",
        "        \n",
        "# Plot training and validation loss\n",
        "import matplotlib.pyplot as plt\n",
        "%matplotlib inline\n",
        "epoch = np.arange(len(train_loss))\n",
        "plt.figure()\n",
        "plt.plot(epoch, train_loss, 'r', label='Training loss',)\n",
        "plt.plot(epoch, val_loss, 'b', label='Validation loss')\n",
        "plt.legend()\n",
        "plt.xlabel('Epoch'), plt.ylabel('NLL')\n",
        "plt.show()"
      ],
      "execution_count": 93,
      "outputs": [
        {
          "output_type": "stream",
          "name": "stdout",
          "text": [
            "   0 ( 0.00%) Train loss: 5.424 \t Validation loss: 4.231\n",
            "   5 ( 2.50%) Train loss: 4.583 \t Validation loss: 3.718\n",
            "  10 ( 5.00%) Train loss: 4.182 \t Validation loss: 3.371\n",
            "  15 ( 7.50%) Train loss: 3.385 \t Validation loss: 2.731\n",
            "  20 (10.00%) Train loss: 2.970 \t Validation loss: 2.505\n",
            "  25 (12.50%) Train loss: 2.826 \t Validation loss: 2.489\n",
            "  30 (15.00%) Train loss: 2.735 \t Validation loss: 2.454\n",
            "  35 (17.50%) Train loss: 2.571 \t Validation loss: 2.268\n",
            "  40 (20.00%) Train loss: 2.345 \t Validation loss: 2.104\n",
            "  45 (22.50%) Train loss: 2.233 \t Validation loss: 2.043\n",
            "  50 (25.00%) Train loss: 2.197 \t Validation loss: 2.030\n",
            "  55 (27.50%) Train loss: 2.184 \t Validation loss: 2.033\n",
            "  60 (30.00%) Train loss: 2.176 \t Validation loss: 2.036\n",
            "  65 (32.50%) Train loss: 2.173 \t Validation loss: 2.037\n",
            "  70 (35.00%) Train loss: 2.187 \t Validation loss: 2.040\n",
            "  75 (37.50%) Train loss: 2.239 \t Validation loss: 2.055\n",
            "  80 (40.00%) Train loss: 2.338 \t Validation loss: 2.072\n",
            "  85 (42.50%) Train loss: 2.327 \t Validation loss: 2.025\n",
            "  90 (45.00%) Train loss: 2.267 \t Validation loss: 1.989\n",
            "  95 (47.50%) Train loss: 2.239 \t Validation loss: 1.972\n",
            " 100 (50.00%) Train loss: 2.222 \t Validation loss: 1.960\n",
            " 105 (52.50%) Train loss: 2.207 \t Validation loss: 1.947\n",
            " 110 (55.00%) Train loss: 2.192 \t Validation loss: 1.935\n",
            " 115 (57.50%) Train loss: 2.177 \t Validation loss: 1.922\n",
            " 120 (60.00%) Train loss: 2.161 \t Validation loss: 1.910\n",
            " 125 (62.50%) Train loss: 2.146 \t Validation loss: 1.898\n",
            " 130 (65.00%) Train loss: 2.130 \t Validation loss: 1.886\n",
            " 135 (67.50%) Train loss: 2.113 \t Validation loss: 1.874\n",
            " 140 (70.00%) Train loss: 2.097 \t Validation loss: 1.862\n",
            " 145 (72.50%) Train loss: 2.080 \t Validation loss: 1.850\n",
            " 150 (75.00%) Train loss: 2.063 \t Validation loss: 1.837\n",
            " 155 (77.50%) Train loss: 2.046 \t Validation loss: 1.825\n",
            " 160 (80.00%) Train loss: 2.028 \t Validation loss: 1.813\n",
            " 165 (82.50%) Train loss: 2.011 \t Validation loss: 1.800\n",
            " 170 (85.00%) Train loss: 1.993 \t Validation loss: 1.788\n",
            " 175 (87.50%) Train loss: 1.974 \t Validation loss: 1.775\n",
            " 180 (90.00%) Train loss: 1.956 \t Validation loss: 1.762\n",
            " 185 (92.50%) Train loss: 1.937 \t Validation loss: 1.749\n",
            " 190 (95.00%) Train loss: 1.918 \t Validation loss: 1.736\n",
            " 195 (97.50%) Train loss: 1.899 \t Validation loss: 1.723\n"
          ]
        },
        {
          "output_type": "display_data",
          "data": {
            "image/png": "[encoded data removed]",
            "text/plain": [
              "<Figure size 432x288 with 1 Axes>"
            ]
          },
          "metadata": {
            "needs_background": "light"
          }
        }
      ]
    },
    {
      "cell_type": "code",
      "metadata": {
        "id": "nAI_D6g25pTQ",
        "colab": {
          "base_uri": "https://localhost:8080/"
        },
        "outputId": "a4b38f07-ae8f-4293-f6ac-12527ef48229"
      },
      "source": [
        "# Get first sentence in test set\n",
        "inputs, targets = test_set[0]\n",
        "\n",
        "# One-hot encode input and target sequence\n",
        "inputs_one_hot = one_hot_encode_sequence(inputs, vocab_size)\n",
        "targets_one_hot = one_hot_encode_sequence(targets, vocab_size)\n",
        "\n",
        "# Forward pass\n",
        "outputs = forward_batch(encoded_test_set_x[:1], NN)\n",
        "\n",
        "output_sentence = [idx_to_word[np.argmax(output)] for output in Var_to_nparray(outputs[0])]\n",
        "\n",
        "print('Input sentence:')\n",
        "print(inputs)\n",
        "\n",
        "print('\\nTarget sequence:')\n",
        "print(targets)\n",
        "\n",
        "print('\\nPredicted sequence:')\n",
        "print([idx_to_word[np.argmax(output)] for output in Var_to_nparray(outputs[0])])"
      ],
      "execution_count": 94,
      "outputs": [
        {
          "output_type": "stream",
          "name": "stdout",
          "text": [
            "Input sentence:\n",
            "['a', 'a', 'a', 'b', 'b', 'b']\n",
            "\n",
            "Target sequence:\n",
            "['a', 'a', 'b', 'b', 'b', 'EOS']\n",
            "\n",
            "Predicted sequence:\n",
            "['a', 'b', 'b', 'EOS', 'b', 'EOS']\n"
          ]
        }
      ]
    },
    {
      "cell_type": "markdown",
      "metadata": {
        "id": "Nn7QpUZXk2iH"
      },
      "source": [
        "## Exercise g) Extrapolation\n",
        "\n",
        "Now that we have trained an RNN, it's time to put it to test. We will provide the network with a starting sentence and let it `freestyle` from there!\n",
        "\n",
        "How well does your RNN extrapolate -- does it work as expected? Are there any imperfections? If yes, why could that be?\n",
        "\n",
        "**Answer**\n",
        "\n",
        "All-in-all it performs better than I initially expected but since it was trained on only a and b letters it has difficulty generalizing when the input contains different letters. "
      ]
    },
    {
      "cell_type": "code",
      "metadata": {
        "id": "4GNsD6HEJ-Gn",
        "colab": {
          "base_uri": "https://localhost:8080/"
        },
        "outputId": "4aefd4e1-7e13-4805-c47a-364e7626dab3"
      },
      "source": [
        "def freestyle(NN, sentence='', num_generate=10):\n",
        "    \"\"\"\n",
        "    Takes in a sentence as a string and outputs a sequence\n",
        "    based on the predictions of the RNN.\n",
        "    \n",
        "    Args:\n",
        "     `params`: the parameters of the network\n",
        "     `sentence`: string with whitespace-separated tokens\n",
        "     `num_generate`: the number of tokens to generate\n",
        "    \"\"\"\n",
        "    sentence = sentence.split(' ')\n",
        "    output_sentence = sentence\n",
        "    sentence_one_hot = one_hot_encode_sequence(sentence, vocab_size)\n",
        "\n",
        "    # Begin predicting\n",
        "    outputs = forward_batch([sentence_one_hot], NN, use_stored_hid=False)\n",
        "    output_words = [idx_to_word[np.argmax(output)] for output in Var_to_nparray(outputs[0])]\n",
        "    word = output_words[-1]\n",
        "\n",
        "    # Append first prediction\n",
        "    output_sentence.append(word)\n",
        "\n",
        "    # Forward pass - Insert code here!\n",
        "    if word != 'EOS':\n",
        "      for i in range(num_generate-1):\n",
        "          sentence_one_hot = one_hot_encode_sequence(sentence, vocab_size)\n",
        "          outputs = forward_batch([sentence_one_hot], NN, use_stored_hid=False)\n",
        "          output_words = [idx_to_word[np.argmax(output)] for output in Var_to_nparray(outputs[0])]\n",
        "          word = output_words[-1]\n",
        "          output_sentence.append(word)\n",
        "          if word == 'EOS':\n",
        "              break\n",
        "          \n",
        "    return output_sentence\n",
        "\n",
        "\n",
        "# Perform freestyle (extrapolation)\n",
        "test_examples = ['a a b', 'a a a a b', 'a a a a a a b', 'a', 'r n n']\n",
        "for i, test_example in enumerate(test_examples):\n",
        "    print(f'Example {i}:', test_example)\n",
        "    print('Predicted sequence:', freestyle(NN, sentence=test_example), end='\\n\\n')"
      ],
      "execution_count": 95,
      "outputs": [
        {
          "output_type": "stream",
          "name": "stdout",
          "text": [
            "Example 0: a a b\n",
            "Predicted sequence: ['a', 'a', 'b', 'b', 'EOS']\n",
            "\n",
            "Example 1: a a a a b\n",
            "Predicted sequence: ['a', 'a', 'a', 'a', 'b', 'b', 'EOS']\n",
            "\n",
            "Example 2: a a a a a a b\n",
            "Predicted sequence: ['a', 'a', 'a', 'a', 'a', 'a', 'b', 'b', 'EOS']\n",
            "\n",
            "Example 3: a\n",
            "Predicted sequence: ['a', 'a', 'b', 'b', 'EOS']\n",
            "\n",
            "Example 4: r n n\n",
            "Predicted sequence: ['r', 'n', 'n', 'b', 'EOS']\n",
            "\n"
          ]
        }
      ]
    },
    {
      "cell_type": "markdown",
      "metadata": {
        "id": "X44hQ653vNCj"
      },
      "source": [
        "# Introduction to the Long Short-Term Memory (LSTM) Cell\n",
        "\n",
        "Reading material: [Christopher Olah's walk-through](http://colah.github.io/posts/2015-08-Understanding-LSTMs/).\n",
        "\n",
        "___\n",
        "\n",
        "\n",
        "A vanilla RNN suffers from [the vanishing gradients problem](http://neuralnetworksanddeeplearning.com/chap5.html#the_vanishing_gradient_problem) which gives challenges in saving memory over longer sequences. To combat these issues the gated hidden units were created. The two most prominent gated hidden units are the Long Short-Term Memory (LSTM) cell and the Gated Recurrent Unit (GRU), both of which have shown increased performance in saving and reusing memory in later timesteps. In this exercise, we will focus on LSTM but you would easily be able to go ahead and implement the GRU as well based on the principles that you learn here.\n",
        "\n",
        "Below is a figure of the LSTM cell:"
      ]
    },
    {
      "cell_type": "markdown",
      "metadata": {
        "id": "5Rgc-g3zwV9f"
      },
      "source": [
        "![lstm](https://i.imgur.com/3VkmUCe.png)\n",
        "Source: https://arxiv.org/abs/1412.7828"
      ]
    },
    {
      "cell_type": "markdown",
      "metadata": {
        "id": "ytasZ5cqw4W1"
      },
      "source": [
        "\n",
        "The LSTM cell contains three gates, input, forget, output gates and a memory cell.\n",
        "The output of the LSTM unit is computed with the following functions, where $\\sigma = \\mathrm{sigmoid}$.\n",
        "We have input gate $i$, forget gate $f$, and output gate $o$ defines as\n",
        "\n",
        "- $i = \\sigma ( W^i [h_{t-1}, x_t])$\n",
        "\n",
        "- $f = \\sigma ( W^f [h_{t-1},x_t])$\n",
        "\n",
        "- $o = \\sigma ( W^o [h_{t-1},x_t])$\n",
        "\n",
        "where $W^i, W^f, W^o$ are weight matrices applied to a concatenated $h_{t-1}$ (hidden state vector) and $x_t$ (input vector)  for each respective gate.\n",
        "\n",
        "$h_{t-1}$, from the previous time step along with the current input $x_t$ are used to compute the a candidate $g$\n",
        "\n",
        "- $g = \\mathrm{tanh}( W^g [h_{t-1}, x_t])$\n",
        "\n",
        "The value of the cell's memory, $c_t$, is updated as\n",
        "\n",
        "- $c_t = c_{t-1} \\circ f + g \\circ i$\n",
        "\n",
        "where $c_{t-1}$ is the previous memory, and $\\circ$ refers to element-wise multiplication (hint: element-wise multiplication is computed with the `*` operator in numpy).\n",
        "\n",
        "The output, $h_t$, is computed as\n",
        "\n",
        "- $h_t = \\mathrm{tanh}(c_t) \\circ o$\n",
        "\n",
        "and it is used for both the timestep's output and the next timestep, whereas $c_t$ is exclusively sent to the next timestep.\n",
        "This makes $c_t$ a memory feature, and is not used directly to compute the output of the timestep."
      ]
    },
    {
      "cell_type": "markdown",
      "metadata": {
        "id": "m8_4RWp3k2iQ"
      },
      "source": [
        "## Exercise h) Make the LSTMLayer class\n",
        "\n",
        "Make the LSTM class."
      ]
    },
    {
      "cell_type": "code",
      "metadata": {
        "id": "qdU0yMXQU7d0"
      },
      "source": [
        "# Insert code here\n",
        "\n",
        "class LSTMLayer:\n",
        "    def __init__(self, n_in: int, n_hid: int, act_fn, initializer = NormalInitializer(), initializer_hid = NormalInitializer()):\n",
        "        self.n_in = n_in\n",
        "        self.n_hid = n_hid\n",
        "        self.in_hid_layer = DenseLayer(n_in, n_hid, lambda x: x, initializer)\n",
        "        self.g_layer = DenseLayer(n_in+n_hid, n_hid, lambda x: x.tanh(), initializer)\n",
        "        self.i_layer = DenseLayer(n_in+n_hid, n_hid, lambda x: x.sigmoid(), initializer)\n",
        "        self.f_layer = DenseLayer(n_in+n_hid, n_hid, lambda x: x.sigmoid(), initializer)\n",
        "        self.o_layer = DenseLayer(n_in+n_hid, n_hid, lambda x: x.sigmoid(), initializer)\n",
        "        self.initial_hid = [Var(0.0) for _ in range(n_hid)]\n",
        "        self.stored_hid = [Var(0.0) for _ in range(n_hid)]\n",
        "        self.initial_c = [Var(0.0) for _ in range(n_hid)]\n",
        "        self.stored_c = [Var(0.0) for _ in range(n_hid)]\n",
        "        self.act_fn = act_fn\n",
        "    \n",
        "    def __repr__(self):    \n",
        "        return 'Feed-forward: ' + repr(self.in_hid_layer) + ' Candidate: ' + repr(self.g_layer) + ' i gate ' + repr(self.i_layer) + ' f gate ' + repr(self.f_layer) + ' o gate ' + repr(self.o_layer) + ' Initial hidden: ' + repr(self.initial_hid)\n",
        "\n",
        "    def parameters(self) -> Sequence[Var]:      \n",
        "      return self.in_hid_layer.parameters() + self.g_layer.parameters() + self.i_layer.parameters() + self.f_layer.parameters() + self.o_layer.parameters() + self.initial_hid\n",
        "\n",
        "    def forward_step(self, input: Sequence[Var], input_hid: Sequence[Var], input_c: Sequence[Var]) -> Sequence[Var]:\n",
        "        hids = []\n",
        "        cs = []\n",
        "        concatenated_input = []\n",
        "        for val in input_hid:\n",
        "          concatenated_input.append(val)\n",
        "        for val in input:\n",
        "          concatenated_input.append(val)\n",
        "\n",
        "        # Insert code here\n",
        "        g = self.g_layer.forward(concatenated_input)\n",
        "        i = self.i_layer.forward(concatenated_input)\n",
        "        f = self.f_layer.forward(concatenated_input)\n",
        "        o = self.o_layer.forward(concatenated_input)\n",
        "\n",
        "        for n in range(self.n_hid):\n",
        "          c = input_c[n] * f[n] + g[n] * i[n]\n",
        "          h = self.act_fn(c) * o[n]\n",
        "          cs.append(c)\n",
        "          hids.append(h)\n",
        "\n",
        "        return hids, cs\n",
        "    \n",
        "    def forward_sequence(self, input: Sequence[Sequence[Var]], use_stored_hid = False) -> Sequence[Sequence[Var]]:\n",
        "        out = []\n",
        "        if use_stored_hid:\n",
        "            hid = self.stored_hid\n",
        "            c = self.stored_c\n",
        "        else:\n",
        "            hid = self.initial_hid\n",
        "            c = self.initial_c\n",
        "        # Takes a sequence and loops over each character in the sequence. Note that each character has dimenson equal to the embeddng dimenson\n",
        "        for i in range(len(input)):\n",
        "            hid, c = self.forward_step(input[i], hid, c)   # insert code here\n",
        "            out.append(hid)\n",
        "        self.stored_hid = hid\n",
        "        self.stored_c = c\n",
        "        return out"
      ],
      "execution_count": 96,
      "outputs": []
    },
    {
      "cell_type": "markdown",
      "metadata": {
        "id": "gKu-bfhzk2iY"
      },
      "source": [
        "Here is a bit of code to test it out:"
      ]
    },
    {
      "cell_type": "code",
      "metadata": {
        "id": "u4AYroqSVRSv",
        "colab": {
          "base_uri": "https://localhost:8080/"
        },
        "outputId": "61c7c8f9-b2a0-4ed2-e6a7-28be6f6ee998"
      },
      "source": [
        "NN = [\n",
        "    LSTMLayer(1, 5, lambda x: x.tanh()),\n",
        "    DenseLayer(5, 1, lambda x: x.identity())\n",
        "]\n",
        "\n",
        "print(NN[0])\n",
        "x_train =[[[Var(1.0)], [Var(2.0)], [Var(3.0)]],\n",
        "          [[Var(1.0)], [Var(2.0)], [Var(3.0)]]]\n",
        "\n",
        "output_train = forward_batch(x_train, NN)          \n",
        "output_train[0][0][0].backward()\n",
        "\n",
        "print(output_train)"
      ],
      "execution_count": 97,
      "outputs": [
        {
          "output_type": "stream",
          "name": "stdout",
          "text": [
            "Feed-forward: Weights: [[Var(v=0.0226, grad=0.0000), Var(v=0.0952, grad=0.0000), Var(v=0.1320, grad=0.0000), Var(v=0.0950, grad=0.0000), Var(v=-0.0166, grad=0.0000)]] Biases: [Var(v=0.0000, grad=0.0000), Var(v=0.0000, grad=0.0000), Var(v=0.0000, grad=0.0000), Var(v=0.0000, grad=0.0000), Var(v=0.0000, grad=0.0000)] Candidate: Weights: [[Var(v=0.1331, grad=0.0000), Var(v=-0.1154, grad=0.0000), Var(v=0.1424, grad=0.0000), Var(v=0.2122, grad=0.0000), Var(v=-0.0606, grad=0.0000)], [Var(v=-0.1132, grad=0.0000), Var(v=-0.0448, grad=0.0000), Var(v=-0.0011, grad=0.0000), Var(v=-0.1927, grad=0.0000), Var(v=-0.0614, grad=0.0000)], [Var(v=-0.0313, grad=0.0000), Var(v=0.1490, grad=0.0000), Var(v=-0.0963, grad=0.0000), Var(v=-0.0076, grad=0.0000), Var(v=0.1174, grad=0.0000)], [Var(v=-0.0118, grad=0.0000), Var(v=0.0018, grad=0.0000), Var(v=-0.2899, grad=0.0000), Var(v=0.1966, grad=0.0000), Var(v=0.0412, grad=0.0000)], [Var(v=0.0217, grad=0.0000), Var(v=0.0784, grad=0.0000), Var(v=0.0097, grad=0.0000), Var(v=-0.1275, grad=0.0000), Var(v=-0.0473, grad=0.0000)], [Var(v=0.0148, grad=0.0000), Var(v=0.0118, grad=0.0000), Var(v=-0.1227, grad=0.0000), Var(v=-0.0450, grad=0.0000), Var(v=0.1033, grad=0.0000)]] Biases: [Var(v=0.0000, grad=0.0000), Var(v=0.0000, grad=0.0000), Var(v=0.0000, grad=0.0000), Var(v=0.0000, grad=0.0000), Var(v=0.0000, grad=0.0000)] i gate Weights: [[Var(v=0.1480, grad=0.0000), Var(v=0.1099, grad=0.0000), Var(v=-0.1556, grad=0.0000), Var(v=-0.1245, grad=0.0000), Var(v=0.2705, grad=0.0000)], [Var(v=-0.1058, grad=0.0000), Var(v=-0.1951, grad=0.0000), Var(v=-0.0729, grad=0.0000), Var(v=0.0771, grad=0.0000), Var(v=0.0124, grad=0.0000)], [Var(v=-0.1683, grad=0.0000), Var(v=0.0802, grad=0.0000), Var(v=-0.0552, grad=0.0000), Var(v=0.0752, grad=0.0000), Var(v=0.1180, grad=0.0000)], [Var(v=-0.0528, grad=0.0000), Var(v=0.0278, grad=0.0000), Var(v=0.0096, grad=0.0000), Var(v=0.0680, grad=0.0000), Var(v=-0.1516, grad=0.0000)], [Var(v=-0.0880, grad=0.0000), Var(v=0.2083, grad=0.0000), Var(v=0.1131, grad=0.0000), Var(v=0.0062, grad=0.0000), Var(v=0.1512, grad=0.0000)], [Var(v=0.0804, grad=0.0000), Var(v=-0.0272, grad=0.0000), Var(v=-0.0420, grad=0.0000), Var(v=0.1019, grad=0.0000), Var(v=-0.0180, grad=0.0000)]] Biases: [Var(v=0.0000, grad=0.0000), Var(v=0.0000, grad=0.0000), Var(v=0.0000, grad=0.0000), Var(v=0.0000, grad=0.0000), Var(v=0.0000, grad=0.0000)] f gate Weights: [[Var(v=-0.0292, grad=0.0000), Var(v=0.0955, grad=0.0000), Var(v=0.0337, grad=0.0000), Var(v=-0.0426, grad=0.0000), Var(v=0.1053, grad=0.0000)], [Var(v=-0.0562, grad=0.0000), Var(v=0.1072, grad=0.0000), Var(v=-0.0923, grad=0.0000), Var(v=-0.0952, grad=0.0000), Var(v=0.0608, grad=0.0000)], [Var(v=-0.0867, grad=0.0000), Var(v=-0.0444, grad=0.0000), Var(v=-0.0358, grad=0.0000), Var(v=0.0762, grad=0.0000), Var(v=-0.1578, grad=0.0000)], [Var(v=-0.1651, grad=0.0000), Var(v=-0.1130, grad=0.0000), Var(v=0.0636, grad=0.0000), Var(v=-0.0265, grad=0.0000), Var(v=0.0172, grad=0.0000)], [Var(v=-0.0629, grad=0.0000), Var(v=0.1881, grad=0.0000), Var(v=0.0978, grad=0.0000), Var(v=0.0245, grad=0.0000), Var(v=0.1683, grad=0.0000)], [Var(v=0.0113, grad=0.0000), Var(v=0.0006, grad=0.0000), Var(v=0.1253, grad=0.0000), Var(v=-0.0586, grad=0.0000), Var(v=0.1877, grad=0.0000)]] Biases: [Var(v=0.0000, grad=0.0000), Var(v=0.0000, grad=0.0000), Var(v=0.0000, grad=0.0000), Var(v=0.0000, grad=0.0000), Var(v=0.0000, grad=0.0000)] o gate Weights: [[Var(v=-0.0948, grad=0.0000), Var(v=-0.0476, grad=0.0000), Var(v=-0.1077, grad=0.0000), Var(v=-0.1131, grad=0.0000), Var(v=-0.0195, grad=0.0000)], [Var(v=-0.1189, grad=0.0000), Var(v=0.0189, grad=0.0000), Var(v=-0.0710, grad=0.0000), Var(v=-0.1408, grad=0.0000), Var(v=-0.0050, grad=0.0000)], [Var(v=0.1182, grad=0.0000), Var(v=-0.0431, grad=0.0000), Var(v=0.1044, grad=0.0000), Var(v=-0.0610, grad=0.0000), Var(v=0.1143, grad=0.0000)], [Var(v=0.0112, grad=0.0000), Var(v=-0.0167, grad=0.0000), Var(v=0.1435, grad=0.0000), Var(v=0.0027, grad=0.0000), Var(v=-0.0916, grad=0.0000)], [Var(v=-0.1230, grad=0.0000), Var(v=0.1313, grad=0.0000), Var(v=-0.0166, grad=0.0000), Var(v=0.1889, grad=0.0000), Var(v=-0.0294, grad=0.0000)], [Var(v=0.0821, grad=0.0000), Var(v=-0.1153, grad=0.0000), Var(v=0.0476, grad=0.0000), Var(v=-0.0121, grad=0.0000), Var(v=0.0142, grad=0.0000)]] Biases: [Var(v=0.0000, grad=0.0000), Var(v=0.0000, grad=0.0000), Var(v=0.0000, grad=0.0000), Var(v=0.0000, grad=0.0000), Var(v=0.0000, grad=0.0000)] Initial hidden: [Var(v=0.0000, grad=0.0000), Var(v=0.0000, grad=0.0000), Var(v=0.0000, grad=0.0000), Var(v=0.0000, grad=0.0000), Var(v=0.0000, grad=0.0000)]\n",
            "[[[Var(v=0.0045, grad=1.0000)], [Var(v=0.0116, grad=0.0000)], [Var(v=0.0200, grad=0.0000)]], [[Var(v=0.0045, grad=0.0000)], [Var(v=0.0116, grad=0.0000)], [Var(v=0.0200, grad=0.0000)]]]\n"
          ]
        }
      ]
    },
    {
      "cell_type": "markdown",
      "metadata": {
        "id": "z4r4mgFsk2ik"
      },
      "source": [
        "## Exercise i) LSTM training\n",
        "\n",
        "Complete the LSTM training loop\n",
        "\n",
        "Run the training loop. Training time in Nanograd will likely be long, but see if you can find settings to compare your LSTM learning curve (NLL and number of epochs) to the vanilla RNN from earlier. Do you observe any improvements? Motivate your answer.\n",
        "\n",
        "Finally, below we will implement LSTM in PyTorch. You will notice it is much, much faster!\n",
        "\n",
        "**Anwser**\n",
        "\n",
        "I tried to keep the parameters as similar as I could to keep the models as comparable as possible. Only the number of epochs was changed to be 100 instead of 200 (and the code still ran for over an hour). I expected that the LSTM training will converge faster than the regular RNN but this one test did not show that in any way (rather the opposite for some reason). The LSTM network does not seem to be performing any better but it is a lot slower. "
      ]
    },
    {
      "cell_type": "code",
      "metadata": {
        "id": "MOAmppJD66tJ"
      },
      "source": [
        "# Initialize training hyperparameters\n",
        "EPOCHS = 100\n",
        "LR = 1e-2 \n",
        "LR_DECAY = 0.995"
      ],
      "execution_count": 98,
      "outputs": []
    },
    {
      "cell_type": "code",
      "metadata": {
        "id": "tiotu2ab66w-",
        "colab": {
          "base_uri": "https://localhost:8080/",
          "height": 626
        },
        "outputId": "d9ddcd73-3546-4f7d-caf1-632399080deb"
      },
      "source": [
        "NN = [\n",
        "    LSTMLayer(4, 1, lambda x: x.tanh()),\n",
        "    DenseLayer(1, 4, lambda x: x.identity())\n",
        "]\n",
        "\n",
        "train_loss = []\n",
        "val_loss = []\n",
        "\n",
        "batch_size = 8\n",
        "\n",
        "for e in range(EPOCHS):\n",
        "  epoch_loss = 0.0\n",
        "\n",
        "  for b in range(int(np.ceil(len(encoded_training_set_x)/batch_size))):\n",
        "      # Forward pass and loss computation\n",
        "      output_train = forward_batch(encoded_training_set_x[b*batch_size:(b+1)*batch_size], NN)\n",
        "      Loss = sequence_loss(output_train, encoded_training_set_y[b*batch_size:(b+1)*batch_size], cross_entropy_loss_sequence)\n",
        "\n",
        "      # Backward pass\n",
        "      Loss.backward()\n",
        "        \n",
        "      # gradient descent update\n",
        "      update_parameters(parameters(NN), LR)\n",
        "      zero_gradients(parameters(NN))\n",
        "\n",
        "      epoch_loss += Loss.v \n",
        "      \n",
        "  LR = LR * LR_DECAY\n",
        "\n",
        "  # Training loss\n",
        "  train_loss.append(epoch_loss/len(encoded_training_set_x))\n",
        "        \n",
        "  # Validation loss\n",
        "  output_validation = forward_batch(encoded_validation_set_x, NN)\n",
        "  Loss_validation = sequence_loss(output_validation, encoded_validation_set_y, cross_entropy_loss_sequence)\n",
        "  val_loss.append(Loss_validation.v/len(encoded_validation_set_x))\n",
        "    \n",
        "  if e%5==0:\n",
        "      print(\"{:4d}\".format(e),\n",
        "            \"({:5.2f}%)\".format(e/EPOCHS*100), \n",
        "            \"Train loss: {:4.3f} \\t Validation loss: {:4.3f}\".format(train_loss[-1], val_loss[-1]))\n",
        "        \n",
        "# Plot training and validation loss\n",
        "import matplotlib.pyplot as plt\n",
        "%matplotlib inline\n",
        "epoch = np.arange(len(train_loss))\n",
        "plt.figure()\n",
        "plt.plot(epoch, train_loss, 'r', label='Training loss',)\n",
        "plt.plot(epoch, val_loss, 'b', label='Validation loss')\n",
        "plt.legend()\n",
        "plt.xlabel('Epoch'), plt.ylabel('NLL')\n",
        "plt.show()"
      ],
      "execution_count": 99,
      "outputs": [
        {
          "output_type": "stream",
          "name": "stdout",
          "text": [
            "   0 ( 0.00%) Train loss: 5.494 \t Validation loss: 4.270\n",
            "   5 ( 5.00%) Train loss: 4.635 \t Validation loss: 3.762\n",
            "  10 (10.00%) Train loss: 4.477 \t Validation loss: 3.651\n",
            "  15 (15.00%) Train loss: 4.405 \t Validation loss: 3.597\n",
            "  20 (20.00%) Train loss: 4.359 \t Validation loss: 3.561\n",
            "  25 (25.00%) Train loss: 4.320 \t Validation loss: 3.529\n",
            "  30 (30.00%) Train loss: 4.276 \t Validation loss: 3.493\n",
            "  35 (35.00%) Train loss: 4.218 \t Validation loss: 3.445\n",
            "  40 (40.00%) Train loss: 4.135 \t Validation loss: 3.375\n",
            "  45 (45.00%) Train loss: 4.013 \t Validation loss: 3.276\n",
            "  50 (50.00%) Train loss: 3.847 \t Validation loss: 3.143\n",
            "  55 (55.00%) Train loss: 3.650 \t Validation loss: 2.989\n",
            "  60 (60.00%) Train loss: 3.455 \t Validation loss: 2.842\n",
            "  65 (65.00%) Train loss: 3.290 \t Validation loss: 2.721\n",
            "  70 (70.00%) Train loss: 3.159 \t Validation loss: 2.628\n",
            "  75 (75.00%) Train loss: 3.059 \t Validation loss: 2.557\n",
            "  80 (80.00%) Train loss: 2.981 \t Validation loss: 2.502\n",
            "  85 (85.00%) Train loss: 2.918 \t Validation loss: 2.457\n",
            "  90 (90.00%) Train loss: 2.867 \t Validation loss: 2.419\n",
            "  95 (95.00%) Train loss: 2.823 \t Validation loss: 2.384\n"
          ]
        },
        {
          "output_type": "display_data",
          "data": {
            "image/png": "[encoded data removed]",
            "text/plain": [
              "<Figure size 432x288 with 1 Axes>"
            ]
          },
          "metadata": {
            "needs_background": "light"
          }
        }
      ]
    },
    {
      "cell_type": "markdown",
      "metadata": {
        "id": "gi51eWgKxyOk"
      },
      "source": [
        "## PyTorch implementation of the LSTM\n",
        "\n",
        "Now that we know how the LSTM cell works, let's see how easy it is to use in PyTorch!"
      ]
    },
    {
      "cell_type": "markdown",
      "metadata": {
        "id": "O6HDdJLuk2ip"
      },
      "source": [
        "Definition of our LSTM network. We define a LSTM layer using the [nn.LSTM](https://pytorch.org/docs/stable/nn.html#lstm) class. The LSTM layer takes as argument the size of the input and the size of the hidden state like in our Nanograd implementation."
      ]
    },
    {
      "cell_type": "code",
      "metadata": {
        "id": "8UGrvknfk2ip",
        "colab": {
          "base_uri": "https://localhost:8080/"
        },
        "outputId": "ab0e2cc6-33bb-4a02-b450-c89aca18dae2"
      },
      "source": [
        "import torch\n",
        "import torch.nn as nn\n",
        "import torch.nn.functional as F\n",
        "\n",
        "class MyRecurrentNet(nn.Module):\n",
        "    def __init__(self):\n",
        "        super(MyRecurrentNet, self).__init__()\n",
        "        \n",
        "        # Recurrent layer\n",
        "        # YOUR CODE HERE!\n",
        "        self.lstm = nn.LSTM(input_size=vocab_size,\n",
        "                         hidden_size=100,\n",
        "                         num_layers=1,\n",
        "                         bidirectional=False)\n",
        "        \n",
        "        # Output layer\n",
        "        self.l_out = nn.Linear(in_features=100,\n",
        "                            out_features=vocab_size,\n",
        "                            bias=False)\n",
        "        \n",
        "    def forward(self, x):\n",
        "        # RNN returns output and last hidden state\n",
        "        x, (h, c) = self.lstm(x)\n",
        "        \n",
        "        # Flatten output for feed-forward layer\n",
        "        x = x.view(-1, self.lstm.hidden_size)\n",
        "        \n",
        "        # Output layer\n",
        "        x = self.l_out(x)\n",
        "        \n",
        "        return x\n",
        "\n",
        "net = MyRecurrentNet()\n",
        "print(net)"
      ],
      "execution_count": 70,
      "outputs": [
        {
          "output_type": "stream",
          "name": "stdout",
          "text": [
            "MyRecurrentNet(\n",
            "  (lstm): LSTM(4, 100)\n",
            "  (l_out): Linear(in_features=100, out_features=4, bias=False)\n",
            ")\n"
          ]
        }
      ]
    },
    {
      "cell_type": "markdown",
      "metadata": {
        "id": "J6r3bPwYk2is"
      },
      "source": [
        "## Exercise j) Train in PyTorch\n",
        "\n",
        "Define an LSTM for our recurrent neural network `MyRecurrentNet` above. A single LSTM layer is sufficient. What should the input size and hidden size be? Hint: use the PyTorch documentation.\n",
        "\n",
        "It's time for us to train our network. In the section below, you will get to put your deep learning skills to use and create your own training loop. You may want to consult previous exercises if you cannot recall how to define the training loop."
      ]
    },
    {
      "cell_type": "code",
      "metadata": {
        "id": "2URKsyFDx8xG",
        "colab": {
          "base_uri": "https://localhost:8080/",
          "height": 782
        },
        "outputId": "5f73c3da-c731-431e-d04a-2874f065cff3"
      },
      "source": [
        "# Hyper-parameters\n",
        "num_epochs = 200\n",
        "\n",
        "# Initialize a new network\n",
        "net = MyRecurrentNet()\n",
        "\n",
        "# Define a loss function and optimizer for this problem\n",
        "# YOUR CODE HERE!\n",
        "criterion = nn.CrossEntropyLoss()\n",
        "optimizer = torch.optim.Adam(net.parameters(), lr=0.005)\n",
        "\n",
        "# Track loss\n",
        "training_loss, validation_loss = [], []\n",
        "\n",
        "# For each epoch\n",
        "for i in range(num_epochs):\n",
        "    \n",
        "    # Track loss\n",
        "    epoch_training_loss = 0\n",
        "    epoch_validation_loss = 0\n",
        "    \n",
        "    net.eval()\n",
        "        \n",
        "    # For each sentence in validation set\n",
        "    for inputs, targets in validation_set:\n",
        "        \n",
        "        # One-hot encode input and target sequence\n",
        "        inputs_one_hot = one_hot_encode_sequence(inputs, vocab_size, ex_j=True)\n",
        "        targets_idx = [word_to_idx[word] for word in targets]\n",
        "        \n",
        "        # Convert input to tensor\n",
        "        inputs_one_hot = torch.Tensor(inputs_one_hot)\n",
        "        inputs_one_hot = inputs_one_hot.permute(0, 2, 1)\n",
        "        \n",
        "        # Convert target to tensor\n",
        "        targets_idx = torch.LongTensor(targets_idx)\n",
        "        \n",
        "        # Forward pass\n",
        "        # YOUR CODE HERE!\n",
        "        outputs = net(inputs_one_hot)\n",
        "        \n",
        "        # Compute loss\n",
        "        # YOUR CODE HERE!\n",
        "        loss = criterion(outputs, targets_idx)\n",
        "        \n",
        "        # Update loss\n",
        "        epoch_validation_loss += loss.detach().numpy()\n",
        "    \n",
        "    net.train()\n",
        "    \n",
        "    # For each sentence in training set\n",
        "    for inputs, targets in training_set:\n",
        "        \n",
        "        # One-hot encode input and target sequence\n",
        "        inputs_one_hot = one_hot_encode_sequence(inputs, vocab_size, ex_j=True)\n",
        "        targets_idx = [word_to_idx[word] for word in targets]\n",
        "        \n",
        "        # Convert input to tensor\n",
        "        inputs_one_hot = torch.Tensor(inputs_one_hot)\n",
        "        inputs_one_hot = inputs_one_hot.permute(0, 2, 1)\n",
        "        \n",
        "        # Convert target to tensor\n",
        "        targets_idx = torch.LongTensor(targets_idx)\n",
        "        \n",
        "        # Forward pass\n",
        "        # YOUR CODE HERE!\n",
        "        outputs = net(inputs_one_hot)\n",
        "        \n",
        "        # Compute loss\n",
        "        # YOUR CODE HERE!\n",
        "        loss = criterion(outputs, targets_idx)\n",
        "        \n",
        "        # Backward pass\n",
        "        # YOUR CODE HERE!\n",
        "        # zero grad, backward, step...\n",
        "        net.zero_grad()\n",
        "        loss.backward()\n",
        "        optimizer.step()\n",
        "        \n",
        "        # Update loss\n",
        "        epoch_training_loss += loss.detach().numpy()\n",
        "        \n",
        "    # Save loss for plot\n",
        "    training_loss.append(epoch_training_loss/len(training_set))\n",
        "    validation_loss.append(epoch_validation_loss/len(validation_set))\n",
        "\n",
        "    # Print loss every 10 epochs\n",
        "    if i % 10 == 0:\n",
        "        print(f'Epoch {i}, training loss: {training_loss[-1]}, validation loss: {validation_loss[-1]}')\n",
        "\n",
        "        \n",
        "# Get first sentence in test set\n",
        "inputs, targets = test_set[1]\n",
        "\n",
        "# One-hot encode input and target sequence\n",
        "inputs_one_hot = one_hot_encode_sequence(inputs, vocab_size, ex_j=True)\n",
        "targets_idx = [word_to_idx[word] for word in targets]\n",
        "\n",
        "# Convert input to tensor\n",
        "inputs_one_hot = torch.Tensor(inputs_one_hot)\n",
        "inputs_one_hot = inputs_one_hot.permute(0, 2, 1)\n",
        "\n",
        "# Convert target to tensor\n",
        "targets_idx = torch.LongTensor(targets_idx)\n",
        "\n",
        "# Forward pass\n",
        "outputs = net.forward(inputs_one_hot).data.numpy()\n",
        "\n",
        "print('\\nInput sequence:')\n",
        "print(inputs)\n",
        "\n",
        "print('\\nTarget sequence:')\n",
        "print(targets)\n",
        "\n",
        "print('\\nPredicted sequence:')\n",
        "print([idx_to_word[np.argmax(output)] for output in outputs])\n",
        "\n",
        "# Plot training and validation loss\n",
        "epoch = np.arange(len(training_loss))\n",
        "plt.figure()\n",
        "plt.plot(epoch, training_loss, 'r', label='Training loss',)\n",
        "plt.plot(epoch, validation_loss, 'b', label='Validation loss')\n",
        "plt.legend()\n",
        "plt.xlabel('Epoch'), plt.ylabel('NLL')\n",
        "plt.show()"
      ],
      "execution_count": 75,
      "outputs": [
        {
          "output_type": "stream",
          "name": "stdout",
          "text": [
            "Epoch 0, training loss: 1.0161713457107544, validation loss: 1.3767410516738892\n",
            "Epoch 10, training loss: 0.3331384539604187, validation loss: 0.3221822778383891\n",
            "Epoch 20, training loss: 0.32090197324752806, validation loss: 0.31023847063382465\n",
            "Epoch 30, training loss: 0.31558783650398253, validation loss: 0.30664007862408954\n",
            "Epoch 40, training loss: 0.312745943069458, validation loss: 0.30512142181396484\n",
            "Epoch 50, training loss: 0.3110499608516693, validation loss: 0.30430711309115094\n",
            "Epoch 60, training loss: 0.31033539652824405, validation loss: 0.3033984700838725\n",
            "Epoch 70, training loss: 0.30907372951507567, validation loss: 0.3030438721179962\n",
            "Epoch 80, training loss: 0.3084119772911072, validation loss: 0.3025202751159668\n",
            "Epoch 90, training loss: 0.3080250072479248, validation loss: 0.30204174915949505\n",
            "Epoch 100, training loss: 0.30760269284248354, validation loss: 0.3015432457129161\n",
            "Epoch 110, training loss: 0.30719499111175536, validation loss: 0.3013261059919993\n",
            "Epoch 120, training loss: 0.3069322919845581, validation loss: 0.301105797290802\n",
            "Epoch 130, training loss: 0.3066366076469421, validation loss: 0.30072928468386334\n",
            "Epoch 140, training loss: 0.3064087569713593, validation loss: 0.3004864454269409\n",
            "Epoch 150, training loss: 0.3061832499504089, validation loss: 0.3003424306710561\n",
            "Epoch 160, training loss: 0.30594249367713927, validation loss: 0.3003203372160594\n",
            "Epoch 170, training loss: 0.3057347011566162, validation loss: 0.30032313863436383\n",
            "Epoch 180, training loss: 0.30555291295051573, validation loss: 0.30019713441530865\n",
            "Epoch 190, training loss: 0.3053401231765747, validation loss: 0.3002014060815175\n",
            "\n",
            "Input sequence:\n",
            "['a', 'a', 'b', 'b']\n",
            "\n",
            "Target sequence:\n",
            "['a', 'b', 'b', 'EOS']\n",
            "\n",
            "Predicted sequence:\n",
            "['b', 'b', 'b', 'EOS']\n"
          ]
        },
        {
          "output_type": "display_data",
          "data": {
            "image/png": "[encoded data removed]",
            "text/plain": [
              "<Figure size 432x288 with 1 Axes>"
            ]
          },
          "metadata": {
            "needs_background": "light"
          }
        }
      ]
    },
    {
      "cell_type": "markdown",
      "metadata": {
        "id": "ydr7Czg_k2iw"
      },
      "source": [
        "# Exercise k) Compare PyTorch and Nanograd implementations\n",
        "\n",
        "Compare the two implementations (in terms of predictive performance, training speed, etc.). Are they similar? How do they differ?\n",
        "\n",
        "\n",
        "Try to play around with the choice of hyper-parameters, optimizer, and hidden dimensions. How much can you improve the negative log-likelihood by these simple changes?\n",
        "\n",
        "**Answser**\n",
        "\n",
        "The PyTorch implementation training speed was A LOT faster. PyTorch version converges a lot faster and the performance (validation and training loss) is also significantly better which could be caused by PyTorch using a more sophisticated optimizer (Adam) than the one in our implementation. "
      ]
    },
    {
      "cell_type": "markdown",
      "metadata": {
        "id": "M93ORx95k2ix"
      },
      "source": [
        "## Exercise l) Other RNN cells (optional)\n",
        "\n",
        "Aside from the LSTM cell, various other RNN cells exist. The gated recurrent unit (GRU) is a variation of the LSTM cell that uses less gating mechanisms. Try to look it up in the [PyTorch documentation](https://pytorch.org/docs/stable/nn.html#gru) and switch out the LSTM cell in the code above. What do you notice in terms of performance and convergence speed?"
      ]
    },
    {
      "cell_type": "markdown",
      "metadata": {
        "id": "juN400Ekk2iz"
      },
      "source": [
        "## Exercise m) More complex tasks (optional)\n",
        "\n",
        "Go back and generate a more complex patterned dataset to learn from. Do you see any significant differences between a vanilla RNN and LSTM (implemented in e.g. PyTorch) when you increase the difficulty of the task?"
      ]
    },
    {
      "cell_type": "markdown",
      "metadata": {
        "id": "v68YEkEBk2iz"
      },
      "source": [
        "# It works, now what?"
      ]
    },
    {
      "cell_type": "markdown",
      "metadata": {
        "id": "NjpqSrSuk2i0"
      },
      "source": [
        "In this notebook you have learned how to use embeddings, recurrent neural networks, and the LSTM cell in particular.\n",
        "\n",
        "As we have already seen, RNNs are excellent for sequential data such as language. But what do we do if we're modelling data with strong dependency in both directions? Like in many things deep learning, we can build powerful models by stacking layers on top of each other; *bi-directional* RNNs consist of two LSTM cells, one for each direction. A sequence is first fed into the forward LSTM cell and the reversed sequence is then used as input to the backward LSTM cell together with the last hidden state from the forward LSTM cell. Follow [this link](https://pdfs.semanticscholar.org/4b80/89bc9b49f84de43acc2eb8900035f7d492b2.pdf) for the original paper from 1997(!).\n",
        "\n",
        "For even deeper representations, multiple layers of both uni-directional and bi-directional RNNs can be stacked ontop of each other, just like feed-forward and convolutional layers. For more information on this, check out the [LSTM PyTorch documentation](https://pytorch.org/docs/stable/nn.html#lstm). Next week we will also explore ways to combine RNNs with other types of layers for even more expressive function approximators."
      ]
    }
  ]
}