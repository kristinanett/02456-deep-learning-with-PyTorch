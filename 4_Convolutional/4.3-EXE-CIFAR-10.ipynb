{
  "nbformat": 4,
  "nbformat_minor": 0,
  "metadata": {
    "colab": {
      "name": "Copy of 4.3-EXE-CIFAR-10.ipynb",
      "provenance": [],
      "include_colab_link": true
    },
    "kernelspec": {
      "display_name": "Python 3",
      "language": "python",
      "name": "python3"
    },
    "language_info": {
      "codemirror_mode": {
        "name": "ipython",
        "version": 3
      },
      "file_extension": ".py",
      "mimetype": "text/x-python",
      "name": "python",
      "nbconvert_exporter": "python",
      "pygments_lexer": "ipython3",
      "version": "3.8.3"
    }
  },
  "cells": [
    {
      "cell_type": "markdown",
      "metadata": {
        "id": "view-in-github",
        "colab_type": "text"
      },
      "source": [
        "<a href=\"https://colab.research.google.com/github/kristinanett/02456-deep-learning-with-PyTorch/blob/master/4_Convolutional/4.3-EXE-CIFAR-10.ipynb\" target=\"_parent\"><img src=\"https://colab.research.google.com/assets/colab-badge.svg\" alt=\"Open In Colab\"/></a>"
      ]
    },
    {
      "cell_type": "markdown",
      "metadata": {
        "id": "bu1Wy6Xb81Sn"
      },
      "source": [
        "# Credits\n",
        "\n",
        "This is heavily influenced from https://github.com/pytorch/tutorials"
      ]
    },
    {
      "cell_type": "markdown",
      "metadata": {
        "id": "oZW0gaQO81Sq"
      },
      "source": [
        "# CIFAR-10\n",
        "\n",
        "In this notebook you need to put what you have learned into practice, and create your own convolutional classifier for the CIFAR-10 dataset.\n",
        "\n",
        "It has the classes: ‘airplane’, ‘automobile’, ‘bird’, ‘cat’, ‘deer’, ‘dog’, ‘frog’, ‘horse’, ‘ship’, ‘truck’.\n",
        "The images in CIFAR-10 are of size 3x32x32, i.e. 3-channel color images of 32x32 pixels in size.\n",
        "\n",
        "![cifar10](https://github.com/DeepLearningDTU/02456-deep-learning-with-PyTorch/blob/master/static_files/cifar10.png?raw=1)\n",
        "\n",
        "\n",
        "In order to train a classifier the following steps needs to be performed:\n",
        "\n",
        "1. Load and normalizing the CIFAR10 training and test datasets using\n",
        "   ``torchvision``\n",
        "2. Define a Convolutional Neural Network\n",
        "3. Define a loss function\n",
        "4. Train the network on the training data\n",
        "5. Test the network on the test data\n",
        "\n",
        "We will help you along the way.\n",
        "We indicate the places you need to modify the code with `# Your code here!`.\n",
        "It is however a good idea to read the entire assignment before you begin coding!"
      ]
    },
    {
      "cell_type": "markdown",
      "metadata": {
        "id": "htyg7xxN81St"
      },
      "source": [
        "## 1. Loading and normalizing CIFAR10\n",
        "\n",
        "Using ``torchvision``, it’s extremely easy to load CIFAR10."
      ]
    },
    {
      "cell_type": "code",
      "metadata": {
        "id": "v3u2GIWr81Su"
      },
      "source": [
        "%matplotlib inline\n",
        "import matplotlib.pyplot as plt\n",
        "import numpy as np\n",
        "\n",
        "import torch\n",
        "import torchvision\n",
        "import torchvision.transforms as transforms"
      ],
      "execution_count": 56,
      "outputs": []
    },
    {
      "cell_type": "markdown",
      "metadata": {
        "id": "xx5SHRkm81S0"
      },
      "source": [
        "The output of torchvision datasets are PILImage images of range [0, 1].\n",
        "We transform them to Tensors of normalized range [-1, 1]\n",
        "\n",
        "**NB** Modify the code below to only use a small part of the dataset if your computer is very slow."
      ]
    },
    {
      "cell_type": "code",
      "metadata": {
        "colab": {
          "base_uri": "https://localhost:8080/"
        },
        "id": "QZeTujLC81S3",
        "outputId": "b6deb82b-c086-4c58-b561-0a81a0e340da"
      },
      "source": [
        "transform = transforms.Compose(\n",
        "    [transforms.ToTensor(),\n",
        "     transforms.Normalize((0.5, 0.5, 0.5),(0.5, 0.5, 0.5))\n",
        "    ]\n",
        ")\n",
        "\n",
        "# Load dataset\n",
        "trainset = torchvision.datasets.CIFAR10(root='./data', train=True,\n",
        "                                        download=True, transform=transform)\n",
        "testset = torchvision.datasets.CIFAR10(root='./data', train=False,\n",
        "                                       download=True, transform=transform)\n",
        "\n",
        "classes = ('plane', 'car', 'bird', 'cat', 'deer',\n",
        "           'dog', 'frog', 'horse', 'ship', 'truck')\n",
        "\n",
        "used_categories = range(len(classes))\n",
        "\n",
        "## USE CODE BELOW IF YOUR COMPUTER IS TOO SLOW\n",
        "reduce_dataset = False\n",
        "if reduce_dataset:\n",
        "    used_categories = (3, 5) # cats and dogs\n",
        "\n",
        "    classes = [classes[i] for i in used_categories]\n",
        "    new_train_data = []\n",
        "    new_train_labels = []\n",
        "\n",
        "    new_test_data = []\n",
        "    new_test_labels = []\n",
        "    for i, t in enumerate(used_categories):\n",
        "        new_train_data.append(trainset.data[np.where(np.array(trainset.targets) == t)])\n",
        "        new_train_labels += [i for _ in range(new_train_data[-1].shape[0])]\n",
        "\n",
        "        new_test_data.append(testset.data[np.where(np.array(testset.targets) == t)])\n",
        "        new_test_labels += [i for _ in range(new_test_data[-1].shape[0])]\n",
        "\n",
        "    new_train_data = np.concatenate(new_train_data, 0)\n",
        "    trainset.data = new_train_data\n",
        "    trainset.targets = new_train_labels\n",
        "\n",
        "    new_test_data = np.concatenate(new_test_data, 0)\n",
        "    testset.data = new_test_data\n",
        "    testset.targets = new_test_labels\n",
        "\n",
        "    \n",
        "trainloader = torch.utils.data.DataLoader(trainset, batch_size=4,\n",
        "                                          shuffle=True, num_workers=2)\n",
        "testloader = torch.utils.data.DataLoader(testset, batch_size=4,\n",
        "                                         shuffle=True, num_workers=2)\n",
        "train_data_iter = iter(trainloader)\n",
        "test_data_iter = iter(testloader)\n",
        "print('used classes:', classes)"
      ],
      "execution_count": 57,
      "outputs": [
        {
          "output_type": "stream",
          "name": "stdout",
          "text": [
            "Files already downloaded and verified\n",
            "Files already downloaded and verified\n",
            "used classes: ('plane', 'car', 'bird', 'cat', 'deer', 'dog', 'frog', 'horse', 'ship', 'truck')\n"
          ]
        }
      ]
    },
    {
      "cell_type": "code",
      "metadata": {
        "colab": {
          "base_uri": "https://localhost:8080/"
        },
        "id": "JDHkc52L81S9",
        "outputId": "ffa64199-806f-44d9-f4af-2fdd7500ee3e"
      },
      "source": [
        "print(\"# Training data\")\n",
        "print(\"Number of points:\", len(trainset))\n",
        "x, y = next(iter(trainloader))\n",
        "print(\"Batch dimension [B x C x H x W]:\", x.shape)\n",
        "print(\"Number of distinct labels:\", len(set(trainset.targets)))\n",
        "\n",
        "\n",
        "print(\"\\n# Test data\")\n",
        "print(\"Number of points:\", len(testset))\n",
        "x, y = next(iter(testloader))\n",
        "print(\"Batch dimension [B x C x H x W]:\", x.shape)\n",
        "print(\"Number of distinct labels:\", len(set(testset.targets)))"
      ],
      "execution_count": 58,
      "outputs": [
        {
          "output_type": "stream",
          "name": "stdout",
          "text": [
            "# Training data\n",
            "Number of points: 50000\n",
            "Batch dimension [B x C x H x W]: torch.Size([4, 3, 32, 32])\n",
            "Number of distinct labels: 10\n",
            "\n",
            "# Test data\n",
            "Number of points: 10000\n",
            "Batch dimension [B x C x H x W]: torch.Size([4, 3, 32, 32])\n",
            "Number of distinct labels: 10\n"
          ]
        }
      ]
    },
    {
      "cell_type": "markdown",
      "metadata": {
        "id": "xSA1h94681TB"
      },
      "source": [
        "Let us show some of the training images, for fun.\n",
        "\n"
      ]
    },
    {
      "cell_type": "code",
      "metadata": {
        "colab": {
          "base_uri": "https://localhost:8080/",
          "height": 155
        },
        "id": "njJy0klP81TD",
        "outputId": "2cc4a0fd-35d8-4c2e-c515-5ad872053e90"
      },
      "source": [
        "# Run this cell multiple time to see more samples\n",
        "\n",
        "def imshow(img):\n",
        "    \"\"\" show an image \"\"\"\n",
        "    img = img / 2 + 0.5 # unnormalize\n",
        "    npimg = img.numpy()\n",
        "    plt.imshow(np.transpose(npimg, (1, 2, 0)))\n",
        "\n",
        "\n",
        "# get some random training images\n",
        "images, labels = train_data_iter.next()\n",
        "\n",
        "# show images\n",
        "imshow(torchvision.utils.make_grid(images))\n",
        "\n",
        "# print labels\n",
        "print(' '.join('%5s' % classes[labels[j]] for j in range(4)))"
      ],
      "execution_count": 59,
      "outputs": [
        {
          "output_type": "stream",
          "name": "stdout",
          "text": [
            "  dog   dog  frog   dog\n"
          ]
        },
        {
          "output_type": "display_data",
          "data": {
            "image/png": "[encoded data removed]",
            "text/plain": [
              "<Figure size 432x288 with 1 Axes>"
            ]
          },
          "metadata": {
            "needs_background": "light"
          }
        }
      ]
    },
    {
      "cell_type": "markdown",
      "metadata": {
        "id": "Wt3BVFMF81TI"
      },
      "source": [
        "## 2. Define a Convolutional Neural Network\n",
        "\n",
        "**Assignment 1:** Define a convolutional neural network. \n",
        "You may use the code from previous notebooks.\n",
        "We suggest that you start with a small network, and make sure that everything is working.\n",
        "Once you can train successfully come back and improve the architecture"
      ]
    },
    {
      "cell_type": "code",
      "metadata": {
        "colab": {
          "base_uri": "https://localhost:8080/"
        },
        "id": "_EsKbw3o81TK",
        "outputId": "ebaf3b85-8a15-4b28-8360-fc292a65f2f2"
      },
      "source": [
        "from torch.autograd import Variable\n",
        "import torch.nn as nn\n",
        "import torch.nn.functional as F\n",
        "#from torch.nn import Linear, Conv2d, BatchNorm2d, MaxPool2d, Dropout2d\n",
        "#from torch.nn.functional import relu, elu, relu6, sigmoid, tanh, softmax\n",
        "\n",
        "\n",
        "num_l1 = 200\n",
        "num_l2 = 200\n",
        "channels = 3\n",
        "height = 32\n",
        "width = 32\n",
        "\n",
        "#define convolutional layer parameters\n",
        "num_filters_conv1 = 16\n",
        "kernel_size_conv1 = 5\n",
        "stride_conv1 = 1\n",
        "padding_conv1 = 2\n",
        "\n",
        "#define second convolutional layer parameters\n",
        "num_filters_conv2 = 32\n",
        "\n",
        "\n",
        "def compute_conv_dim(dim_size):\n",
        "    return int((dim_size - kernel_size_conv1 + 2 * padding_conv1) / stride_conv1 + 1)\n",
        "\n",
        "class Net(nn.Module):\n",
        "    def __init__(self, num_classes):\n",
        "        super(Net, self).__init__()\n",
        "        self.num_classes = num_classes\n",
        "        \n",
        "        # Your code here!\n",
        "        self.conv_1 = nn.Conv2d(in_channels=channels,\n",
        "                             out_channels=num_filters_conv1,\n",
        "                             kernel_size=kernel_size_conv1,\n",
        "                             stride=stride_conv1,\n",
        "                             padding=padding_conv1)\n",
        "        \n",
        "        self.pool1 = nn.MaxPool2d(kernel_size=2, stride=2)\n",
        "        \n",
        "        self.conv1_out_height = compute_conv_dim(height)\n",
        "        self.conv1_out_width = compute_conv_dim(width)\n",
        "\n",
        "        self.conv_2 = nn.Conv2d(in_channels=num_filters_conv1,\n",
        "                             out_channels=num_filters_conv2,\n",
        "                             kernel_size=kernel_size_conv1,\n",
        "                             stride=stride_conv1,\n",
        "                             padding=padding_conv1)\n",
        "        \n",
        "        self.pool2 = nn.MaxPool2d(kernel_size=2, stride=2)\n",
        "\n",
        "        self.conv_3 = nn.Conv2d(in_channels=num_filters_conv2,\n",
        "                             out_channels=num_filters_conv2,\n",
        "                             kernel_size=kernel_size_conv1,\n",
        "                             stride=stride_conv1,\n",
        "                             padding=padding_conv1)\n",
        "\n",
        "        #calculate nr of features that go into the fully connected layer\n",
        "        self.l1_in_features = num_filters_conv2 * int(self.conv1_out_height/4) * int(self.conv1_out_width/4)    \n",
        "        \n",
        "        self.l_1 = nn.Linear(in_features=self.l1_in_features, \n",
        "                          out_features=num_l1,\n",
        "                          bias=True)\n",
        "        \n",
        "        self.l_2 = nn.Linear(in_features=num_l1, \n",
        "                          out_features=num_l2,\n",
        "                          bias=True)\n",
        "        \n",
        "        self.l_out = nn.Linear(in_features=num_l2, \n",
        "                            out_features=self.num_classes,\n",
        "                            bias=False)\n",
        "        \n",
        "        \n",
        "        # adding dropout to the network\n",
        "        self.dropout = nn.Dropout2d(p=0.5)\n",
        "\n",
        "        \n",
        "\n",
        "    def forward(self, x):\n",
        "        # Your code here!\n",
        "\n",
        "        #convolutional + pooling layer\n",
        "        x = self.pool1(self.conv_1(x))\n",
        "        x = F.relu(x)\n",
        "\n",
        "        #second convolutional + pooling layer\n",
        "        x = self.pool2(self.conv_2(x))\n",
        "        x = F.relu(x)\n",
        "\n",
        "        #third convolutional layer\n",
        "        x = self.conv_3(x)\n",
        "        x = F.relu(x)\n",
        "\n",
        "        #fully connected layer\n",
        "        x = x.view(-1, self.l1_in_features)\n",
        "        x = F.relu(self.l_1(x))\n",
        "\n",
        "        #second fully connected layer\n",
        "        x = F.relu(self.l_2(x))\n",
        "\n",
        "        return self.l_out(x) \n",
        "    \n",
        "\n",
        "net = Net(len(used_categories))\n",
        "print(net)"
      ],
      "execution_count": 60,
      "outputs": [
        {
          "output_type": "stream",
          "name": "stdout",
          "text": [
            "Net(\n",
            "  (conv_1): Conv2d(3, 16, kernel_size=(5, 5), stride=(1, 1), padding=(2, 2))\n",
            "  (pool1): MaxPool2d(kernel_size=2, stride=2, padding=0, dilation=1, ceil_mode=False)\n",
            "  (conv_2): Conv2d(16, 32, kernel_size=(5, 5), stride=(1, 1), padding=(2, 2))\n",
            "  (pool2): MaxPool2d(kernel_size=2, stride=2, padding=0, dilation=1, ceil_mode=False)\n",
            "  (conv_3): Conv2d(32, 32, kernel_size=(5, 5), stride=(1, 1), padding=(2, 2))\n",
            "  (l_1): Linear(in_features=2048, out_features=200, bias=True)\n",
            "  (l_2): Linear(in_features=200, out_features=200, bias=True)\n",
            "  (l_out): Linear(in_features=200, out_features=10, bias=False)\n",
            "  (dropout): Dropout2d(p=0.5, inplace=False)\n",
            ")\n"
          ]
        }
      ]
    },
    {
      "cell_type": "markdown",
      "metadata": {
        "id": "7-IUg3sq81TQ"
      },
      "source": [
        "## 3. Define a Loss function and optimizer\n",
        "\n",
        "**Assignment 2:** Implement the criterion and optimizer. \n",
        "We suggest Classification Cross-Entropy loss and SGD with momentum.\n",
        "You might need to experiment a bit with the learning rate."
      ]
    },
    {
      "cell_type": "code",
      "metadata": {
        "id": "48AX85QP81TR"
      },
      "source": [
        "import torch.optim as optim\n",
        "\n",
        "criterion = nn.CrossEntropyLoss()  # Your code here!\n",
        "optimizer = optim.SGD(net.parameters(), lr=0.001, momentum=0.9)  # Your code here!"
      ],
      "execution_count": 61,
      "outputs": []
    },
    {
      "cell_type": "markdown",
      "metadata": {
        "id": "-WneIN7C81TV"
      },
      "source": [
        "## 4. Train the network\n",
        "\n",
        "**Assignment 3:** Finish the training loop below. \n",
        "Start by using a small number of epochs (e.g. 3).\n",
        "Even with a low number of epochs you should be able to see results that are better than chance.\n",
        "When everything is working increase the number of epochs to find out how good your network really is."
      ]
    },
    {
      "cell_type": "code",
      "metadata": {
        "colab": {
          "base_uri": "https://localhost:8080/"
        },
        "id": "NkUanRRb81TW",
        "outputId": "3798577c-1050-4c47-90f9-4e8b503f9fca"
      },
      "source": [
        "num_epoch = 10  # Your code here!\n",
        "\n",
        "for epoch in range(num_epoch):  # loop over the dataset multiple times\n",
        "\n",
        "    running_loss = 0.0\n",
        "    net.train()\n",
        "\n",
        "    for i, data in enumerate(trainloader, 0):\n",
        "        # get the inputs \n",
        "        inputs, labels = data #data is a list of [inputs, labels]\n",
        "\n",
        "        # wrap them in Variable\n",
        "        inputs, labels = Variable(inputs), Variable(labels)\n",
        "\n",
        "        # zero the parameter gradients\n",
        "        # Your code here!\n",
        "        optimizer.zero_grad()\n",
        "\n",
        "        # forward + backward + optimize\n",
        "        # Your code here!\n",
        "        output = net(inputs)\n",
        "\n",
        "        # compute gradients given loss\n",
        "        loss = criterion(output, labels)\n",
        "        loss.backward()\n",
        "        optimizer.step()\n",
        "  \n",
        "        # print statistics\n",
        "        running_loss += loss.item() #loss.data[0]\n",
        "        if i % 1000 == 999:    # print every 1000 mini-batches\n",
        "            print('[%d, %5d] loss: %.3f' %\n",
        "                  (epoch + 1, i + 1, running_loss / 1000))\n",
        "            running_loss = 0.0\n",
        "\n",
        "print('Finished Training')"
      ],
      "execution_count": 62,
      "outputs": [
        {
          "output_type": "stream",
          "name": "stdout",
          "text": [
            "[1,  1000] loss: 2.300\n",
            "[1,  2000] loss: 2.135\n",
            "[1,  3000] loss: 1.941\n",
            "[1,  4000] loss: 1.774\n",
            "[1,  5000] loss: 1.667\n",
            "[1,  6000] loss: 1.606\n",
            "[1,  7000] loss: 1.545\n",
            "[1,  8000] loss: 1.484\n",
            "[1,  9000] loss: 1.440\n",
            "[1, 10000] loss: 1.403\n",
            "[1, 11000] loss: 1.378\n",
            "[1, 12000] loss: 1.337\n",
            "[2,  1000] loss: 1.253\n",
            "[2,  2000] loss: 1.256\n",
            "[2,  3000] loss: 1.235\n",
            "[2,  4000] loss: 1.186\n",
            "[2,  5000] loss: 1.184\n",
            "[2,  6000] loss: 1.158\n",
            "[2,  7000] loss: 1.112\n",
            "[2,  8000] loss: 1.101\n",
            "[2,  9000] loss: 1.094\n",
            "[2, 10000] loss: 1.073\n",
            "[2, 11000] loss: 1.070\n",
            "[2, 12000] loss: 1.048\n",
            "[3,  1000] loss: 0.941\n",
            "[3,  2000] loss: 0.952\n",
            "[3,  3000] loss: 0.938\n",
            "[3,  4000] loss: 0.923\n",
            "[3,  5000] loss: 0.943\n",
            "[3,  6000] loss: 0.946\n",
            "[3,  7000] loss: 0.895\n",
            "[3,  8000] loss: 0.889\n",
            "[3,  9000] loss: 0.903\n",
            "[3, 10000] loss: 0.867\n",
            "[3, 11000] loss: 0.881\n",
            "[3, 12000] loss: 0.899\n",
            "[4,  1000] loss: 0.774\n",
            "[4,  2000] loss: 0.743\n",
            "[4,  3000] loss: 0.758\n",
            "[4,  4000] loss: 0.799\n",
            "[4,  5000] loss: 0.789\n",
            "[4,  6000] loss: 0.764\n",
            "[4,  7000] loss: 0.750\n",
            "[4,  8000] loss: 0.778\n",
            "[4,  9000] loss: 0.781\n",
            "[4, 10000] loss: 0.749\n",
            "[4, 11000] loss: 0.782\n",
            "[4, 12000] loss: 0.786\n",
            "[5,  1000] loss: 0.614\n",
            "[5,  2000] loss: 0.604\n",
            "[5,  3000] loss: 0.669\n",
            "[5,  4000] loss: 0.663\n",
            "[5,  5000] loss: 0.691\n",
            "[5,  6000] loss: 0.635\n",
            "[5,  7000] loss: 0.699\n",
            "[5,  8000] loss: 0.665\n",
            "[5,  9000] loss: 0.680\n",
            "[5, 10000] loss: 0.681\n",
            "[5, 11000] loss: 0.668\n",
            "[5, 12000] loss: 0.691\n",
            "[6,  1000] loss: 0.508\n",
            "[6,  2000] loss: 0.519\n",
            "[6,  3000] loss: 0.509\n",
            "[6,  4000] loss: 0.566\n",
            "[6,  5000] loss: 0.565\n",
            "[6,  6000] loss: 0.575\n",
            "[6,  7000] loss: 0.570\n",
            "[6,  8000] loss: 0.586\n",
            "[6,  9000] loss: 0.590\n",
            "[6, 10000] loss: 0.596\n",
            "[6, 11000] loss: 0.596\n",
            "[6, 12000] loss: 0.575\n",
            "[7,  1000] loss: 0.422\n",
            "[7,  2000] loss: 0.424\n",
            "[7,  3000] loss: 0.446\n",
            "[7,  4000] loss: 0.471\n",
            "[7,  5000] loss: 0.431\n",
            "[7,  6000] loss: 0.506\n",
            "[7,  7000] loss: 0.478\n",
            "[7,  8000] loss: 0.482\n",
            "[7,  9000] loss: 0.509\n",
            "[7, 10000] loss: 0.507\n",
            "[7, 11000] loss: 0.519\n",
            "[7, 12000] loss: 0.544\n",
            "[8,  1000] loss: 0.313\n",
            "[8,  2000] loss: 0.355\n",
            "[8,  3000] loss: 0.375\n",
            "[8,  4000] loss: 0.359\n",
            "[8,  5000] loss: 0.372\n",
            "[8,  6000] loss: 0.429\n",
            "[8,  7000] loss: 0.433\n",
            "[8,  8000] loss: 0.404\n",
            "[8,  9000] loss: 0.456\n",
            "[8, 10000] loss: 0.462\n",
            "[8, 11000] loss: 0.444\n",
            "[8, 12000] loss: 0.461\n",
            "[9,  1000] loss: 0.273\n",
            "[9,  2000] loss: 0.323\n",
            "[9,  3000] loss: 0.321\n",
            "[9,  4000] loss: 0.328\n",
            "[9,  5000] loss: 0.342\n",
            "[9,  6000] loss: 0.363\n",
            "[9,  7000] loss: 0.375\n",
            "[9,  8000] loss: 0.364\n",
            "[9,  9000] loss: 0.360\n",
            "[9, 10000] loss: 0.383\n",
            "[9, 11000] loss: 0.393\n",
            "[9, 12000] loss: 0.403\n",
            "[10,  1000] loss: 0.236\n",
            "[10,  2000] loss: 0.244\n",
            "[10,  3000] loss: 0.265\n",
            "[10,  4000] loss: 0.279\n",
            "[10,  5000] loss: 0.305\n",
            "[10,  6000] loss: 0.307\n",
            "[10,  7000] loss: 0.309\n",
            "[10,  8000] loss: 0.317\n",
            "[10,  9000] loss: 0.354\n",
            "[10, 10000] loss: 0.346\n",
            "[10, 11000] loss: 0.356\n",
            "[10, 12000] loss: 0.375\n",
            "Finished Training\n"
          ]
        }
      ]
    },
    {
      "cell_type": "markdown",
      "metadata": {
        "id": "0qAsbC8I81Ta"
      },
      "source": [
        "## 5. Test the network on the test data\n",
        "\n",
        "Now we need to check if the network has learnt anything at all.\n",
        "We will check this by predicting the class label that the neural network outputs, and checking it against the ground truth.\n",
        "If the prediction is correct, we add the sample to the list of correct predictions.\n",
        "\n",
        "Okay, first step. Let us display an image from the test set to get familiar."
      ]
    },
    {
      "cell_type": "code",
      "metadata": {
        "colab": {
          "base_uri": "https://localhost:8080/",
          "height": 172
        },
        "id": "7LT0RoAC81Tc",
        "outputId": "50ea9644-1566-4533-fe4f-ac6dc4e42e19"
      },
      "source": [
        "images, labels = test_data_iter.next()\n",
        "\n",
        "# print images\n",
        "imshow(torchvision.utils.make_grid(images))\n",
        "plt.show()\n",
        "\n",
        "print('GroundTruth:  ', ' '.join('%5s' % classes[labels[j]] for j in range(4)))\n",
        "\n",
        "outputs = net(images)\n",
        "_, predicted = torch.max(outputs.data, 1)\n",
        "print('Predicted:    ', ' '.join('%5s' % classes[predicted[j]] for j in range(4)))"
      ],
      "execution_count": 63,
      "outputs": [
        {
          "output_type": "display_data",
          "data": {
            "image/png": "[encoded data removed]",
            "text/plain": [
              "<Figure size 432x288 with 1 Axes>"
            ]
          },
          "metadata": {
            "needs_background": "light"
          }
        },
        {
          "output_type": "stream",
          "name": "stdout",
          "text": [
            "GroundTruth:   horse truck  bird  bird\n",
            "Predicted:     horse truck  bird  bird\n"
          ]
        }
      ]
    },
    {
      "cell_type": "markdown",
      "metadata": {
        "id": "ISA6LJJO81Tg"
      },
      "source": [
        "Let us look at how the network performs on the whole dataset."
      ]
    },
    {
      "cell_type": "code",
      "metadata": {
        "colab": {
          "base_uri": "https://localhost:8080/"
        },
        "id": "Smv6_BwF81Ti",
        "outputId": "e2750c95-b931-4649-fb3c-39d51b088f9d"
      },
      "source": [
        "correct = 0\n",
        "total = 0\n",
        "\n",
        "for data in testloader:\n",
        "    images, labels = data\n",
        "    outputs = net(Variable(images))\n",
        "    _, predicted = torch.max(outputs.data, 1)\n",
        "    total += labels.size(0)\n",
        "    correct += (predicted == labels).sum()\n",
        "\n",
        "print('Accuracy of the network on the {} test images: {:4.2f} %'.format(\n",
        "    testset.data.shape[0], 100 * correct.true_divide(total)))"
      ],
      "execution_count": 64,
      "outputs": [
        {
          "output_type": "stream",
          "name": "stdout",
          "text": [
            "Accuracy of the network on the 10000 test images: 71.52 %\n"
          ]
        }
      ]
    },
    {
      "cell_type": "markdown",
      "metadata": {
        "id": "QMZRvhaW81Tl"
      },
      "source": [
        "Hopefully the network is better than chance, which is $\\frac{1}{\\text{number of classes}}$ accuracy (randomly picking\n",
        "a class).\n",
        "\n",
        "\n",
        "We can also examine which class the network found the most difficult (makes more sense if you have many clases):"
      ]
    },
    {
      "cell_type": "code",
      "metadata": {
        "colab": {
          "base_uri": "https://localhost:8080/"
        },
        "id": "WqVTQgKq81Tl",
        "outputId": "2876851e-0e33-4f9a-8679-c9ae3987dd19"
      },
      "source": [
        "class_total = list(0. for i in range(len(classes)))\n",
        "class_correct = list(0. for i in range(len(classes)))\n",
        "\n",
        "for data in testloader:\n",
        "    images, labels = data\n",
        "    outputs = net(Variable(images))\n",
        "    _, predicted = torch.max(outputs.data, 1)\n",
        "    c = (predicted == labels).squeeze()\n",
        "    \n",
        "    for i in range(len(c)):\n",
        "        label = labels[i]\n",
        "        class_correct[label] += c[i].numpy()\n",
        "        class_total[label] += 1\n",
        "\n",
        "for i in range(len(classes)):\n",
        "    print('Accuracy of {:5s} : {:5.2f} %'.format(\n",
        "        classes[i], 100 * class_correct[i] / class_total[i]))"
      ],
      "execution_count": 65,
      "outputs": [
        {
          "output_type": "stream",
          "name": "stdout",
          "text": [
            "Accuracy of plane : 77.40 %\n",
            "Accuracy of car   : 84.80 %\n",
            "Accuracy of bird  : 59.70 %\n",
            "Accuracy of cat   : 45.10 %\n",
            "Accuracy of deer  : 71.20 %\n",
            "Accuracy of dog   : 63.60 %\n",
            "Accuracy of frog  : 79.10 %\n",
            "Accuracy of horse : 77.10 %\n",
            "Accuracy of ship  : 80.70 %\n",
            "Accuracy of truck : 76.50 %\n"
          ]
        }
      ]
    },
    {
      "cell_type": "markdown",
      "metadata": {
        "id": "ocnQOBAl81Tn"
      },
      "source": [
        "**Assignment 4:** \n",
        "1. Go back and improve performance of the network. \n",
        " * If you are using all 10 classes you should get a test accuracy above 55%, but see how much further you can get it!\n",
        " * If you are using only 2 classes (e.g. cat and dog) you should get a test accuracy above 60%, but see how much further you can get it!\n",
        "\n",
        "2. Briefly describe what you did and any experiments you did along the way as well as what results you obtained.\n",
        "Did anything surprise you during the exercise?\n",
        "\n",
        "3. Write down key lessons/insights you got (if any) during this exercise.\n",
        "\n",
        "**Answer:**\n",
        "\n",
        "Expariment description:\n",
        "\n",
        "- First test was with a network of 1 convolutional layer and 1 fully connected layer. The test accuracy was 9.73 % (maybe something went wrong here)\n",
        "\n",
        "- A pooling layer was added after the convolutional resulting in test accuracy: 51.76 %\n",
        "\n",
        "- Adding dropout to the convolutional layer and adding a second fully connected layer also with dropout, accuracy: 45.39 %\n",
        "\n",
        "- Removing both dropouts and changing the learning rate (0.001) and momentum (0.9), test accuracy: 47.25 %\n",
        "\n",
        "- Removing the softmax function in the end, test accuracy: 64.11 %\n",
        "\n",
        "- Added dropout to the convolutional layer again, test accuracy: 56.98 %\n",
        "\n",
        "- Add a second convolutional layer (no pooling for that), test accuracy: 68.13 %\n",
        "\n",
        "- Three convolutional layers (2 with pooling), test accuracy: 69.59 %\n",
        "\n",
        "- Increasing the number of epochs to 10 and the number of hidden units in fully connected layers to 200: test accuracy: 70.39 % (second run 71.52 %) \n",
        "\n",
        "Key insights:\n",
        "\n",
        "- It seems that things that theoretically should improve performance (like dropout) had the opposite effect for some reason\n",
        "\n",
        "- Activation functions make a big difference\n",
        "\n",
        "- Testing/parameter tuning should be as methodical as possible (also change only one thing at a time)\n",
        "\n",
        "- Have patience"
      ]
    },
    {
      "cell_type": "markdown",
      "metadata": {
        "id": "8Nzefavy81To"
      },
      "source": [
        "# Training on GPU\n",
        "\n",
        "**Optional Assignment:**\n",
        "If you have a GPU we suggest that you try and rewrite the code above to run on the GPU\n",
        "___\n",
        "\n",
        "Just like how you transfer a Tensor on to the GPU, you transfer the neural net onto the GPU.\n",
        "This will recursively go over all modules and convert their parameters and buffers to CUDA tensors:\n",
        "\n",
        "```\n",
        "    net.cuda()\n",
        "```\n",
        "\n",
        "Remember that you will have to send the inputs and targets at every step to the GPU too:\n",
        "\n",
        "```\n",
        "    inputs, labels = Variable(inputs.cuda()), Variable(labels.cuda())\n",
        "```\n",
        "\n",
        "Why dont I notice MASSIVE speedup compared to CPU? \n",
        "Because your network is realllly small.\n",
        "\n",
        "**Exercise:** Try increasing the width of your network (argument 2 of\n",
        "the first ``nn.Conv2d``, and argument 1 of the second ``nn.Conv2d`` –\n",
        "they need to be the same number), see what kind of speedup you get.\n",
        "\n",
        "**Goals achieved**:\n",
        "\n",
        "- Understanding PyTorch's Tensor library and neural networks at a high level.\n",
        "- Train a small neural network to classify images\n",
        "\n",
        "## Setting up GPU in Colab\n",
        "\n",
        "In Colab, you will get 12 hours of execution time but the session will be disconnected if you are idle for more than 60 minutes. It means that for every 12 hours Disk, RAM, CPU Cache and the Data that is on our allocated virtual machine will get erased.\n",
        "\n",
        "To enable GPU hardware accelerator, just go to **Runtime -> Change runtime type -> Hardware accelerator -> GPU**"
      ]
    },
    {
      "cell_type": "markdown",
      "metadata": {
        "id": "b8mEIylU81Tp"
      },
      "source": [
        "# Michael Nielsen book exercise of own choice\n",
        "\n",
        "**Assignment 5:** Pick an exercise of own choice from [Michael Nielsens book](http://neuralnetworksanddeeplearning.com/)\n",
        "\n",
        "**Answer:**\n",
        "\n",
        "\n",
        "\n"
      ]
    }
  ]
}