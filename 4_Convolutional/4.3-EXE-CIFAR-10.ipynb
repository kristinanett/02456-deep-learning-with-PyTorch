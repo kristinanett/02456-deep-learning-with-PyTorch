{
  "nbformat": 4,
  "nbformat_minor": 0,
  "metadata": {
    "colab": {
      "name": "Copy of 4.3-EXE-CIFAR-10.ipynb",
      "provenance": [],
      "include_colab_link": true
    },
    "kernelspec": {
      "display_name": "Python 3",
      "language": "python",
      "name": "python3"
    },
    "language_info": {
      "codemirror_mode": {
        "name": "ipython",
        "version": 3
      },
      "file_extension": ".py",
      "mimetype": "text/x-python",
      "name": "python",
      "nbconvert_exporter": "python",
      "pygments_lexer": "ipython3",
      "version": "3.8.3"
    },
    "accelerator": "GPU"
  },
  "cells": [
    {
      "cell_type": "markdown",
      "metadata": {
        "id": "view-in-github",
        "colab_type": "text"
      },
      "source": [
        "<a href=\"https://colab.research.google.com/github/kristinanett/02456-deep-learning-with-PyTorch/blob/master/4_Convolutional/4.3-EXE-CIFAR-10.ipynb\" target=\"_parent\"><img src=\"https://colab.research.google.com/assets/colab-badge.svg\" alt=\"Open In Colab\"/></a>"
      ]
    },
    {
      "cell_type": "markdown",
      "metadata": {
        "id": "bu1Wy6Xb81Sn"
      },
      "source": [
        "# Credits\n",
        "\n",
        "This is heavily influenced from https://github.com/pytorch/tutorials"
      ]
    },
    {
      "cell_type": "markdown",
      "metadata": {
        "id": "oZW0gaQO81Sq"
      },
      "source": [
        "# CIFAR-10\n",
        "\n",
        "In this notebook you need to put what you have learned into practice, and create your own convolutional classifier for the CIFAR-10 dataset.\n",
        "\n",
        "It has the classes: ‘airplane’, ‘automobile’, ‘bird’, ‘cat’, ‘deer’, ‘dog’, ‘frog’, ‘horse’, ‘ship’, ‘truck’.\n",
        "The images in CIFAR-10 are of size 3x32x32, i.e. 3-channel color images of 32x32 pixels in size.\n",
        "\n",
        "![cifar10](https://github.com/DeepLearningDTU/02456-deep-learning-with-PyTorch/blob/master/static_files/cifar10.png?raw=1)\n",
        "\n",
        "\n",
        "In order to train a classifier the following steps needs to be performed:\n",
        "\n",
        "1. Load and normalizing the CIFAR10 training and test datasets using\n",
        "   ``torchvision``\n",
        "2. Define a Convolutional Neural Network\n",
        "3. Define a loss function\n",
        "4. Train the network on the training data\n",
        "5. Test the network on the test data\n",
        "\n",
        "We will help you along the way.\n",
        "We indicate the places you need to modify the code with `# Your code here!`.\n",
        "It is however a good idea to read the entire assignment before you begin coding!"
      ]
    },
    {
      "cell_type": "markdown",
      "metadata": {
        "id": "htyg7xxN81St"
      },
      "source": [
        "## 1. Loading and normalizing CIFAR10\n",
        "\n",
        "Using ``torchvision``, it’s extremely easy to load CIFAR10."
      ]
    },
    {
      "cell_type": "code",
      "metadata": {
        "id": "v3u2GIWr81Su"
      },
      "source": [
        "%matplotlib inline\n",
        "import matplotlib.pyplot as plt\n",
        "import numpy as np\n",
        "\n",
        "import torch\n",
        "import torchvision\n",
        "import torchvision.transforms as transforms"
      ],
      "execution_count": 19,
      "outputs": []
    },
    {
      "cell_type": "markdown",
      "metadata": {
        "id": "xx5SHRkm81S0"
      },
      "source": [
        "The output of torchvision datasets are PILImage images of range [0, 1].\n",
        "We transform them to Tensors of normalized range [-1, 1]\n",
        "\n",
        "**NB** Modify the code below to only use a small part of the dataset if your computer is very slow."
      ]
    },
    {
      "cell_type": "code",
      "metadata": {
        "colab": {
          "base_uri": "https://localhost:8080/"
        },
        "id": "QZeTujLC81S3",
        "outputId": "ca83c647-dc55-491c-8bd8-1dafd30c1daf"
      },
      "source": [
        "transform = transforms.Compose(\n",
        "    [transforms.ToTensor(),\n",
        "     transforms.Normalize((0.5, 0.5, 0.5),(0.5, 0.5, 0.5))\n",
        "    ]\n",
        ")\n",
        "\n",
        "# Load dataset\n",
        "trainset = torchvision.datasets.CIFAR10(root='./data', train=True,\n",
        "                                        download=True, transform=transform)\n",
        "testset = torchvision.datasets.CIFAR10(root='./data', train=False,\n",
        "                                       download=True, transform=transform)\n",
        "\n",
        "classes = ('plane', 'car', 'bird', 'cat', 'deer',\n",
        "           'dog', 'frog', 'horse', 'ship', 'truck')\n",
        "\n",
        "used_categories = range(len(classes))\n",
        "\n",
        "## USE CODE BELOW IF YOUR COMPUTER IS TOO SLOW\n",
        "reduce_dataset = False\n",
        "if reduce_dataset:\n",
        "    used_categories = (3, 5) # cats and dogs\n",
        "\n",
        "    classes = [classes[i] for i in used_categories]\n",
        "    new_train_data = []\n",
        "    new_train_labels = []\n",
        "\n",
        "    new_test_data = []\n",
        "    new_test_labels = []\n",
        "    for i, t in enumerate(used_categories):\n",
        "        new_train_data.append(trainset.data[np.where(np.array(trainset.targets) == t)])\n",
        "        new_train_labels += [i for _ in range(new_train_data[-1].shape[0])]\n",
        "\n",
        "        new_test_data.append(testset.data[np.where(np.array(testset.targets) == t)])\n",
        "        new_test_labels += [i for _ in range(new_test_data[-1].shape[0])]\n",
        "\n",
        "    new_train_data = np.concatenate(new_train_data, 0)\n",
        "    trainset.data = new_train_data\n",
        "    trainset.targets = new_train_labels\n",
        "\n",
        "    new_test_data = np.concatenate(new_test_data, 0)\n",
        "    testset.data = new_test_data\n",
        "    testset.targets = new_test_labels\n",
        "\n",
        "    \n",
        "trainloader = torch.utils.data.DataLoader(trainset, batch_size=4,\n",
        "                                          shuffle=True, num_workers=2)\n",
        "testloader = torch.utils.data.DataLoader(testset, batch_size=4,\n",
        "                                         shuffle=True, num_workers=2)\n",
        "train_data_iter = iter(trainloader)\n",
        "test_data_iter = iter(testloader)\n",
        "print('used classes:', classes)"
      ],
      "execution_count": 20,
      "outputs": [
        {
          "output_type": "stream",
          "name": "stdout",
          "text": [
            "Files already downloaded and verified\n",
            "Files already downloaded and verified\n",
            "used classes: ('plane', 'car', 'bird', 'cat', 'deer', 'dog', 'frog', 'horse', 'ship', 'truck')\n"
          ]
        }
      ]
    },
    {
      "cell_type": "code",
      "metadata": {
        "colab": {
          "base_uri": "https://localhost:8080/"
        },
        "id": "JDHkc52L81S9",
        "outputId": "38b920cc-5e7e-4030-e98d-69c3fc69c9dd"
      },
      "source": [
        "print(\"# Training data\")\n",
        "print(\"Number of points:\", len(trainset))\n",
        "x, y = next(iter(trainloader))\n",
        "print(\"Batch dimension [B x C x H x W]:\", x.shape)\n",
        "print(\"Number of distinct labels:\", len(set(trainset.targets)))\n",
        "\n",
        "\n",
        "print(\"\\n# Test data\")\n",
        "print(\"Number of points:\", len(testset))\n",
        "x, y = next(iter(testloader))\n",
        "print(\"Batch dimension [B x C x H x W]:\", x.shape)\n",
        "print(\"Number of distinct labels:\", len(set(testset.targets)))"
      ],
      "execution_count": 21,
      "outputs": [
        {
          "output_type": "stream",
          "name": "stdout",
          "text": [
            "# Training data\n",
            "Number of points: 50000\n",
            "Batch dimension [B x C x H x W]: torch.Size([4, 3, 32, 32])\n",
            "Number of distinct labels: 10\n",
            "\n",
            "# Test data\n",
            "Number of points: 10000\n",
            "Batch dimension [B x C x H x W]: torch.Size([4, 3, 32, 32])\n",
            "Number of distinct labels: 10\n"
          ]
        }
      ]
    },
    {
      "cell_type": "markdown",
      "metadata": {
        "id": "xSA1h94681TB"
      },
      "source": [
        "Let us show some of the training images, for fun.\n",
        "\n"
      ]
    },
    {
      "cell_type": "code",
      "metadata": {
        "colab": {
          "base_uri": "https://localhost:8080/",
          "height": 155
        },
        "id": "njJy0klP81TD",
        "outputId": "7c9be807-f753-4213-bddd-a1053cb80f68"
      },
      "source": [
        "# Run this cell multiple time to see more samples\n",
        "\n",
        "def imshow(img):\n",
        "    \"\"\" show an image \"\"\"\n",
        "    img = img / 2 + 0.5 # unnormalize\n",
        "    npimg = img.numpy()\n",
        "    plt.imshow(np.transpose(npimg, (1, 2, 0)))\n",
        "\n",
        "\n",
        "# get some random training images\n",
        "images, labels = train_data_iter.next()\n",
        "\n",
        "# show images\n",
        "imshow(torchvision.utils.make_grid(images))\n",
        "\n",
        "# print labels\n",
        "print(' '.join('%5s' % classes[labels[j]] for j in range(4)))"
      ],
      "execution_count": 22,
      "outputs": [
        {
          "output_type": "stream",
          "name": "stdout",
          "text": [
            "truck   cat truck  frog\n"
          ]
        },
        {
          "output_type": "display_data",
          "data": {
            "image/png": "[encoded data removed]",
            "text/plain": [
              "<Figure size 432x288 with 1 Axes>"
            ]
          },
          "metadata": {
            "needs_background": "light"
          }
        }
      ]
    },
    {
      "cell_type": "markdown",
      "metadata": {
        "id": "Wt3BVFMF81TI"
      },
      "source": [
        "## 2. Define a Convolutional Neural Network\n",
        "\n",
        "**Assignment 1:** Define a convolutional neural network. \n",
        "You may use the code from previous notebooks.\n",
        "We suggest that you start with a small network, and make sure that everything is working.\n",
        "Once you can train successfully come back and improve the architecture"
      ]
    },
    {
      "cell_type": "code",
      "metadata": {
        "colab": {
          "base_uri": "https://localhost:8080/"
        },
        "id": "_EsKbw3o81TK",
        "outputId": "7635d78c-f6d7-4926-cf23-054228660d56"
      },
      "source": [
        "from torch.autograd import Variable\n",
        "import torch.nn as nn\n",
        "import torch.nn.functional as F\n",
        "\n",
        "num_l1 = 300\n",
        "num_l2 = 300\n",
        "channels = 3\n",
        "height = 32\n",
        "width = 32\n",
        "\n",
        "#define convolutional layer parameters\n",
        "num_filters_conv1 = 16\n",
        "kernel_size_conv1 = 5\n",
        "stride_conv1 = 1\n",
        "padding_conv1 = 2\n",
        "\n",
        "#define second convolutional layer parameters\n",
        "num_filters_conv2 = 32\n",
        "\n",
        "\n",
        "def compute_conv_dim(dim_size):\n",
        "    return int((dim_size - kernel_size_conv1 + 2 * padding_conv1) / stride_conv1 + 1)\n",
        "\n",
        "class Net(nn.Module):\n",
        "    def __init__(self, num_classes):\n",
        "        super(Net, self).__init__()\n",
        "        self.num_classes = num_classes\n",
        "        \n",
        "        # Your code here!\n",
        "        self.conv_1 = nn.Conv2d(in_channels=channels,\n",
        "                             out_channels=num_filters_conv1,\n",
        "                             kernel_size=kernel_size_conv1,\n",
        "                             stride=stride_conv1,\n",
        "                             padding=padding_conv1)\n",
        "        \n",
        "        self.pool1 = nn.MaxPool2d(kernel_size=2, stride=2)\n",
        "        \n",
        "        self.conv1_out_height = compute_conv_dim(height)\n",
        "        self.conv1_out_width = compute_conv_dim(width)\n",
        "\n",
        "        self.conv_2 = nn.Conv2d(in_channels=num_filters_conv1,\n",
        "                             out_channels=num_filters_conv2,\n",
        "                             kernel_size=kernel_size_conv1,\n",
        "                             stride=stride_conv1,\n",
        "                             padding=padding_conv1)\n",
        "        \n",
        "        self.pool2 = nn.MaxPool2d(kernel_size=2, stride=2)\n",
        "\n",
        "        self.conv_3 = nn.Conv2d(in_channels=num_filters_conv2,\n",
        "                             out_channels=num_filters_conv2,\n",
        "                             kernel_size=kernel_size_conv1,\n",
        "                             stride=stride_conv1,\n",
        "                             padding=padding_conv1)\n",
        "\n",
        "        #calculate nr of features that go into the fully connected layer\n",
        "        self.l1_in_features = num_filters_conv2 * int(self.conv1_out_height/4) * int(self.conv1_out_width/4)    \n",
        "        \n",
        "        self.l_1 = nn.Linear(in_features=self.l1_in_features, \n",
        "                          out_features=num_l1,\n",
        "                          bias=True)\n",
        "        \n",
        "        self.l_2 = nn.Linear(in_features=num_l1, \n",
        "                          out_features=num_l2,\n",
        "                          bias=True)\n",
        "        \n",
        "        self.l_out = nn.Linear(in_features=num_l2, \n",
        "                            out_features=self.num_classes,\n",
        "                            bias=False)\n",
        "        \n",
        "        \n",
        "        # adding dropout to the network\n",
        "        self.dropout = nn.Dropout2d(p=0.5)\n",
        "\n",
        "        \n",
        "\n",
        "    def forward(self, x):\n",
        "        # Your code here!\n",
        "\n",
        "        #convolutional + pooling layer\n",
        "        x = self.pool1(self.conv_1(x))\n",
        "        x = F.relu(x)\n",
        "\n",
        "        #second convolutional + pooling layer\n",
        "        x = self.pool2(self.conv_2(x))\n",
        "        x = F.relu(x)\n",
        "\n",
        "        #third convolutional layer\n",
        "        x = self.conv_3(x)\n",
        "        x = F.relu(x)\n",
        "\n",
        "        #fully connected layer\n",
        "        x = x.view(-1, self.l1_in_features)\n",
        "        x = F.relu(self.dropout(self.l_1(x)))\n",
        "\n",
        "        #second fully connected layer\n",
        "        x = F.relu(self.dropout(self.l_2(x)))\n",
        "\n",
        "        return self.l_out(x) \n",
        "    \n",
        "\n",
        "net = Net(len(used_categories))\n",
        "\n",
        "if torch.cuda.is_available():\n",
        "    print('##converting network to cuda-enabled')\n",
        "    net.cuda()\n",
        "\n",
        "print(net)"
      ],
      "execution_count": 23,
      "outputs": [
        {
          "output_type": "stream",
          "name": "stdout",
          "text": [
            "##converting network to cuda-enabled\n",
            "Net(\n",
            "  (conv_1): Conv2d(3, 16, kernel_size=(5, 5), stride=(1, 1), padding=(2, 2))\n",
            "  (pool1): MaxPool2d(kernel_size=2, stride=2, padding=0, dilation=1, ceil_mode=False)\n",
            "  (conv_2): Conv2d(16, 32, kernel_size=(5, 5), stride=(1, 1), padding=(2, 2))\n",
            "  (pool2): MaxPool2d(kernel_size=2, stride=2, padding=0, dilation=1, ceil_mode=False)\n",
            "  (conv_3): Conv2d(32, 32, kernel_size=(5, 5), stride=(1, 1), padding=(2, 2))\n",
            "  (l_1): Linear(in_features=2048, out_features=300, bias=True)\n",
            "  (l_2): Linear(in_features=300, out_features=300, bias=True)\n",
            "  (l_out): Linear(in_features=300, out_features=10, bias=False)\n",
            "  (dropout): Dropout2d(p=0.5, inplace=False)\n",
            ")\n"
          ]
        }
      ]
    },
    {
      "cell_type": "markdown",
      "metadata": {
        "id": "7-IUg3sq81TQ"
      },
      "source": [
        "## 3. Define a Loss function and optimizer\n",
        "\n",
        "**Assignment 2:** Implement the criterion and optimizer. \n",
        "We suggest Classification Cross-Entropy loss and SGD with momentum.\n",
        "You might need to experiment a bit with the learning rate."
      ]
    },
    {
      "cell_type": "code",
      "metadata": {
        "id": "48AX85QP81TR"
      },
      "source": [
        "import torch.optim as optim\n",
        "\n",
        "criterion = nn.CrossEntropyLoss()  # Your code here!\n",
        "optimizer = optim.SGD(net.parameters(), lr=0.001, momentum=0.9)  # Your code here!"
      ],
      "execution_count": 24,
      "outputs": []
    },
    {
      "cell_type": "markdown",
      "metadata": {
        "id": "-WneIN7C81TV"
      },
      "source": [
        "## 4. Train the network\n",
        "\n",
        "**Assignment 3:** Finish the training loop below. \n",
        "Start by using a small number of epochs (e.g. 3).\n",
        "Even with a low number of epochs you should be able to see results that are better than chance.\n",
        "When everything is working increase the number of epochs to find out how good your network really is."
      ]
    },
    {
      "cell_type": "code",
      "metadata": {
        "colab": {
          "base_uri": "https://localhost:8080/"
        },
        "id": "NkUanRRb81TW",
        "outputId": "91dfdc5a-f8c1-4cbf-a3a6-2b8b102ad5ad"
      },
      "source": [
        "num_epoch = 10  # Your code here!\n",
        "\n",
        "for epoch in range(num_epoch):  # loop over the dataset multiple times\n",
        "\n",
        "    running_loss = 0.0\n",
        "    net.train()\n",
        "\n",
        "    for i, data in enumerate(trainloader, 0):\n",
        "        # get the inputs \n",
        "        inputs, labels = data #data is a list of [inputs, labels]\n",
        "\n",
        "        # wrap them in Variable\n",
        "        inputs, labels = Variable(inputs), Variable(labels)\n",
        "        if torch.cuda.is_available():\n",
        "          inputs, labels = inputs.cuda(), labels.cuda()\n",
        "\n",
        "\n",
        "        # zero the parameter gradients\n",
        "        # Your code here!\n",
        "        optimizer.zero_grad()\n",
        "\n",
        "        # forward + backward + optimize\n",
        "        # Your code here!\n",
        "        output = net(inputs)\n",
        "\n",
        "        # compute gradients given loss\n",
        "        loss = criterion(output, labels)\n",
        "        loss.backward()\n",
        "        optimizer.step()\n",
        "  \n",
        "        # print statistics\n",
        "        running_loss += loss.item() #loss.data[0]\n",
        "        if i % 1000 == 999:    # print every 1000 mini-batches\n",
        "            print('[%d, %5d] loss: %.3f' %\n",
        "                  (epoch + 1, i + 1, running_loss / 1000))\n",
        "            running_loss = 0.0\n",
        "\n",
        "print('Finished Training')"
      ],
      "execution_count": 25,
      "outputs": [
        {
          "output_type": "stream",
          "name": "stdout",
          "text": [
            "[1,  1000] loss: 2.298\n",
            "[1,  2000] loss: 2.176\n",
            "[1,  3000] loss: 1.995\n",
            "[1,  4000] loss: 1.862\n",
            "[1,  5000] loss: 1.816\n",
            "[1,  6000] loss: 1.740\n",
            "[1,  7000] loss: 1.668\n",
            "[1,  8000] loss: 1.623\n",
            "[1,  9000] loss: 1.561\n",
            "[1, 10000] loss: 1.521\n",
            "[1, 11000] loss: 1.497\n",
            "[1, 12000] loss: 1.463\n",
            "[2,  1000] loss: 1.400\n",
            "[2,  2000] loss: 1.403\n",
            "[2,  3000] loss: 1.362\n",
            "[2,  4000] loss: 1.333\n",
            "[2,  5000] loss: 1.319\n",
            "[2,  6000] loss: 1.310\n",
            "[2,  7000] loss: 1.294\n",
            "[2,  8000] loss: 1.249\n",
            "[2,  9000] loss: 1.250\n",
            "[2, 10000] loss: 1.251\n",
            "[2, 11000] loss: 1.224\n",
            "[2, 12000] loss: 1.197\n",
            "[3,  1000] loss: 1.155\n",
            "[3,  2000] loss: 1.137\n",
            "[3,  3000] loss: 1.112\n",
            "[3,  4000] loss: 1.094\n",
            "[3,  5000] loss: 1.119\n",
            "[3,  6000] loss: 1.099\n",
            "[3,  7000] loss: 1.114\n",
            "[3,  8000] loss: 1.062\n",
            "[3,  9000] loss: 1.094\n",
            "[3, 10000] loss: 1.083\n",
            "[3, 11000] loss: 1.079\n",
            "[3, 12000] loss: 1.055\n",
            "[4,  1000] loss: 1.002\n",
            "[4,  2000] loss: 0.968\n",
            "[4,  3000] loss: 1.007\n",
            "[4,  4000] loss: 0.956\n",
            "[4,  5000] loss: 0.984\n",
            "[4,  6000] loss: 0.967\n",
            "[4,  7000] loss: 0.958\n",
            "[4,  8000] loss: 0.968\n",
            "[4,  9000] loss: 0.952\n",
            "[4, 10000] loss: 0.964\n",
            "[4, 11000] loss: 0.987\n",
            "[4, 12000] loss: 0.954\n",
            "[5,  1000] loss: 0.864\n",
            "[5,  2000] loss: 0.911\n",
            "[5,  3000] loss: 0.921\n",
            "[5,  4000] loss: 0.898\n",
            "[5,  5000] loss: 0.886\n",
            "[5,  6000] loss: 0.889\n",
            "[5,  7000] loss: 0.880\n",
            "[5,  8000] loss: 0.887\n",
            "[5,  9000] loss: 0.889\n",
            "[5, 10000] loss: 0.886\n",
            "[5, 11000] loss: 0.887\n",
            "[5, 12000] loss: 0.903\n",
            "[6,  1000] loss: 0.809\n",
            "[6,  2000] loss: 0.801\n",
            "[6,  3000] loss: 0.819\n",
            "[6,  4000] loss: 0.833\n",
            "[6,  5000] loss: 0.828\n",
            "[6,  6000] loss: 0.831\n",
            "[6,  7000] loss: 0.863\n",
            "[6,  8000] loss: 0.805\n",
            "[6,  9000] loss: 0.836\n",
            "[6, 10000] loss: 0.836\n",
            "[6, 11000] loss: 0.822\n",
            "[6, 12000] loss: 0.850\n",
            "[7,  1000] loss: 0.750\n",
            "[7,  2000] loss: 0.706\n",
            "[7,  3000] loss: 0.764\n",
            "[7,  4000] loss: 0.753\n",
            "[7,  5000] loss: 0.770\n",
            "[7,  6000] loss: 0.786\n",
            "[7,  7000] loss: 0.750\n",
            "[7,  8000] loss: 0.777\n",
            "[7,  9000] loss: 0.783\n",
            "[7, 10000] loss: 0.807\n",
            "[7, 11000] loss: 0.794\n",
            "[7, 12000] loss: 0.803\n",
            "[8,  1000] loss: 0.704\n",
            "[8,  2000] loss: 0.706\n",
            "[8,  3000] loss: 0.714\n",
            "[8,  4000] loss: 0.728\n",
            "[8,  5000] loss: 0.725\n",
            "[8,  6000] loss: 0.738\n",
            "[8,  7000] loss: 0.755\n",
            "[8,  8000] loss: 0.732\n",
            "[8,  9000] loss: 0.727\n",
            "[8, 10000] loss: 0.766\n",
            "[8, 11000] loss: 0.748\n",
            "[8, 12000] loss: 0.755\n",
            "[9,  1000] loss: 0.671\n",
            "[9,  2000] loss: 0.666\n",
            "[9,  3000] loss: 0.668\n",
            "[9,  4000] loss: 0.692\n",
            "[9,  5000] loss: 0.655\n",
            "[9,  6000] loss: 0.682\n",
            "[9,  7000] loss: 0.670\n",
            "[9,  8000] loss: 0.695\n",
            "[9,  9000] loss: 0.723\n",
            "[9, 10000] loss: 0.717\n",
            "[9, 11000] loss: 0.730\n",
            "[9, 12000] loss: 0.723\n",
            "[10,  1000] loss: 0.611\n",
            "[10,  2000] loss: 0.629\n",
            "[10,  3000] loss: 0.639\n",
            "[10,  4000] loss: 0.630\n",
            "[10,  5000] loss: 0.644\n",
            "[10,  6000] loss: 0.649\n",
            "[10,  7000] loss: 0.679\n",
            "[10,  8000] loss: 0.672\n",
            "[10,  9000] loss: 0.677\n",
            "[10, 10000] loss: 0.680\n",
            "[10, 11000] loss: 0.729\n",
            "[10, 12000] loss: 0.684\n",
            "Finished Training\n"
          ]
        }
      ]
    },
    {
      "cell_type": "markdown",
      "metadata": {
        "id": "0qAsbC8I81Ta"
      },
      "source": [
        "## 5. Test the network on the test data\n",
        "\n",
        "Now we need to check if the network has learnt anything at all.\n",
        "We will check this by predicting the class label that the neural network outputs, and checking it against the ground truth.\n",
        "If the prediction is correct, we add the sample to the list of correct predictions.\n",
        "\n",
        "Okay, first step. Let us display an image from the test set to get familiar."
      ]
    },
    {
      "cell_type": "code",
      "metadata": {
        "colab": {
          "base_uri": "https://localhost:8080/",
          "height": 172
        },
        "id": "7LT0RoAC81Tc",
        "outputId": "5ece4bf9-a337-48be-87a2-1f3e57aa0947"
      },
      "source": [
        "images, labels = test_data_iter.next()\n",
        "\n",
        "# print images\n",
        "imshow(torchvision.utils.make_grid(images))\n",
        "plt.show()\n",
        "\n",
        "print('GroundTruth:  ', ' '.join('%5s' % classes[labels[j]] for j in range(4)))\n",
        "\n",
        "if torch.cuda.is_available():\n",
        "  images = images.cuda()\n",
        "outputs = net(images)\n",
        "_, predicted = torch.max(outputs.data, 1)\n",
        "print('Predicted:    ', ' '.join('%5s' % classes[predicted[j]] for j in range(4)))"
      ],
      "execution_count": 26,
      "outputs": [
        {
          "output_type": "display_data",
          "data": {
            "image/png": "[encoded data removed]",
            "text/plain": [
              "<Figure size 432x288 with 1 Axes>"
            ]
          },
          "metadata": {
            "needs_background": "light"
          }
        },
        {
          "output_type": "stream",
          "name": "stdout",
          "text": [
            "GroundTruth:   horse  ship   cat plane\n",
            "Predicted:     horse  ship   dog   cat\n"
          ]
        }
      ]
    },
    {
      "cell_type": "markdown",
      "metadata": {
        "id": "ISA6LJJO81Tg"
      },
      "source": [
        "Let us look at how the network performs on the whole dataset."
      ]
    },
    {
      "cell_type": "code",
      "metadata": {
        "colab": {
          "base_uri": "https://localhost:8080/"
        },
        "id": "Smv6_BwF81Ti",
        "outputId": "70be5ed3-5aa4-493c-fe07-9a9e4a8d0cfb"
      },
      "source": [
        "correct = 0\n",
        "total = 0\n",
        "\n",
        "for data in testloader:\n",
        "    images, labels = data\n",
        "    if torch.cuda.is_available():\n",
        "      images, labels = images.cuda(), labels.cuda()\n",
        "    outputs = net(Variable(images))\n",
        "    _, predicted = torch.max(outputs.data, 1)\n",
        "    total += labels.size(0)\n",
        "    correct += (predicted == labels).sum()\n",
        "\n",
        "print('Accuracy of the network on the {} test images: {:4.2f} %'.format(\n",
        "    testset.data.shape[0], 100 * correct.true_divide(total)))"
      ],
      "execution_count": 27,
      "outputs": [
        {
          "output_type": "stream",
          "name": "stdout",
          "text": [
            "Accuracy of the network on the 10000 test images: 70.14 %\n"
          ]
        }
      ]
    },
    {
      "cell_type": "markdown",
      "metadata": {
        "id": "QMZRvhaW81Tl"
      },
      "source": [
        "Hopefully the network is better than chance, which is $\\frac{1}{\\text{number of classes}}$ accuracy (randomly picking\n",
        "a class).\n",
        "\n",
        "\n",
        "We can also examine which class the network found the most difficult (makes more sense if you have many clases):"
      ]
    },
    {
      "cell_type": "code",
      "metadata": {
        "colab": {
          "base_uri": "https://localhost:8080/"
        },
        "id": "WqVTQgKq81Tl",
        "outputId": "231c0d49-2368-4e52-ab10-c57fb1cf0a3c"
      },
      "source": [
        "class_total = list(0. for i in range(len(classes)))\n",
        "class_correct = list(0. for i in range(len(classes)))\n",
        "\n",
        "for data in testloader:\n",
        "    images, labels = data\n",
        "    if torch.cuda.is_available():\n",
        "      images, labels = images.cuda(), labels.cuda()\n",
        "    outputs = net(Variable(images))\n",
        "    _, predicted = torch.max(outputs.data, 1)\n",
        "    c = (predicted == labels).squeeze()\n",
        "    \n",
        "    for i in range(len(c)):\n",
        "        label = labels[i]\n",
        "        class_correct[label] += c[i].cpu().numpy()\n",
        "        class_total[label] += 1\n",
        "\n",
        "for i in range(len(classes)):\n",
        "    print('Accuracy of {:5s} : {:5.2f} %'.format(\n",
        "        classes[i], 100 * class_correct[i] / class_total[i]))"
      ],
      "execution_count": 28,
      "outputs": [
        {
          "output_type": "stream",
          "name": "stdout",
          "text": [
            "Accuracy of plane : 76.30 %\n",
            "Accuracy of car   : 83.40 %\n",
            "Accuracy of bird  : 60.60 %\n",
            "Accuracy of cat   : 44.00 %\n",
            "Accuracy of deer  : 69.00 %\n",
            "Accuracy of dog   : 55.00 %\n",
            "Accuracy of frog  : 75.80 %\n",
            "Accuracy of horse : 76.30 %\n",
            "Accuracy of ship  : 75.40 %\n",
            "Accuracy of truck : 79.20 %\n"
          ]
        }
      ]
    },
    {
      "cell_type": "markdown",
      "metadata": {
        "id": "ocnQOBAl81Tn"
      },
      "source": [
        "**Assignment 4:** \n",
        "1. Go back and improve performance of the network. \n",
        " * If you are using all 10 classes you should get a test accuracy above 55%, but see how much further you can get it!\n",
        " * If you are using only 2 classes (e.g. cat and dog) you should get a test accuracy above 60%, but see how much further you can get it!\n",
        "\n",
        "2. Briefly describe what you did and any experiments you did along the way as well as what results you obtained.\n",
        "Did anything surprise you during the exercise?\n",
        "\n",
        "3. Write down key lessons/insights you got (if any) during this exercise.\n",
        "\n",
        "**Answer:**\n",
        "\n",
        "Expariment description:\n",
        "\n",
        "- First test was with a network of 1 convolutional layer and 1 fully connected layer. The test accuracy was 9.73 % (maybe something went wrong here)\n",
        "\n",
        "- A pooling layer was added after the convolutional resulting in test accuracy: 51.76 %\n",
        "\n",
        "- Adding dropout to the convolutional layer and adding a second fully connected layer also with dropout, accuracy: 45.39 %\n",
        "\n",
        "- Removing both dropouts and changing the learning rate (0.001) and momentum (0.9), test accuracy: 47.25 %\n",
        "\n",
        "- Removing the softmax function from the end of the network, test accuracy: 64.11 %\n",
        "\n",
        "- Added dropout to the convolutional layer again, test accuracy: 56.98 %\n",
        "\n",
        "- Add a second convolutional layer (no pooling for that), test accuracy: 68.13 %\n",
        "\n",
        "- Three convolutional layers (2 with pooling), test accuracy: 69.59 %\n",
        "\n",
        "- Increasing the number of epochs to 10 and the number of hidden units in fully connected layers to 200: test accuracy: 70.39 % (second run 71.52 %) \n",
        "\n",
        "Key insights:\n",
        "\n",
        "- It seems that things that theoretically should improve performance (like dropout) had the opposite effect for some reason\n",
        "\n",
        "- Activation functions make a big difference\n",
        "\n",
        "- Testing/parameter tuning should be as methodical as possible (also change only one thing at a time)\n",
        "\n",
        "- Have patience"
      ]
    },
    {
      "cell_type": "markdown",
      "metadata": {
        "id": "8Nzefavy81To"
      },
      "source": [
        "# Training on GPU\n",
        "\n",
        "**Optional Assignment:**\n",
        "If you have a GPU we suggest that you try and rewrite the code above to run on the GPU\n",
        "___\n",
        "\n",
        "Just like how you transfer a Tensor on to the GPU, you transfer the neural net onto the GPU.\n",
        "This will recursively go over all modules and convert their parameters and buffers to CUDA tensors:\n",
        "\n",
        "```\n",
        "    net.cuda()\n",
        "```\n",
        "\n",
        "Remember that you will have to send the inputs and targets at every step to the GPU too:\n",
        "\n",
        "```\n",
        "    inputs, labels = Variable(inputs.cuda()), Variable(labels.cuda())\n",
        "```\n",
        "\n",
        "Why dont I notice MASSIVE speedup compared to CPU? \n",
        "Because your network is realllly small.\n",
        "\n",
        "**Exercise:** Try increasing the width of your network (argument 2 of\n",
        "the first ``nn.Conv2d``, and argument 1 of the second ``nn.Conv2d`` –\n",
        "they need to be the same number), see what kind of speedup you get.\n",
        "\n",
        "**Goals achieved**:\n",
        "\n",
        "- Understanding PyTorch's Tensor library and neural networks at a high level.\n",
        "- Train a small neural network to classify images\n",
        "\n",
        "## Setting up GPU in Colab\n",
        "\n",
        "In Colab, you will get 12 hours of execution time but the session will be disconnected if you are idle for more than 60 minutes. It means that for every 12 hours Disk, RAM, CPU Cache and the Data that is on our allocated virtual machine will get erased.\n",
        "\n",
        "To enable GPU hardware accelerator, just go to **Runtime -> Change runtime type -> Hardware accelerator -> GPU**"
      ]
    },
    {
      "cell_type": "markdown",
      "metadata": {
        "id": "b8mEIylU81Tp"
      },
      "source": [
        "# Michael Nielsen book exercise of own choice\n",
        "\n",
        "**Assignment 5:** Pick an exercise of own choice from [Michael Nielsens book](http://neuralnetworksanddeeplearning.com/)\n",
        "\n",
        "\n",
        "**Chapter 1: Sigmoid neurons simulating perceptrons, part I**\n",
        "\n",
        "Suppose we take all the weights and biases in a network of perceptrons, and multiply them by a positive constant, c>0. Show that the behaviour of the network doesn't change.\n",
        "\n",
        "**Answer:**\n",
        "\n",
        "Suppose we take a perceptron network that simulates a NAND gate (as described in the book): there are two inputs both have weights -2 and an overall bias of 3. We can compute the outcomes of all possible inputs using the equation: \n",
        "\n",
        "$$ \\text { output }= \\begin{cases}0 & \\text { if } w \\cdot x+b \\leq 0 \\\\ 1 & \\text { if } w \\cdot x+b>0\\end{cases}$$\n",
        "\n",
        "- For inputs $x_1 = x_2 = 0$ $\\Rightarrow -2 \\cdot 0 + (-2) \\cdot 0 + 3 = 3 \\Rightarrow \\text{output} = 1$\n",
        "\n",
        "- For inputs $x_1 = 0, x_2 = 1$ $\\Rightarrow -2 \\cdot 0 + (-2) \\cdot 1 + 3 = 1 \\Rightarrow \\text{output} = 1$\n",
        "\n",
        "- For inputs $x_1 = 1, x_2 = 0$ $\\Rightarrow -2 \\cdot 1 + (-2) \\cdot 0 + 3 = 1 \\Rightarrow \\text{output} = 1$\n",
        "\n",
        "- For inputs $x_1 = x_2 = 1$ $\\Rightarrow -2 \\cdot 1 + (-2) \\cdot 1 + 3 = -1\\Rightarrow \\text{output} = 0$\n",
        "\n",
        "Now lets multiply both the weights and bias by a constant of c=5. The new weights are then $-2 \\cdot 5 = -10 $ and the new bias is $3 \\cdot 5 = 15$. Now lets make the calculations again:\n",
        "\n",
        "- For inputs $x_1 = x_2 = 0$ $\\Rightarrow -10 \\cdot 0 + (-10) \\cdot 0 + 15 = 15 \\Rightarrow \\text{output} = 1$\n",
        "\n",
        "- For inputs $x_1 = 0, x_2 = 1$ $\\Rightarrow -10 \\cdot 0 + (-10) \\cdot 1 + 15 = 5 \\Rightarrow \\text{output} = 1$\n",
        "\n",
        "- For inputs $x_1 = 1, x_2 = 0$ $\\Rightarrow -10 \\cdot 1 + (-10) \\cdot 0 + 15 = 5 \\Rightarrow \\text{output} = 1$\n",
        "\n",
        "- For inputs $x_1 = x_2 = 1$ $\\Rightarrow -10 \\cdot 1 + (-10) \\cdot 1 + 15 = -5\\Rightarrow \\text{output} = 0$\n",
        "\n",
        "We have shown that the behaviour of the network does not change when multiplying weights and biases with a positive constant. \n",
        "\n",
        "\n",
        "\n",
        "\n",
        "\n",
        "\n"
      ]
    }
  ]
}