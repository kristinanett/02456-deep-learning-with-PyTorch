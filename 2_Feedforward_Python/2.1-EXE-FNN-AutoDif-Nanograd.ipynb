{
  "nbformat": 4,
  "nbformat_minor": 0,
  "metadata": {
    "anaconda-cloud": {},
    "colab": {
      "name": "2.1-EXE-FNN-AutoDif-Nanograd.ipynb",
      "provenance": [],
      "include_colab_link": true
    },
    "kernelspec": {
      "display_name": "Python 3",
      "language": "python",
      "name": "python3"
    },
    "language_info": {
      "codemirror_mode": {
        "name": "ipython",
        "version": 3
      },
      "file_extension": ".py",
      "mimetype": "text/x-python",
      "name": "python",
      "nbconvert_exporter": "python",
      "pygments_lexer": "ipython3",
      "version": "3.6.3"
    }
  },
  "cells": [
    {
      "cell_type": "markdown",
      "metadata": {
        "id": "view-in-github",
        "colab_type": "text"
      },
      "source": [
        "<a href=\"https://colab.research.google.com/github/kristinanett/02456-deep-learning-with-PyTorch/blob/master/2_Feedforward_Python/2.1-EXE-FNN-AutoDif-Nanograd.ipynb\" target=\"_parent\"><img src=\"https://colab.research.google.com/assets/colab-badge.svg\" alt=\"Open In Colab\"/></a>"
      ]
    },
    {
      "cell_type": "markdown",
      "metadata": {
        "id": "HAva8TnYFtFu"
      },
      "source": [
        "# Contents and why we need this lab\n",
        "\n",
        "This lab is about implementing neural networks yourself before we start using other frameworks which hide some of the computation from you. It builds on the first lab where you derived the equations for neural network forward and backward propagation and gradient descent parameter updates. \n",
        "\n",
        "All the frameworks for deep learning you will meet from now on uses automatic differentiation (autodiff) so you don't have to code the backward step yourself. In this version of this lab you will develop your own autodif implementation. We also have a [version](https://github.com/DeepLearningDTU/02456-deep-learning-with-PyTorch/blob/master/2_Feedforward_NumPy/2.1-FNN-NumPy.ipynb) of this lab where you have to code the backward pass explicitly in Numpy."
      ]
    },
    {
      "cell_type": "markdown",
      "metadata": {
        "id": "sCa7HzwpFtFy"
      },
      "source": [
        "# External sources of information\n",
        "\n",
        "1. Jupyter notebook. You can find more information about Jupyter notebooks [here](https://jupyter.org/). It will come as part of the [Anaconda](https://www.anaconda.com/) Python installation. \n",
        "2. [NumPy](https://numpy.org/). Part of Anaconda distribution. If you already know how to program most things about Python and NumPy can be found through Google search.\n",
        "3. [Nanograd](https://github.com/rasmusbergpalm/nanograd) is a minimalistic version of autodiff developed by Rasmus Berg Palm that we use for our framework.\n"
      ]
    },
    {
      "cell_type": "markdown",
      "metadata": {
        "id": "1SjiIp-TFtF0"
      },
      "source": [
        "# This notebook will follow the next steps:\n",
        "\n",
        "1. Nanograd automatic differentiation framework\n",
        "2. Finite difference method\n",
        "3. Data generation\n",
        "4. Defining and initializing the network\n",
        "5. Forward pass\n",
        "6. Training loop \n",
        "7. Testing your model\n",
        "8. Further extensions"
      ]
    },
    {
      "cell_type": "markdown",
      "metadata": {
        "id": "OyXeAA-HuT7s"
      },
      "source": [
        "# Nanograd automatic differention framework"
      ]
    },
    {
      "cell_type": "markdown",
      "metadata": {
        "id": "k6UWKCLKubgA"
      },
      "source": [
        "The [Nanograd](https://github.com/rasmusbergpalm/nanograd) framework defines a class Var which both holds a value and gradient value that we can use to store the intermediate values when we apply the chain rule of differentiation."
      ]
    },
    {
      "cell_type": "code",
      "metadata": {
        "id": "Jd4CoEBNzNWS"
      },
      "source": [
        "# Copy and pasted from https://github.com/rasmusbergpalm/nanograd/blob/main/nanograd.py\n",
        "\n",
        "from math import exp, log, tanh\n",
        "\n",
        "class Var:\n",
        "    \"\"\"\n",
        "    A variable which holds a float and enables gradient computations.\n",
        "    \"\"\"\n",
        "\n",
        "    def __init__(self, val: float, grad_fn=lambda: []):\n",
        "        assert type(val) == float\n",
        "        self.v = val\n",
        "        self.grad_fn = grad_fn\n",
        "        self.grad = 0.0\n",
        "\n",
        "    def backprop(self, bp):\n",
        "        self.grad += bp\n",
        "        for input, grad in self.grad_fn():\n",
        "            input.backprop(grad * bp)\n",
        "\n",
        "    def backward(self):\n",
        "        self.backprop(1.0)\n",
        "\n",
        "    def __add__(self: 'Var', other: 'Var') -> 'Var':\n",
        "        return Var(self.v + other.v, lambda: [(self, 1.0), (other, 1.0)])\n",
        "\n",
        "    def __mul__(self: 'Var', other: 'Var') -> 'Var':\n",
        "        return Var(self.v * other.v, lambda: [(self, other.v), (other, self.v)])\n",
        "\n",
        "    def __pow__(self, power):\n",
        "        assert type(power) in {float, int}, \"power must be float or int\"\n",
        "        return Var(self.v ** power, lambda: [(self, power * self.v ** (power - 1))])\n",
        "\n",
        "    def __neg__(self: 'Var') -> 'Var':\n",
        "        return Var(-1.0) * self\n",
        "\n",
        "    def __sub__(self: 'Var', other: 'Var') -> 'Var':\n",
        "        return self + (-other)\n",
        "\n",
        "    def __truediv__(self: 'Var', other: 'Var') -> 'Var':\n",
        "        return self * other ** -1\n",
        "\n",
        "    def __repr__(self):\n",
        "        return \"Var(v=%.4f, grad=%.4f)\" % (self.v, self.grad)\n",
        "\n",
        "    def relu(self):\n",
        "        return Var(self.v if self.v > 0.0 else 0.0, lambda: [(self, 1.0 if self.v > 0.0 else 0.0)])\n",
        "\n",
        "    def identity(self):\n",
        "        return Var(self.v, lambda: [(self, 1.0)])\n",
        "\n",
        "    def tanh(self):\n",
        "        return Var(tanh(self.v), lambda: [(self, 1-(tanh(self.v)**2))])\n",
        "\n",
        "    def sigmoid(self):\n",
        "        sig = 1.0/(1.0+exp(-self.v))\n",
        "        return Var(sig, lambda: [(self, sig*(1.0-sig))])\n",
        "\n",
        "    def exp(self):\n",
        "        return Var(exp(self.v), lambda: [(self, exp(self.v))])\n",
        " \n",
        "    def log(self):\n",
        "        return Var(log(self.v), lambda: [(self, self.v ** -1)])"
      ],
      "execution_count": 2,
      "outputs": []
    },
    {
      "cell_type": "markdown",
      "metadata": {
        "id": "yDX67D6jzcte"
      },
      "source": [
        "A few examples illustrate how we can use this:"
      ]
    },
    {
      "cell_type": "code",
      "metadata": {
        "colab": {
          "base_uri": "https://localhost:8080/"
        },
        "id": "xk6PeLc3zwPT",
        "outputId": "016dbcc2-014d-4a34-a783-246cd63e4f02"
      },
      "source": [
        "a = Var(3.0)\n",
        "b = Var(5.0)\n",
        "f = a * b\n",
        "\n",
        "f.backward()\n",
        "\n",
        "for v in [a, b, f]:\n",
        "    print(v)"
      ],
      "execution_count": 3,
      "outputs": [
        {
          "output_type": "stream",
          "name": "stdout",
          "text": [
            "Var(v=3.0000, grad=5.0000)\n",
            "Var(v=5.0000, grad=3.0000)\n",
            "Var(v=15.0000, grad=1.0000)\n"
          ]
        }
      ]
    },
    {
      "cell_type": "code",
      "metadata": {
        "colab": {
          "base_uri": "https://localhost:8080/"
        },
        "id": "JmKhYgsY0g_o",
        "outputId": "bb75bece-31e1-4d4e-ae30-b3ec3a7f24cb"
      },
      "source": [
        "a = Var(3.0)\n",
        "b = Var(5.0)\n",
        "c = a * b\n",
        "d = Var(9.0)\n",
        "e = a * d\n",
        "f = c + e\n",
        "\n",
        "f.backward()\n",
        "\n",
        "for v in [a, b, c, d, e, f]:\n",
        "    print(v)"
      ],
      "execution_count": 4,
      "outputs": [
        {
          "output_type": "stream",
          "name": "stdout",
          "text": [
            "Var(v=3.0000, grad=14.0000)\n",
            "Var(v=5.0000, grad=3.0000)\n",
            "Var(v=15.0000, grad=1.0000)\n",
            "Var(v=9.0000, grad=3.0000)\n",
            "Var(v=27.0000, grad=1.0000)\n",
            "Var(v=42.0000, grad=1.0000)\n"
          ]
        }
      ]
    },
    {
      "cell_type": "markdown",
      "metadata": {
        "id": "Fe3B6uEH140p"
      },
      "source": [
        "## Exercise a) What is being calculated?\n",
        "\n",
        "Explain briefly the output of the code? What is the expression we differentiate and with respect to what variables?\n",
        "\n",
        "**Solution**\n",
        "\n",
        "First example $$f = a \\cdot b$$\n",
        "\n",
        "* The first line of the output is the value of a=3 and the derivative of f with respect to a: $\\frac{\\partial{f}}{\\partial{a}} = \\frac{\\partial{(a \\cdot 5)}}{\\partial{a}} = 5$\n",
        "\n",
        "* The second line of the output is the value of b=5 and the derivative of f with respect to b: $\\frac{\\partial{f}}{\\partial{b}} = \\frac{\\partial{(3b)}}{\\partial{b}} = 3 $\n",
        "\n",
        "* The last line of the output is the value of f=15 and the derivative of f with respect to f itself: $\\frac{\\partial{f}}{\\partial{f}} = 1 $\n",
        "\n",
        "Second example: $$f = c + e = a \\cdot b + a \\cdot d$$\n",
        "\n",
        "* The first line of the output is the value of a=3 and the derivative of f with respect to a: $\\frac{\\partial{f}}{\\partial{a}} = \\frac{\\partial{(a \\cdot 5 + a \\cdot 9)}}{\\partial{a}} = 14$\n",
        "\n",
        "* The second line of the output is the value of b=5 and the derivative of f with respect to b: $\\frac{\\partial{f}}{\\partial{b}} = \\frac{\\partial{(3b + 27)}}{\\partial{b}} = 3 $\n",
        "\n",
        "* The third line of the output is the value of c=15 and the derivative of f with respect to c: $\\frac{\\partial{f}}{\\partial{c}} = \\frac{\\partial{(c+27)}}{\\partial{c}} = 1  $\n",
        "\n",
        "* The 4th line of the output is the value of d=9 and the derivative of f with respect to d: $\\frac{\\partial{f}}{\\partial{d}} = \\frac{\\partial{(15+3d)}}{\\partial{d}} = 3  $\n",
        "\n",
        "* The 5th line of the output is the value of e=27 and the derivative of f with respect to e: $\\frac{\\partial{f}}{\\partial{e}} = \\frac{\\partial{(15+e)}}{\\partial{e}} = 1  $\n",
        "\n",
        "* The last line of the output is the value of f=42 and the derivative of f with respect to f itself: $\\frac{\\partial{f}}{\\partial{f}} = 1 $"
      ]
    },
    {
      "cell_type": "markdown",
      "metadata": {
        "id": "q8_Q0t2I3Ruj"
      },
      "source": [
        "#### Exercise b) How does the backward function work?\n",
        "\n",
        "For the first example above, make a schematic of the data structure which is generated when we define the expression for f. Then execute the backward function by hand to convince yourself that it indeed calculates the gradients with respect to the variables. Write down the sequence of calls to backprop for the first example above.\n",
        "\n",
        "**Solution**\n",
        "\n",
        "When defining the expression for f by writing f = a * b we execute the mul function in the Var class above and thus create a Var type object whitch has the value of the multiplied Vars and a grad_fnc. The grad is initialied to zero. The object looks as follows:\n",
        "\n",
        "$$f=(\\text{value}, \\text{grad_fnc}, \\text{grad}) $$\n",
        "\n",
        "$$f=(\\text{a.v} \\cdot \\text{b.v}, [(\\text{a}, \\text{b.v}), (\\text{b}, \\text{a.v})], 0.0)$$\n",
        "\n",
        "$$f=(15, [(\\text{a}, 5), (\\text{b}, 3)], 0.0)$$\n",
        "\n",
        "Sequence of calls to backprop for the first example:\n",
        "\n",
        "* f.backprop(1.0)\n",
        "* a.backprop(5*1.0) (first loop)\n",
        "* b.backprop(3*1.0) (second loop)"
      ]
    },
    {
      "cell_type": "markdown",
      "metadata": {
        "id": "A5oi21W4gpeM"
      },
      "source": [
        "## Exercise c) What happens if we run backward again?\n",
        "\n",
        "Try to execute the code below. Explain what happens.\n",
        "\n",
        "**Solution**\n",
        "\n",
        "The initial/same gradient is simply added again. \n",
        "\n",
        "Before executing the first backprop the Var objects are as follows:\n",
        "\n",
        "$$a=(3, [], 0.0)$$\n",
        "$$b=(5, [], 0.0)$$\n",
        "$$c=(15, [(a,5), (b,3)], 0.0)$$\n",
        "$$d=(9, [], 0.0)$$\n",
        "$$e=(27, [(a,9), (d,3), 0.0]) $$\n",
        "$$f=(42, [(c,1), (e,1)], 0.0) $$\n",
        "\n",
        "After the first backprop execution they are:\n",
        "\n",
        "$$a=(3, [], 14.0)$$\n",
        "$$b=(5, [], 3.0)$$\n",
        "$$c=(15, [(a,5), (b,3)], 1.0)$$\n",
        "$$d=(9, [], 3.0)$$\n",
        "$$e=(27, [(a,9), (d,3), 1.0]) $$\n",
        "$$f=(42, [(c,1), (e,1)], 1.0) $$\n",
        "\n",
        "Executing backprop only changes the grad attribute of a var object, the grad_fnc attributes stay the same (those only change when adding, multiplyig and so on).\n",
        "\n",
        "When we now execute backprop a second time (without doing any other operations before) the code executes exactly the same way as before by increasing the grad attributes of all variables by the same amount again. The only difference is that now the starting grad values are not zero anymore.\n",
        "\n",
        "The result of the second backprop execution:\n",
        "\n",
        "$$a=(3, [], 28.0)$$\n",
        "$$b=(5, [], 6.0)$$\n",
        "$$c=(15, [(a,5), (b,3)], 2.0)$$\n",
        "$$d=(9, [], 6.0)$$\n",
        "$$e=(27, [(a,9), (d,3), 2.0]) $$\n",
        "$$f=(42, [(c,1), (e,1)], 2.0) $$"
      ]
    },
    {
      "cell_type": "code",
      "metadata": {
        "colab": {
          "base_uri": "https://localhost:8080/"
        },
        "id": "DCtpJyr-gyX1",
        "outputId": "ec5911cc-8a98-4ae7-90db-8c2c9bf79d83"
      },
      "source": [
        "f.backward()\n",
        "\n",
        "for v in [a, b, c, d, e, f]:\n",
        "    print(v)"
      ],
      "execution_count": 5,
      "outputs": [
        {
          "output_type": "stream",
          "name": "stdout",
          "text": [
            "Var(v=3.0000, grad=28.0000)\n",
            "Var(v=5.0000, grad=6.0000)\n",
            "Var(v=15.0000, grad=2.0000)\n",
            "Var(v=9.0000, grad=6.0000)\n",
            "Var(v=27.0000, grad=2.0000)\n",
            "Var(v=42.0000, grad=2.0000)\n"
          ]
        }
      ]
    },
    {
      "cell_type": "markdown",
      "metadata": {
        "id": "e8bPVq2VhsP-"
      },
      "source": [
        "## Exercise d) Zero gradient\n",
        "\n",
        "We can zero the gradient by backpropagating a -1.0 as is shown in the example below. (If you have run backward multiple time then you also have to run the cell below an equal amount of times.) Explain what is going on.\n",
        "\n",
        "**Solution**\n",
        "\n",
        "The initial/same gradient is substracted once.\n",
        "\n",
        "Executing backprop with a -1.0 parameter changes the sign of all the gradients that were going to be added. Due to this line in the code: \"input.backprop(grad * bp)\" all the next backprop calls are now made with a negative parameter. Therefore instead of adding the same amount as before, the amount is now subtracted from the previous grad attribute values.\n",
        "\n",
        "The value for a is redefined but that does not change the a value in function f. Threfore the backprop works the same way as before but when printing it just prints the new a value instead."
      ]
    },
    {
      "cell_type": "code",
      "metadata": {
        "colab": {
          "base_uri": "https://localhost:8080/"
        },
        "id": "OnyPDQx9lJe0",
        "outputId": "b1cbb151-2295-4bf3-d157-9421477c5281"
      },
      "source": [
        "a = Var(2.0)\n",
        "\n",
        "for v in [a, b, c, d, e, f]:\n",
        "    print(v)\n",
        "\n",
        "print()\n",
        "f.backprop(-1.0)\n",
        "\n",
        "for v in [a, b, c, d, e, f]:\n",
        "    print(v)"
      ],
      "execution_count": 6,
      "outputs": [
        {
          "output_type": "stream",
          "name": "stdout",
          "text": [
            "Var(v=2.0000, grad=0.0000)\n",
            "Var(v=5.0000, grad=6.0000)\n",
            "Var(v=15.0000, grad=2.0000)\n",
            "Var(v=9.0000, grad=6.0000)\n",
            "Var(v=27.0000, grad=2.0000)\n",
            "Var(v=42.0000, grad=2.0000)\n",
            "\n",
            "Var(v=2.0000, grad=0.0000)\n",
            "Var(v=5.0000, grad=3.0000)\n",
            "Var(v=15.0000, grad=1.0000)\n",
            "Var(v=9.0000, grad=3.0000)\n",
            "Var(v=27.0000, grad=1.0000)\n",
            "Var(v=42.0000, grad=1.0000)\n"
          ]
        }
      ]
    },
    {
      "cell_type": "markdown",
      "metadata": {
        "id": "U4057_ljNvWB"
      },
      "source": [
        "## Exercise e) Test correctness of derivatives with the finite difference method\n",
        "\n",
        "Write a small function that uses [the finite difference method](https://en.wikipedia.org/wiki/Finite_difference_method) to numerically test that backpropation implementation is working. In short we will use\n",
        "$$\n",
        "\\frac{\\partial f(a)}{\\partial a} \\approx \\frac{f(a+da)-f(a)}{da}\n",
        "$$\n",
        "for $da \\ll 1$.\n",
        "\n",
        "\n",
        "_Insert your code in the cell below._\n"
      ]
    },
    {
      "cell_type": "code",
      "metadata": {
        "colab": {
          "base_uri": "https://localhost:8080/"
        },
        "id": "9TGil92lSXDN",
        "outputId": "b66a247c-0eb5-4561-e2fb-0ff0edcd55af"
      },
      "source": [
        "# test function - try to change into other functions as well\n",
        "def test_function(a):\n",
        "  a = Var(a)\n",
        "  b = Var(5.0)\n",
        "  f = a * b\n",
        "  f.backward()\n",
        "  return a,b,f\n",
        "\n",
        "for v in test_function(3.0):\n",
        "  print(v)\n",
        "\n",
        "# Insert your finite difference code here\n",
        "def finite_difference(a, da=1e-10):\n",
        "    \"\"\"\n",
        "    This function compute the finite difference between\n",
        "    \n",
        "    Input:\n",
        "    da:          The finite difference                           (float)\n",
        "    \n",
        "    Output:\n",
        "    finite_difference: numerical approximation to the derivative (float) \n",
        "    \"\"\"\n",
        "    \n",
        "    fa_da = test_function(a+da)[2].v          # <- Insert correct expression\n",
        "    fa = test_function(a)[2].v                # <- Insert correct expression\n",
        "\n",
        "    finite_difference = (fa_da - fa) / da\n",
        "    \n",
        "    return finite_difference\n",
        "\n",
        "print(\"Finite difference method result for a=3:\", finite_difference(3.0))"
      ],
      "execution_count": 7,
      "outputs": [
        {
          "output_type": "stream",
          "name": "stdout",
          "text": [
            "Var(v=3.0000, grad=5.0000)\n",
            "Var(v=5.0000, grad=3.0000)\n",
            "Var(v=15.0000, grad=1.0000)\n",
            "Finite difference method result for a=3: 5.000000413701855\n"
          ]
        }
      ]
    },
    {
      "cell_type": "markdown",
      "metadata": {
        "id": "EKNBnTeQoH6Y"
      },
      "source": [
        "The gradient result/value is the same up to 6 decimal places. "
      ]
    },
    {
      "cell_type": "markdown",
      "metadata": {
        "id": "6pZar5RKaUkg"
      },
      "source": [
        "# Create an artificial dataset to play with\n",
        "\n",
        "We create a non-linear 1d regression task. The generator supports various noise levels and it creates train, validation and test sets. You can modify it yourself if you want more or less challenging tasks."
      ]
    },
    {
      "cell_type": "code",
      "metadata": {
        "collapsed": true,
        "id": "Y6yfMAQ8aduj"
      },
      "source": [
        "import numpy as np\n",
        "import matplotlib.pyplot as plt\n",
        "\n",
        "np.random.seed(42)"
      ],
      "execution_count": 8,
      "outputs": []
    },
    {
      "cell_type": "code",
      "metadata": {
        "collapsed": true,
        "id": "4YabfD43ajNh"
      },
      "source": [
        "def data_generator(noise=0.1, n_samples=300, D1=True):\n",
        "    # Create covariates and response variable\n",
        "    if D1:\n",
        "        X = np.linspace(-3, 3, num=n_samples).reshape(-1,1) # 1-D\n",
        "        np.random.shuffle(X)\n",
        "        y = np.random.normal((0.5*np.sin(X[:,0]*3) + X[:,0]), noise) # 1-D with trend\n",
        "    else:\n",
        "        X = np.random.multivariate_normal(np.zeros(3), noise*np.eye(3), size = n_samples) # 3-D\n",
        "        np.random.shuffle(X)    \n",
        "        y = np.sin(X[:,0]) - 5*(X[:,1]**2) + 0.5*X[:,2] # 3-D\n",
        "\n",
        "    # Stack them together vertically to split data set\n",
        "    data_set = np.vstack((X.T,y)).T\n",
        "    \n",
        "    train, validation, test = np.split(data_set, [int(0.35*n_samples), int(0.7*n_samples)], axis=0)\n",
        "    \n",
        "    # Standardization of the data, remember we do the standardization with the training set mean and standard deviation\n",
        "    train_mu = np.mean(train, axis=0)\n",
        "    train_sigma = np.std(train, axis=0)\n",
        "    \n",
        "    train = (train-train_mu)/train_sigma\n",
        "    validation = (validation-train_mu)/train_sigma\n",
        "    test = (test-train_mu)/train_sigma\n",
        "    \n",
        "    x_train, x_validation, x_test = train[:,:-1], validation[:,:-1], test[:,:-1]\n",
        "    y_train, y_validation, y_test = train[:,-1], validation[:,-1], test[:,-1]\n",
        "\n",
        "    return x_train, y_train,  x_validation, y_validation, x_test, y_test"
      ],
      "execution_count": 9,
      "outputs": []
    },
    {
      "cell_type": "code",
      "metadata": {
        "collapsed": true,
        "id": "u1oDngHLapIz"
      },
      "source": [
        "D1 = True\n",
        "x_train, y_train,  x_validation, y_validation, x_test, y_test = data_generator(noise=0.5, D1=D1)"
      ],
      "execution_count": 10,
      "outputs": []
    },
    {
      "cell_type": "code",
      "metadata": {
        "colab": {
          "base_uri": "https://localhost:8080/",
          "height": 265
        },
        "id": "Ysfa3FsBavlm",
        "outputId": "adea54b5-edee-43f1-b6f1-cedb768d3351"
      },
      "source": [
        "if D1:\n",
        "    plt.scatter(x_train[:,0], y_train);\n",
        "    plt.scatter(x_validation[:,0], y_validation);\n",
        "    plt.scatter(x_test[:,0], y_test);\n",
        "else:\n",
        "    plt.scatter(x_train[:,1], y_train);\n",
        "    plt.scatter(x_validation[:,1], y_validation);\n",
        "    plt.scatter(x_test[:,1], y_test);\n",
        "plt.show()"
      ],
      "execution_count": 11,
      "outputs": [
        {
          "output_type": "display_data",
          "data": {
            "image/png": "[encoded data removed]",
            "text/plain": [
              "<Figure size 432x288 with 1 Axes>"
            ]
          },
          "metadata": {
            "needs_background": "light"
          }
        }
      ]
    },
    {
      "cell_type": "code",
      "metadata": {
        "id": "zac2HHNlgbpm"
      },
      "source": [
        "# convert from nparray to Var\n",
        "def nparray_to_Var(x):\n",
        "  if x.ndim==1:\n",
        "    y = [[Var(float(x[i]))] for i in range(x.shape[0])] # always work with list of list\n",
        "  else:\n",
        "    y = [[Var(float(x[i,j])) for j in range(x.shape[1])] for i in range(x.shape[0])]\n",
        "  return y\n",
        "   \n",
        "x_train = nparray_to_Var(x_train)\n",
        "y_train = nparray_to_Var(y_train)\n",
        "x_validation = nparray_to_Var(x_validation)\n",
        "y_validation = nparray_to_Var(y_validation)\n",
        "x_test = nparray_to_Var(x_test)\n",
        "y_test = nparray_to_Var(y_test)\n"
      ],
      "execution_count": 12,
      "outputs": []
    },
    {
      "cell_type": "markdown",
      "metadata": {
        "id": "VbjrqcpVFtGe"
      },
      "source": [
        "# Defining and initializing the network\n",
        "\n",
        "The steps to create a feed forward neural network are the following:\n",
        "\n",
        "1. **Number of hidden layer and hidden units**. We have to define the number of hidden units in each layer. The number of features in X and the output dimensionality (the size of Y) are given but the numbers in between are set by the researcher. Remember that for each unit in each layer beside in the input has a bias term.\n",
        "2. **Activation functions** for each hidden layer. Each hidden layer in your list must have an activation function (it can also be the linear activation which is equivalent to identity function). The power of neural networks comes from non-linear activation functions that learn representations (features) from the data allowing us to learn from it. \n",
        "3. **Parameter initialization**. We will initialize the weights to have random values. This is done in practice by drawing pseudo random numbers from a Gaussian or uniform distribution. It turns out that for deeper models we have to be careful about how we scale the random numbers. This will be the topic of the exercise below. For now we will just use unit variance Gaussians.  \n",
        "\n",
        "In order to make life easier for ourselves we define a DenseLayer class that takes care of initialization and the forward pass. We can also extend it later with print and advanced initialization capabilities. For the latter we have introduced a Initializer class.\n",
        "\n",
        "Note that we use Sequence in the code below. A Sequence is an ordered list. This means the order we insert and access items are the same."
      ]
    },
    {
      "cell_type": "code",
      "metadata": {
        "id": "ij_ieRsAt7Xt"
      },
      "source": [
        "class Initializer:\n",
        "\n",
        "  def init_weights(self, n_in, n_out):\n",
        "    raise NotImplementedError\n",
        "\n",
        "  def init_bias(self, n_out):\n",
        "    raise NotImplementedError"
      ],
      "execution_count": 13,
      "outputs": []
    },
    {
      "cell_type": "code",
      "metadata": {
        "id": "eb18N5phuIha"
      },
      "source": [
        "import random\n",
        "\n",
        "class NormalInitializer(Initializer):\n",
        "\n",
        "  def __init__(self, mean=0, std=0.1):\n",
        "    self.mean = mean\n",
        "    self.std = std\n",
        "\n",
        "  def init_weights(self, n_in, n_out):\n",
        "    return [[Var(random.gauss(self.mean, self.std)) for _ in range(n_out)] for _ in range(n_in)]\n",
        "\n",
        "  def init_bias(self, n_out):\n",
        "    return [Var(0.0) for _ in range(n_out)]\n",
        "\n",
        "class ConstantInitializer(Initializer):\n",
        "\n",
        "  def __init__(self, weight=1.0, bias=0.0):\n",
        "    self.weight = weight\n",
        "    self.bias = bias\n",
        "\n",
        "  def init_weights(self, n_in, n_out):\n",
        "    return [[Var(self.weight) for _ in range(n_out)] for _ in range(n_in)]\n",
        "\n",
        "  def init_bias(self, n_out):\n",
        "    return [Var(self.bias) for _ in range(n_out)]"
      ],
      "execution_count": 14,
      "outputs": []
    },
    {
      "cell_type": "code",
      "metadata": {
        "id": "jOLYGnZKuM6W"
      },
      "source": [
        "from typing import Sequence\n",
        "\n",
        "class DenseLayer:\n",
        "    def __init__(self, n_in: int, n_out: int, act_fn, initializer = NormalInitializer()):\n",
        "        self.weights = initializer.init_weights(n_in, n_out)\n",
        "        self.bias = initializer.init_bias(n_out)\n",
        "        self.act_fn = act_fn\n",
        "    \n",
        "    def __repr__(self):\n",
        "        w = \"\"\n",
        "        for i in range(len(self.weights)):\n",
        "              w += '\\n' + repr(self.weights[i])\n",
        "        return 'Weights:' + str(w) + '\\n' + 'Biases: \\n' + repr(self.bias)\n",
        "\n",
        "    def parameters(self) -> Sequence[Var]:\n",
        "      params = []\n",
        "      for r in self.weights:\n",
        "        params += r\n",
        "\n",
        "      return params + self.bias\n",
        "\n",
        "    def forward(self, inputs: Sequence[Var]) -> Sequence[Var]:\n",
        "        assert len(self.weights) == len(inputs), \"weights and inputs must match in first dimension\"\n",
        "        weights = self.weights\n",
        "        out = []\n",
        "        for j in range(len(weights[0])):\n",
        "            node = self.bias[j] # <- Insert code\n",
        "            for i in range(len(inputs)):\n",
        "                node += weights[i][j]*inputs[i]  # <- Insert code\n",
        "            node = self.act_fn(node)\n",
        "            out.append(node)\n",
        "\n",
        "        return out"
      ],
      "execution_count": 15,
      "outputs": []
    },
    {
      "cell_type": "markdown",
      "metadata": {
        "id": "p_8n_SKnIW2F"
      },
      "source": [
        "## Exercise f) Complete the forward pass\n",
        "\n",
        "In the code below we initialize a 1-5-1 network and pass the training set through it. The forward method in DenseLayer is not complete. It  just outputs zeros right now. The method forward should perform an [affine transformation](https://en.wikipedia.org/wiki/Affine_transformation) on the input followed by an application of the activation function."
      ]
    },
    {
      "cell_type": "code",
      "metadata": {
        "colab": {
          "base_uri": "https://localhost:8080/"
        },
        "id": "xDEjtePxE7Mv",
        "outputId": "6a0352c5-8c94-466d-cced-b0f8ea53c5ae"
      },
      "source": [
        "NN = [\n",
        "    DenseLayer(1, 5, lambda x: x.relu()),\n",
        "    DenseLayer(5, 1, lambda x: x.identity())\n",
        "]\n",
        "\n",
        "def forward(input, network):\n",
        "\n",
        "  def forward_single(x, network):\n",
        "    for layer in network:\n",
        "        x = layer.forward(x)\n",
        "    return x\n",
        "\n",
        "  output = [forward_single(input[n], network) for n in range(len(input))]\n",
        "  return output\n",
        "\n",
        "print(forward(x_train, NN))\n"
      ],
      "execution_count": 16,
      "outputs": [
        {
          "output_type": "stream",
          "name": "stdout",
          "text": [
            "[[Var(v=0.0044, grad=0.0000)], [Var(v=0.0088, grad=0.0000)], [Var(v=0.0008, grad=0.0000)], [Var(v=0.0317, grad=0.0000)], [Var(v=0.0065, grad=0.0000)], [Var(v=0.0060, grad=0.0000)], [Var(v=0.0039, grad=0.0000)], [Var(v=0.0076, grad=0.0000)], [Var(v=0.0327, grad=0.0000)], [Var(v=0.0024, grad=0.0000)], [Var(v=0.0067, grad=0.0000)], [Var(v=0.0202, grad=0.0000)], [Var(v=0.0054, grad=0.0000)], [Var(v=0.0231, grad=0.0000)], [Var(v=0.0029, grad=0.0000)], [Var(v=0.0056, grad=0.0000)], [Var(v=0.0104, grad=0.0000)], [Var(v=0.0049, grad=0.0000)], [Var(v=0.0005, grad=0.0000)], [Var(v=0.0017, grad=0.0000)], [Var(v=0.0151, grad=0.0000)], [Var(v=0.0067, grad=0.0000)], [Var(v=0.0076, grad=0.0000)], [Var(v=0.0076, grad=0.0000)], [Var(v=0.0088, grad=0.0000)], [Var(v=0.0238, grad=0.0000)], [Var(v=0.0098, grad=0.0000)], [Var(v=0.0108, grad=0.0000)], [Var(v=0.0011, grad=0.0000)], [Var(v=0.0068, grad=0.0000)], [Var(v=0.0298, grad=0.0000)], [Var(v=0.0016, grad=0.0000)], [Var(v=0.0260, grad=0.0000)], [Var(v=0.0281, grad=0.0000)], [Var(v=0.0052, grad=0.0000)], [Var(v=0.0052, grad=0.0000)], [Var(v=0.0322, grad=0.0000)], [Var(v=0.0122, grad=0.0000)], [Var(v=0.0228, grad=0.0000)], [Var(v=0.0163, grad=0.0000)], [Var(v=0.0115, grad=0.0000)], [Var(v=0.0156, grad=0.0000)], [Var(v=0.0102, grad=0.0000)], [Var(v=0.0194, grad=0.0000)], [Var(v=0.0153, grad=0.0000)], [Var(v=0.0187, grad=0.0000)], [Var(v=0.0065, grad=0.0000)], [Var(v=0.0062, grad=0.0000)], [Var(v=0.0071, grad=0.0000)], [Var(v=0.0063, grad=0.0000)], [Var(v=0.0028, grad=0.0000)], [Var(v=0.0002, grad=0.0000)], [Var(v=0.0069, grad=0.0000)], [Var(v=0.0158, grad=0.0000)], [Var(v=0.0109, grad=0.0000)], [Var(v=0.0096, grad=0.0000)], [Var(v=0.0105, grad=0.0000)], [Var(v=0.0117, grad=0.0000)], [Var(v=0.0036, grad=0.0000)], [Var(v=0.0279, grad=0.0000)], [Var(v=0.0064, grad=0.0000)], [Var(v=0.0197, grad=0.0000)], [Var(v=0.0325, grad=0.0000)], [Var(v=0.0031, grad=0.0000)], [Var(v=0.0023, grad=0.0000)], [Var(v=0.0267, grad=0.0000)], [Var(v=0.0286, grad=0.0000)], [Var(v=0.0081, grad=0.0000)], [Var(v=0.0204, grad=0.0000)], [Var(v=0.0032, grad=0.0000)], [Var(v=0.0079, grad=0.0000)], [Var(v=0.0035, grad=0.0000)], [Var(v=0.0062, grad=0.0000)], [Var(v=0.0037, grad=0.0000)], [Var(v=0.0028, grad=0.0000)], [Var(v=0.0099, grad=0.0000)], [Var(v=0.0141, grad=0.0000)], [Var(v=0.0137, grad=0.0000)], [Var(v=0.0180, grad=0.0000)], [Var(v=0.0103, grad=0.0000)], [Var(v=0.0016, grad=0.0000)], [Var(v=0.0009, grad=0.0000)], [Var(v=0.0293, grad=0.0000)], [Var(v=0.0040, grad=0.0000)], [Var(v=0.0149, grad=0.0000)], [Var(v=0.0064, grad=0.0000)], [Var(v=0.0055, grad=0.0000)], [Var(v=0.0165, grad=0.0000)], [Var(v=0.0303, grad=0.0000)], [Var(v=0.0315, grad=0.0000)], [Var(v=0.0037, grad=0.0000)], [Var(v=0.0096, grad=0.0000)], [Var(v=0.0175, grad=0.0000)], [Var(v=0.0058, grad=0.0000)], [Var(v=0.0250, grad=0.0000)], [Var(v=0.0301, grad=0.0000)], [Var(v=0.0027, grad=0.0000)], [Var(v=0.0004, grad=0.0000)], [Var(v=0.0093, grad=0.0000)], [Var(v=0.0178, grad=0.0000)], [Var(v=0.0061, grad=0.0000)], [Var(v=0.0173, grad=0.0000)], [Var(v=0.0264, grad=0.0000)], [Var(v=0.0030, grad=0.0000)], [Var(v=0.0087, grad=0.0000)]]\n"
          ]
        }
      ]
    },
    {
      "cell_type": "markdown",
      "metadata": {
        "id": "oLrGJytZFtGm"
      },
      "source": [
        "## Exercise g) Print all network parameters\n",
        "\n",
        "Make a function that prints all the parameters of the network (weights and biases) with information about in which layer the appear. In the object oriented spirit you should introduce a method in the DenseLayer class to print the parameters of a layer. Hint: You can take inspiration from the corresponding method in Var. "
      ]
    },
    {
      "cell_type": "code",
      "metadata": {
        "collapsed": true,
        "id": "iac-VwYGFtGm",
        "colab": {
          "base_uri": "https://localhost:8080/"
        },
        "outputId": "8d64736b-6f99-412b-f439-243b63d93f7d"
      },
      "source": [
        "# Insert code here and in the DenseLayer class\n",
        "def printParams(network):\n",
        "  for layer in range(len(network)):\n",
        "    print(\"Layer number: \", layer)  #prints the layer number\n",
        "    print(network[layer])           #uses the _repr_ method in the Denselayer class (which was modified a bit) to print weights and biases in one layer\n",
        "    print()\n",
        "printParams(NN)"
      ],
      "execution_count": 17,
      "outputs": [
        {
          "output_type": "stream",
          "name": "stdout",
          "text": [
            "Layer number:  0\n",
            "Weights:\n",
            "[Var(v=-0.1206, grad=0.0000), Var(v=0.0502, grad=0.0000), Var(v=0.0489, grad=0.0000), Var(v=-0.0730, grad=0.0000), Var(v=0.1253, grad=0.0000)]\n",
            "Biases: \n",
            "[Var(v=0.0000, grad=0.0000), Var(v=0.0000, grad=0.0000), Var(v=0.0000, grad=0.0000), Var(v=0.0000, grad=0.0000), Var(v=0.0000, grad=0.0000)]\n",
            "\n",
            "Layer number:  1\n",
            "Weights:\n",
            "[Var(v=0.1972, grad=0.0000)]\n",
            "[Var(v=0.0774, grad=0.0000)]\n",
            "[Var(v=0.0240, grad=0.0000)]\n",
            "[Var(v=-0.0401, grad=0.0000)]\n",
            "[Var(v=0.0079, grad=0.0000)]\n",
            "Biases: \n",
            "[Var(v=0.0000, grad=0.0000)]\n",
            "\n"
          ]
        }
      ]
    },
    {
      "cell_type": "markdown",
      "metadata": {
        "id": "-u4xk_ORFtGz"
      },
      "source": [
        "# Activation functions\n",
        "\n",
        "To have a full definition of the neural network, we must define an activation function for every layer. Several activation functions have been proposed and have different characteristics. In the Var class we have already defined the rectified linear init (relu). \n",
        " "
      ]
    },
    {
      "cell_type": "markdown",
      "metadata": {
        "id": "jpIZPBpNI0pO"
      },
      "source": [
        "## Exercise h) Add more activation functions\n",
        "\n",
        "Implement the following activation functions in the Var class:\n",
        "\n",
        "* Identity: $$\\mathrm{identity}(x) = x$$\n",
        "* Hyperbolic tangent: $$\\tanh(x)$$\n",
        "* Sigmoid (or logistic function): $$\\mathrm{sigmoid}(x) = \\frac{1}{1.0 + \\exp(-x ) }$$  Hint: $\\mathrm{sigmoid}'(x)= \\mathrm{sigmoid}(x)(1-\\mathrm{sigmoid}(x))$.  \n",
        "\n",
        "Hint: You can seek inspiration in the relu method in the Var class."
      ]
    },
    {
      "cell_type": "markdown",
      "metadata": {
        "id": "_79HOAXrFtHK"
      },
      "source": [
        "## Visualization\n",
        "\n",
        "Now that we have defined our activation functions we can visualize them to see what they look like:"
      ]
    },
    {
      "cell_type": "code",
      "metadata": {
        "colab": {
          "base_uri": "https://localhost:8080/",
          "height": 282
        },
        "id": "1FcylHqLTl-Z",
        "outputId": "fc12efd3-4395-4525-c8d2-c7d512c8abf8"
      },
      "source": [
        "x = np.linspace(-6, 6, 100)\n",
        "\n",
        "# convert from Var to ndarray  \n",
        "def Var_to_nparray(x):\n",
        "  y = np.zeros((len(x),len(x[0])))\n",
        "  for i in range(len(x)):\n",
        "    for j in range(len(x[0])):\n",
        "      y[i,j] = x[i][j].v\n",
        "  return y\n",
        "\n",
        "# define 1-1 network with weight = 1 and relu activation \n",
        "NN = [ DenseLayer(1, 1, lambda x: x.relu(), initializer = ConstantInitializer(1.0)) ] \n",
        "y = Var_to_nparray(forward(nparray_to_Var(x), NN))\n",
        "\n",
        "#y = Var_to_nparray(relu(nparray_to_Var(x)))\n",
        "plt.plot(x,y)"
      ],
      "execution_count": 18,
      "outputs": [
        {
          "output_type": "execute_result",
          "data": {
            "text/plain": [
              "[<matplotlib.lines.Line2D at 0x7f12821a4cd0>]"
            ]
          },
          "metadata": {},
          "execution_count": 18
        },
        {
          "output_type": "display_data",
          "data": {
            "image/png": "[encoded data removed]",
            "text/plain": [
              "<Figure size 432x288 with 1 Axes>"
            ]
          },
          "metadata": {
            "needs_background": "light"
          }
        }
      ]
    },
    {
      "cell_type": "code",
      "metadata": {
        "id": "oOL2UolJFtHL",
        "colab": {
          "base_uri": "https://localhost:8080/",
          "height": 341
        },
        "outputId": "c2849259-717b-4a2f-8211-29368f66e57e"
      },
      "source": [
        "# Testing all activation layers\n",
        "\n",
        "x = np.linspace(-6, 6, 100)\n",
        "units = {\n",
        "    \"identity\": lambda x: x.identity(),\n",
        "    \"sigmoid\": lambda x: x.sigmoid(),  #<- uncomment before sharing\n",
        "    \"relu\": lambda x: x.relu(),\n",
        "    \"tanh\": lambda x: x.tanh() #<- uncomment before sharing\n",
        "}\n",
        "\n",
        "plt.figure(figsize=(5, 5))\n",
        "[plt.plot(x, Var_to_nparray(forward(nparray_to_Var(x), [DenseLayer(1, 1, unit, initializer = ConstantInitializer(1.0))]) ), label=unit_name, lw=2) for unit_name, unit in units.items()] # unit(nparray_to_Var(x))), label=unit_name, lw=2) for unit_name, unit in units.items()]\n",
        "plt.legend(loc=2, fontsize=16)\n",
        "plt.title('Our activation functions', fontsize=20)\n",
        "plt.ylim([-2, 5])\n",
        "plt.xlim([-6, 6])\n",
        "plt.show()"
      ],
      "execution_count": 19,
      "outputs": [
        {
          "output_type": "display_data",
          "data": {
            "image/png": "[encoded data removed]",
            "text/plain": [
              "<Figure size 360x360 with 1 Axes>"
            ]
          },
          "metadata": {
            "needs_background": "light"
          }
        }
      ]
    },
    {
      "cell_type": "markdown",
      "metadata": {
        "id": "b-jdEl-7FtGs"
      },
      "source": [
        "# Advanced initialization schemes\n",
        "\n",
        "If we are not careful with initialization, the signals we propagate forward ($a^{(l)}$, $l=1,\\ldots,L$) and backward ($\\delta^l$, $l=L,L-1,\\ldots,1$) can blow up or shrink to zero. A statistical analysis of the variance of the signals for different activation functions can be found in these two papers: [Glorot initialization](http://proceedings.mlr.press/v9/glorot10a/glorot10a.pdf) and [He initialization](https://arxiv.org/pdf/1502.01852v1.pdf). \n",
        "\n",
        "The result of the analyses are proposals for how to make the initialization such that the variance of the signals (forward and backward) are kept approxmimatly constant when propagating from layer to layer. The exact expressions depend upon the non-linear activation function used. In Glorot initialization, the aim is to keep both the forward and backward variances constant whereas He only aims at keeping the variance in the forward pass constant.\n",
        "\n",
        "We define $n_{in}$ and $n_{out}$ as the number of input units and output units of a particular layer. \n",
        "\n",
        "The Glorot initialization has the form: \n",
        "\n",
        "$$w_{ij} \\sim N \\bigg( 0, \\, \\frac{2 \\alpha }{n_{in} + n_{out}} \\bigg) \\ . $$\n",
        "\n",
        "where $N(\\mu,\\sigma^2)$ is a Gaussian distribution with mean $\\mu$ and variance $\\sigma^2$ and $\\alpha$ is a parameter that depends upon the activation function used. For $\\tanh$, $\\alpha=1$ and for Rectified Linear Unit (ReLU) activations, $\\alpha=2$. (It is also possible to use a uniform distribution for initialization, see [this blog post](https://mmuratarat.github.io/2019-02-25/xavier-glorot-he-weight-init).) \n",
        "\n",
        "The He initialization is very similar\n",
        "\n",
        "$$w_{ij} \\sim N \\bigg( 0, \\, \\frac{\\alpha}{n_{in}} \\bigg) \\ . $$"
      ]
    },
    {
      "cell_type": "markdown",
      "metadata": {
        "id": "mqeyab9qFtGs"
      },
      "source": [
        "## Exercise i) Glorot and He initialization\n",
        " \n",
        "Using the Initializer class, implement functions that implement Glorot and He \n",
        "\n",
        "Explain briefly how you would test numerically that these initializations have the sought after property. Hint: See plots in Glorot paper.\n",
        "\n",
        "Comment: If you want to be more advanced then try to make a universal initializer taking both the activation function and type (Glorot or He) as argument."
      ]
    },
    {
      "cell_type": "code",
      "metadata": {
        "collapsed": true,
        "id": "Qyk01CgaFtGt"
      },
      "source": [
        "## Glorot\n",
        "def DenseLayer_Glorot_tanh(n_in: int, n_out: int):\n",
        "  std = (2.0*1)/(n_in+n_out) # <- replace with proper initialization\n",
        "  return DenseLayer(n_in, n_out, lambda x: x.tanh(), initializer = NormalInitializer(std))\n",
        "\n",
        "## He\n",
        "def DenseLayer_He_relu(n_in: int, n_out: int):\n",
        "  std = 2.0/n_in # <- replace with proper initialization\n",
        "  return DenseLayer(n_in, n_out, lambda x: x.relu(), initializer = NormalInitializer(std))"
      ],
      "execution_count": 20,
      "outputs": []
    },
    {
      "cell_type": "markdown",
      "metadata": {
        "id": "-XyXBD37FtHk"
      },
      "source": [
        "## Exercise j) Forward pass unit test\n",
        "\n",
        "Write a bit of code to make a unit test that the forward pass works. This can be done by defining a simple network with for example all weights equal to one (using the ConstantInitializer method) and identity activation functions. \n",
        "\n",
        "Hints: Use the [assert](https://www.w3schools.com/python/ref_keyword_assert.asp), the nparray_to_Var and the Var_to_nparray commands. "
      ]
    },
    {
      "cell_type": "code",
      "metadata": {
        "collapsed": true,
        "id": "k0miqRUAFtHl",
        "colab": {
          "base_uri": "https://localhost:8080/"
        },
        "outputId": "53e4a06e-859d-4163-b348-f44c5bd59a3f"
      },
      "source": [
        "# Insert code here\n",
        "NN = [\n",
        "    DenseLayer(3, 5, lambda x: x.identity(), ConstantInitializer()),            #defining a network with structure 3-5-1 with constant weights that are equal to 1 and 0 biases\n",
        "    DenseLayer(5, 1, lambda x: x.identity(), ConstantInitializer())\n",
        "]\n",
        "\n",
        "inputArray = np.array([[1.0, 1.0, 1.0]])                                        #creating an input array of 1 datapoint with 3 attributes \n",
        "output = forward(nparray_to_Var(inputArray), NN)                                #executing the forward pass \n",
        "\n",
        "#Checking shape compatibility\n",
        "assert len(NN[0].weights) == len(inputArray[0]), \"weights and inputs must match in first dimension\"\n",
        "assert len(NN[0].weights[0]) == len(NN[1].weights), \"first layer weights 2nd dimension and second layer weights 1st dimension must mach\"\n",
        "\n",
        "#Checking value corrctness\n",
        "assert output[0][0].v == 15, \"Output value is incorrect\"                        #the output value should be ((1*1)+(1*1)+(1*1))*1*5 = 15\n",
        "\n",
        "#Printing the results for visual confirmation\n",
        "print(\"Output: \", output, '\\n')\n",
        "printParams(NN)"
      ],
      "execution_count": 21,
      "outputs": [
        {
          "output_type": "stream",
          "name": "stdout",
          "text": [
            "Output:  [[Var(v=15.0000, grad=0.0000)]] \n",
            "\n",
            "Layer number:  0\n",
            "Weights:\n",
            "[Var(v=1.0000, grad=0.0000), Var(v=1.0000, grad=0.0000), Var(v=1.0000, grad=0.0000), Var(v=1.0000, grad=0.0000), Var(v=1.0000, grad=0.0000)]\n",
            "[Var(v=1.0000, grad=0.0000), Var(v=1.0000, grad=0.0000), Var(v=1.0000, grad=0.0000), Var(v=1.0000, grad=0.0000), Var(v=1.0000, grad=0.0000)]\n",
            "[Var(v=1.0000, grad=0.0000), Var(v=1.0000, grad=0.0000), Var(v=1.0000, grad=0.0000), Var(v=1.0000, grad=0.0000), Var(v=1.0000, grad=0.0000)]\n",
            "Biases: \n",
            "[Var(v=0.0000, grad=0.0000), Var(v=0.0000, grad=0.0000), Var(v=0.0000, grad=0.0000), Var(v=0.0000, grad=0.0000), Var(v=0.0000, grad=0.0000)]\n",
            "\n",
            "Layer number:  1\n",
            "Weights:\n",
            "[Var(v=1.0000, grad=0.0000)]\n",
            "[Var(v=1.0000, grad=0.0000)]\n",
            "[Var(v=1.0000, grad=0.0000)]\n",
            "[Var(v=1.0000, grad=0.0000)]\n",
            "[Var(v=1.0000, grad=0.0000)]\n",
            "Biases: \n",
            "[Var(v=0.0000, grad=0.0000)]\n",
            "\n"
          ]
        }
      ]
    },
    {
      "cell_type": "markdown",
      "metadata": {
        "id": "faCxhfFnFtHp"
      },
      "source": [
        "# Loss functions\n",
        "\n",
        "We are only missing a loss function to we need to define a loss function and its derivative with respect to the output of the neural network $y$"
      ]
    },
    {
      "cell_type": "code",
      "metadata": {
        "collapsed": true,
        "id": "I2eDYKvAFtHq"
      },
      "source": [
        "def squared_loss(t, y):\n",
        "\n",
        "  #t:      target (expected output)\n",
        "  #y:      output from forward pass (must be the same shape as t)\n",
        "  \n",
        "  # add check that sizes agree\n",
        "  assert len(t) == len(y), \"t and y dimensions must match\"\n",
        "  \n",
        "  def squared_loss_single(t, y):\n",
        "    Loss = Var(0.0)\n",
        "    for i in range(len(t)): # sum over outputs\n",
        "      Loss += (t[i]-y[i]) ** 2\n",
        "    return Loss\n",
        "\n",
        "  Loss = Var(0.0)\n",
        "  for n in range(len(t)): # sum over training data\n",
        "    Loss += squared_loss_single(t[n],y[n])\n",
        "  return Loss"
      ],
      "execution_count": 22,
      "outputs": []
    },
    {
      "cell_type": "markdown",
      "metadata": {
        "id": "SrwSJ2UWFtHu"
      },
      "source": [
        "## Exercise j) Implement cross entropy loss\n",
        "\n",
        "Insert code below to implement cross-entropy loss for general dimensionality of $t$. Use a logits formulation:\n",
        "$$\n",
        "\\rm{Loss} = - \\sum_i t_i \\, log \\, p_i \n",
        "$$\n",
        "with $p$ given by the the softmax function in terms of the logits $h$:\n",
        "$$\n",
        "p_i = \\frac{\\exp(h_i)}{\\sum_{i'} \\exp(h_{i'} } .\n",
        "$$\n",
        "Inserting $p$ in the expression for the loss gives\n",
        "$$\n",
        "\\rm{Loss} = - \\sum_i t_i h_i + \\rm{LogSumExp}(h) \\ ,\n",
        "$$\n",
        "where \n",
        "$$\n",
        "\\rm{LogSumExp}(h) = \\log \\sum_i \\exp h_i \\ .\n",
        "$$\n",
        "This is true for $t$ being a one-hot vector. In practice you want to implement a [numerically stable](https://leimao.github.io/blog/LogSumExp/) version of LogSumExp. But we will not bother about that here.\n",
        "\n",
        "Help: You can add these methods in the Var class:\n",
        "\n",
        "    def exp(self):\n",
        "        return Var(exp(self.v), lambda: [(self, exp(self.v))])\n",
        "    \n",
        "    def log(self):\n",
        "        return Var(log(self.v), lambda: [(self, self.v ** -1)])"
      ]
    },
    {
      "cell_type": "code",
      "metadata": {
        "collapsed": true,
        "id": "6nMuxyfzFtHv"
      },
      "source": [
        "def cross_entropy_loss(t, y):\n",
        "\n",
        "    #t:      target (expected output)\n",
        "    #y:      output from forward pass (must be the same shape as t)\n",
        "  \n",
        "    # add check that sizes agree\n",
        "    assert len(t) == len(y), \"t and y dimensions must match\"\n",
        "\n",
        "    def cross_entropy_loss_single(t, y):\n",
        "      sum1 = Var(0.0)\n",
        "      sum2 = Var(0.0)\n",
        "      for i in range(len(t)): # sum over outputs\n",
        "        sum1 += t[i]*y[i]\n",
        "        sum2 += exp(y[i])\n",
        "      return -sum1+log(sum2)\n",
        "\n",
        "    Loss = Var(0.0)\n",
        "    for n in range(len(t)): # sum over training data\n",
        "      Loss += cross_entropy_loss_single(t[n],y[n])\n",
        "    return Loss"
      ],
      "execution_count": 23,
      "outputs": []
    },
    {
      "cell_type": "markdown",
      "metadata": {
        "id": "8fAF5ew4FtHy"
      },
      "source": [
        "# Backward pass\n",
        "\n",
        "Now the magic happens! We get the calculation of the gradients for free. Just do:"
      ]
    },
    {
      "cell_type": "code",
      "metadata": {
        "id": "iHyfPPI9Qqwu"
      },
      "source": [
        "NN = [\n",
        "    DenseLayer(1, 5, lambda x: x.relu()),\n",
        "    DenseLayer(5, 1, lambda x: x.identity())\n",
        "]\n",
        "\n",
        "output = forward(x_train, NN)\n",
        "\n",
        "Loss = squared_loss(y_train,output)\n",
        "Loss.backward()"
      ],
      "execution_count": 24,
      "outputs": []
    },
    {
      "cell_type": "markdown",
      "metadata": {
        "id": "49biIAYKQ1oG"
      },
      "source": [
        "and the gradients will be calculated:"
      ]
    },
    {
      "cell_type": "code",
      "metadata": {
        "colab": {
          "base_uri": "https://localhost:8080/"
        },
        "id": "_rGt1bq_Q7uk",
        "outputId": "0bf8e50f-4124-4075-a885-1323e174768b"
      },
      "source": [
        "[print('Layer', i, '\\n', NN[i]) for i in range(len(NN))] "
      ],
      "execution_count": 25,
      "outputs": [
        {
          "output_type": "stream",
          "name": "stdout",
          "text": [
            "Layer 0 \n",
            " Weights:\n",
            "[Var(v=-0.0487, grad=-3.6641), Var(v=-0.0677, grad=0.1011), Var(v=0.0074, grad=-5.6284), Var(v=-0.0046, grad=-2.1091), Var(v=0.0679, grad=20.9809)]\n",
            "Biases: \n",
            "[Var(v=0.0000, grad=3.3306), Var(v=0.0000, grad=-0.0919), Var(v=0.0000, grad=-4.8335), Var(v=0.0000, grad=1.9171), Var(v=0.0000, grad=18.0177)]\n",
            "Layer 1 \n",
            " Weights:\n",
            "[Var(v=0.0381, grad=4.6892)]\n",
            "[Var(v=-0.0011, grad=6.5164)]\n",
            "[Var(v=0.0546, grad=-0.7592)]\n",
            "[Var(v=0.0219, grad=0.4432)]\n",
            "[Var(v=-0.2036, grad=-7.0009)]\n",
            "Biases: \n",
            "[Var(v=0.0000, grad=-1.0686)]\n"
          ]
        },
        {
          "output_type": "execute_result",
          "data": {
            "text/plain": [
              "[None, None]"
            ]
          },
          "metadata": {},
          "execution_count": 25
        }
      ]
    },
    {
      "cell_type": "markdown",
      "metadata": {
        "id": "D7d7qK0uFtH9"
      },
      "source": [
        "# Backward pass unit test\n",
        "\n",
        "Above we used finite differences to test that Nanograd is actually doing what it is supposed to do. We can in principle try the same for the neural network. But we will trust that the test above is enough."
      ]
    },
    {
      "cell_type": "markdown",
      "metadata": {
        "id": "WgBi8GOSFtIN"
      },
      "source": [
        "# Training and validation\n",
        "\n",
        "We are ready to train some neural networks!\n",
        "\n",
        "We initialize again:"
      ]
    },
    {
      "cell_type": "code",
      "metadata": {
        "id": "01ePmzBzRtdh"
      },
      "source": [
        "NN = [\n",
        "    DenseLayer(1, 5, lambda x: x.relu()),\n",
        "    DenseLayer(5, 1, lambda x: x.identity())\n",
        "]\n",
        "\n",
        "output = forward(x_train, NN)\n",
        "\n",
        "Loss = squared_loss(y_train,output)\n",
        "Loss.backward()"
      ],
      "execution_count": 26,
      "outputs": []
    },
    {
      "cell_type": "markdown",
      "metadata": {
        "id": "10iRPiQ1ISHw"
      },
      "source": [
        "and make an update:\n",
        "\n",
        "We introduce a help function parameters to have a handle in all parameters in the network."
      ]
    },
    {
      "cell_type": "code",
      "metadata": {
        "colab": {
          "base_uri": "https://localhost:8080/"
        },
        "id": "dhAI7eyeznia",
        "outputId": "e37b50ee-304f-4f92-fa5b-97a128d0213c"
      },
      "source": [
        "print('Network before update:')\n",
        "[print('Layer', i, '\\n', NN[i]) for i in range(len(NN))] \n",
        "\n",
        "def parameters(network):\n",
        "  params = []\n",
        "  for layer in range(len(network)):\n",
        "    params += network[layer].parameters()\n",
        "  return params\n",
        "\n",
        "def update_parameters(params, learning_rate=0.01):\n",
        "  for p in params:\n",
        "    p.v -= learning_rate*p.grad\n",
        "\n",
        "def zero_gradients(params):\n",
        "  for p in params:\n",
        "    p.grad = 0.0\n",
        "\n",
        "update_parameters(parameters(NN))\n",
        "\n",
        "print('\\nNetwork after update:')\n",
        "[print('Layer', i, '\\n', NN[i]) for i in range(len(NN))] \n",
        "\n",
        "zero_gradients(parameters(NN))\n",
        "\n",
        "print('\\nNetwork after zeroing gradients:')\n",
        "[print('Layer', i, '\\n', NN[i]) for i in range(len(NN))] "
      ],
      "execution_count": 27,
      "outputs": [
        {
          "output_type": "stream",
          "name": "stdout",
          "text": [
            "Network before update:\n",
            "Layer 0 \n",
            " Weights:\n",
            "[Var(v=0.0796, grad=7.0841), Var(v=-0.1731, grad=14.3146), Var(v=0.1641, grad=-3.0428), Var(v=-0.1037, grad=-2.4591), Var(v=0.0921, grad=-0.6343)]\n",
            "Biases: \n",
            "[Var(v=0.0000, grad=6.0853), Var(v=0.0000, grad=-13.0054), Var(v=0.0000, grad=-2.6138), Var(v=0.0000, grad=2.2342), Var(v=0.0000, grad=-0.5449)]\n",
            "Layer 1 \n",
            " Weights:\n",
            "[Var(v=-0.0697, grad=-8.0870)]\n",
            "[Var(v=-0.1529, grad=16.2066)]\n",
            "[Var(v=0.0299, grad=-16.6687)]\n",
            "[Var(v=0.0263, grad=9.7124)]\n",
            "[Var(v=0.0062, grad=-9.3622)]\n",
            "Biases: \n",
            "[Var(v=0.0000, grad=-2.2040)]\n",
            "\n",
            "Network after update:\n",
            "Layer 0 \n",
            " Weights:\n",
            "[Var(v=0.0088, grad=7.0841), Var(v=-0.3162, grad=14.3146), Var(v=0.1945, grad=-3.0428), Var(v=-0.0791, grad=-2.4591), Var(v=0.0985, grad=-0.6343)]\n",
            "Biases: \n",
            "[Var(v=-0.0609, grad=6.0853), Var(v=0.1301, grad=-13.0054), Var(v=0.0261, grad=-2.6138), Var(v=-0.0223, grad=2.2342), Var(v=0.0054, grad=-0.5449)]\n",
            "Layer 1 \n",
            " Weights:\n",
            "[Var(v=0.0111, grad=-8.0870)]\n",
            "[Var(v=-0.3149, grad=16.2066)]\n",
            "[Var(v=0.1966, grad=-16.6687)]\n",
            "[Var(v=-0.0709, grad=9.7124)]\n",
            "[Var(v=0.0999, grad=-9.3622)]\n",
            "Biases: \n",
            "[Var(v=0.0220, grad=-2.2040)]\n",
            "\n",
            "Network after zeroing gradients:\n",
            "Layer 0 \n",
            " Weights:\n",
            "[Var(v=0.0088, grad=0.0000), Var(v=-0.3162, grad=0.0000), Var(v=0.1945, grad=0.0000), Var(v=-0.0791, grad=0.0000), Var(v=0.0985, grad=0.0000)]\n",
            "Biases: \n",
            "[Var(v=-0.0609, grad=0.0000), Var(v=0.1301, grad=0.0000), Var(v=0.0261, grad=0.0000), Var(v=-0.0223, grad=0.0000), Var(v=0.0054, grad=0.0000)]\n",
            "Layer 1 \n",
            " Weights:\n",
            "[Var(v=0.0111, grad=0.0000)]\n",
            "[Var(v=-0.3149, grad=0.0000)]\n",
            "[Var(v=0.1966, grad=0.0000)]\n",
            "[Var(v=-0.0709, grad=0.0000)]\n",
            "[Var(v=0.0999, grad=0.0000)]\n",
            "Biases: \n",
            "[Var(v=0.0220, grad=0.0000)]\n"
          ]
        },
        {
          "output_type": "execute_result",
          "data": {
            "text/plain": [
              "[None, None]"
            ]
          },
          "metadata": {},
          "execution_count": 27
        }
      ]
    },
    {
      "cell_type": "code",
      "metadata": {
        "collapsed": true,
        "id": "woWYpdw6FtIO"
      },
      "source": [
        "# Initialize an arbitrary neural network\n",
        "NN = [\n",
        "    DenseLayer(1, 8, lambda x: x.relu()),\n",
        "    DenseLayer(8, 1, lambda x: x.identity())\n",
        "]\n",
        "\n",
        "# Recommended hyper-parameters for 3-D: \n",
        "#NN = [\n",
        "#    DenseLayer(3, 16, lambda x: x.relu()),\n",
        "#    DenseLayer(16, 1, lambda x: x.identity())\n",
        "#]\n",
        "\n",
        "\n",
        "### Notice that, when we switch from tanh to relu activation, we decrease the learning rate. This is due the stability of the gradients \n",
        "## of the activation functions."
      ],
      "execution_count": 28,
      "outputs": []
    },
    {
      "cell_type": "code",
      "metadata": {
        "collapsed": true,
        "id": "mdqaqYBVFtIR"
      },
      "source": [
        "# Initialize training hyperparameters\n",
        "EPOCHS = 200\n",
        "LEARN_R = 2e-3 "
      ],
      "execution_count": 29,
      "outputs": []
    },
    {
      "cell_type": "code",
      "metadata": {
        "collapsed": true,
        "id": "5kfg76GMFtIW",
        "scrolled": true,
        "colab": {
          "base_uri": "https://localhost:8080/"
        },
        "outputId": "d113ebba-b428-41ea-ad48-76918e6c1674"
      },
      "source": [
        "train_loss = []\n",
        "val_loss = []\n",
        "\n",
        "for e in range(EPOCHS):\n",
        "     \n",
        "    # Forward pass and loss computation\n",
        "    Loss = squared_loss(y_train, forward(x_train, NN))\n",
        "\n",
        "    # Backward pass\n",
        "    Loss.backward()\n",
        "    \n",
        "    # gradient descent update\n",
        "    update_parameters(parameters(NN), LEARN_R)\n",
        "    zero_gradients(parameters(NN))\n",
        "    \n",
        "    # Training loss\n",
        "    train_loss.append(Loss.v)\n",
        "    \n",
        "    # Validation\n",
        "    Loss_validation = squared_loss(y_validation, forward(x_validation, NN))\n",
        "    val_loss.append(Loss_validation.v)\n",
        "    \n",
        "    if e%10==0:\n",
        "        print(\"{:4d}\".format(e),\n",
        "              \"({:5.2f}%)\".format(e/EPOCHS*100), \n",
        "              \"Train loss: {:4.3f} \\t Validation loss: {:4.3f}\".format(train_loss[-1], val_loss[-1]))\n",
        "        \n"
      ],
      "execution_count": 30,
      "outputs": [
        {
          "output_type": "stream",
          "name": "stdout",
          "text": [
            "   0 ( 0.00%) Train loss: 108.641 \t Validation loss: 107.395\n",
            "  10 ( 5.00%) Train loss: 46.480 \t Validation loss: 44.127\n",
            "  20 (10.00%) Train loss: 17.031 \t Validation loss: 15.364\n",
            "  30 (15.00%) Train loss: 15.361 \t Validation loss: 12.773\n",
            "  40 (20.00%) Train loss: 14.673 \t Validation loss: 11.751\n",
            "  50 (25.00%) Train loss: 14.137 \t Validation loss: 11.024\n",
            "  60 (30.00%) Train loss: 13.643 \t Validation loss: 10.509\n",
            "  70 (35.00%) Train loss: 13.210 \t Validation loss: 10.117\n",
            "  80 (40.00%) Train loss: 12.874 \t Validation loss: 9.790\n",
            "  90 (45.00%) Train loss: 12.593 \t Validation loss: 9.552\n",
            " 100 (50.00%) Train loss: 12.345 \t Validation loss: 9.334\n",
            " 110 (55.00%) Train loss: 12.179 \t Validation loss: 9.173\n",
            " 120 (60.00%) Train loss: 12.069 \t Validation loss: 9.059\n",
            " 130 (65.00%) Train loss: 12.008 \t Validation loss: 8.992\n",
            " 140 (70.00%) Train loss: 11.973 \t Validation loss: 8.962\n",
            " 150 (75.00%) Train loss: 11.947 \t Validation loss: 8.954\n",
            " 160 (80.00%) Train loss: 11.931 \t Validation loss: 8.948\n",
            " 170 (85.00%) Train loss: 11.920 \t Validation loss: 8.948\n",
            " 180 (90.00%) Train loss: 11.914 \t Validation loss: 8.950\n",
            " 190 (95.00%) Train loss: 11.910 \t Validation loss: 8.953\n"
          ]
        }
      ]
    },
    {
      "cell_type": "code",
      "metadata": {
        "collapsed": true,
        "id": "VetyRWFwFtIY",
        "colab": {
          "base_uri": "https://localhost:8080/",
          "height": 265
        },
        "outputId": "faaea766-c03d-4f82-9af5-183089db3777"
      },
      "source": [
        "plt.plot(range(len(train_loss)), train_loss, label=\"Training loss\");\n",
        "plt.plot(range(len(val_loss)), val_loss, label=\"Validation loss\");\n",
        "plt.legend();\n",
        "plt.xlabel(\"Epochs\");\n",
        "plt.ylabel(\"Loss\");\n",
        "plt.show()"
      ],
      "execution_count": 31,
      "outputs": [
        {
          "output_type": "display_data",
          "data": {
            "image/png": "[encoded data removed]",
            "text/plain": [
              "<Figure size 432x288 with 1 Axes>"
            ]
          },
          "metadata": {
            "needs_background": "light"
          }
        }
      ]
    },
    {
      "cell_type": "markdown",
      "metadata": {
        "id": "8OgmIrM9FtIb"
      },
      "source": [
        "# Testing\n",
        "\n",
        "We have kept the calculation of the test error separate in order to emphasize that you should not use the test set in optimization."
      ]
    },
    {
      "cell_type": "code",
      "metadata": {
        "collapsed": true,
        "id": "HmNi7S-vFtIc"
      },
      "source": [
        "output_test = forward(x_test, NN)"
      ],
      "execution_count": 32,
      "outputs": []
    },
    {
      "cell_type": "code",
      "metadata": {
        "collapsed": true,
        "id": "7mmJOTSEFtIf",
        "colab": {
          "base_uri": "https://localhost:8080/",
          "height": 314
        },
        "outputId": "b50c7188-2b9d-47e8-9e40-68812827ea2a"
      },
      "source": [
        "y_test_np = Var_to_nparray(y_test)\n",
        "plt.scatter(y_test_np, Var_to_nparray(output_test));\n",
        "plt.plot([np.min(y_test_np), np.max(y_test_np)], [np.min(y_test_np), np.max(y_test_np)], color='k');\n",
        "plt.xlabel(\"y\");\n",
        "plt.ylabel(\"$\\hat{y}$\");\n",
        "plt.title(\"Model prediction vs real in the test set, the close to the line the better\")\n",
        "plt.grid(True);\n",
        "plt.axis('equal');\n",
        "plt.tight_layout();\n",
        "\n",
        "Loss_test = squared_loss(y_test, forward(x_test, NN))\n",
        "\n",
        "print(\"Test loss:  {:4.3f}\".format(Loss_test.v))"
      ],
      "execution_count": 33,
      "outputs": [
        {
          "output_type": "stream",
          "name": "stdout",
          "text": [
            "Test loss:  9.809\n"
          ]
        },
        {
          "output_type": "display_data",
          "data": {
            "image/png": "[encoded data removed]",
            "text/plain": [
              "<Figure size 432x288 with 1 Axes>"
            ]
          },
          "metadata": {
            "needs_background": "light"
          }
        }
      ]
    },
    {
      "cell_type": "code",
      "metadata": {
        "collapsed": true,
        "id": "ODi0WlmQFtIh",
        "colab": {
          "base_uri": "https://localhost:8080/",
          "height": 279
        },
        "outputId": "7a2b9b37-15ed-48b3-e039-01098f704231"
      },
      "source": [
        "x_test_np = Var_to_nparray(x_test)\n",
        "x_train_np = Var_to_nparray(x_train)\n",
        "y_train_np = Var_to_nparray(y_train)\n",
        "if D1:\n",
        "    plt.scatter(x_train_np, y_train_np, label=\"train data\");\n",
        "    plt.scatter(x_test_np, Var_to_nparray(output_test), label=\"test prediction\");\n",
        "    plt.scatter(x_test_np, y_test_np, label=\"test data\");\n",
        "    plt.legend();\n",
        "    plt.xlabel(\"x\");\n",
        "    plt.ylabel(\"y\");\n",
        "else:\n",
        "    plt.scatter(x_train_np[:,1], y_train, label=\"train data\");\n",
        "    plt.scatter(x_test_np[:,1], Var_to_nparray(output_test), label=\"test data prediction\");\n",
        "    plt.scatter(x_test_np[:,1], y_test_np, label=\"test data\");\n",
        "    plt.legend();\n",
        "    plt.xlabel(\"x\");\n",
        "    plt.ylabel(\"y\");"
      ],
      "execution_count": 34,
      "outputs": [
        {
          "output_type": "display_data",
          "data": {
            "image/png": "[encoded data removed]",
            "text/plain": [
              "<Figure size 432x288 with 1 Axes>"
            ]
          },
          "metadata": {
            "needs_background": "light"
          }
        }
      ]
    },
    {
      "cell_type": "markdown",
      "metadata": {
        "id": "zTBAmjsAFtIk"
      },
      "source": [
        "## Exercise k) Show overfitting, underfitting and just right fitting\n",
        "\n",
        "Vary the architecture and other things to show clear signs of overfitting (=training loss significantly lower than test loss) and underfitting (=not fitting enoung to training data so that test performance is also hurt).\n",
        "\n",
        "See also if you can get a good compromise which leads to a low validation loss. \n",
        "\n",
        "For this problem do you see any big difference between validation and test loss? The answer here will probably be no. Discuss cases where it is important to keep the two separate.\n",
        "\n",
        "_Insert written answer here._\n",
        "\n",
        "During training we try to tune the parameters of a network to fit the validation set. It is possible to overfit while doing this. The test set should be separate, so no parameters are adjusted to fit it. It should only be used to assess the model performance once it is completely finished. "
      ]
    },
    {
      "cell_type": "markdown",
      "metadata": {
        "id": "7r5VphlwpGRS"
      },
      "source": [
        "## Just the right fitting\n",
        "\n",
        "The lowest validation error was achieved with the code/parameters below. It is probably possible to achieve better results but this is the best i got with limited time. "
      ]
    },
    {
      "cell_type": "code",
      "metadata": {
        "id": "SJxwdAGRsSpa",
        "outputId": "15ced7f5-a408-4839-b3f5-a16da6c9a374",
        "colab": {
          "base_uri": "https://localhost:8080/",
          "height": 783
        }
      },
      "source": [
        "#Just the right model training\n",
        "\n",
        "NN = [\n",
        "    DenseLayer(1, 25, lambda x: x.relu()),                                      \n",
        "    DenseLayer(25, 25, lambda x: x.relu()),                                     \n",
        "    DenseLayer(25, 1, lambda x: x.identity())]\n",
        "\n",
        "EPOCHS = 300\n",
        "LEARN_R = 1e-3 \n",
        "\n",
        "train_loss = []\n",
        "val_loss = []\n",
        "\n",
        "for e in range(EPOCHS):\n",
        "     \n",
        "    # Forward pass and loss computation\n",
        "    Loss = squared_loss(y_train, forward(x_train, NN))              \n",
        "\n",
        "    # Backward pass\n",
        "    Loss.backward()\n",
        "    \n",
        "    # gradient descent update\n",
        "    update_parameters(parameters(NN), LEARN_R)\n",
        "    zero_gradients(parameters(NN))\n",
        "    \n",
        "    # Training loss\n",
        "    train_loss.append(Loss.v)\n",
        "    \n",
        "    # Validation\n",
        "    Loss_validation = squared_loss(y_validation, forward(x_validation, NN))\n",
        "    val_loss.append(Loss_validation.v)\n",
        "    \n",
        "    if e%10==0:\n",
        "        print(\"{:4d}\".format(e),\n",
        "              \"({:5.2f}%)\".format(e/EPOCHS*100), \n",
        "              \"Train loss: {:4.3f} \\t Validation loss: {:4.3f}\".format(train_loss[-1], val_loss[-1]))\n",
        "        \n",
        "plt.plot(range(len(train_loss)), train_loss, label=\"Training loss\");\n",
        "plt.plot(range(len(val_loss)), val_loss, label=\"Validation loss\");\n",
        "plt.xlabel(\"Epochs\");\n",
        "plt.ylabel(\"Loss\");\n",
        "plt.legend();\n",
        "plt.show()"
      ],
      "execution_count": 55,
      "outputs": [
        {
          "output_type": "stream",
          "name": "stdout",
          "text": [
            "   0 ( 0.00%) Train loss: 105.752 \t Validation loss: 106.902\n",
            "  10 ( 3.33%) Train loss: 88.732 \t Validation loss: 88.048\n",
            "  20 ( 6.67%) Train loss: 36.060 \t Validation loss: 29.476\n",
            "  30 (10.00%) Train loss: 14.165 \t Validation loss: 10.799\n",
            "  40 (13.33%) Train loss: 13.461 \t Validation loss: 10.131\n",
            "  50 (16.67%) Train loss: 13.166 \t Validation loss: 9.892\n",
            "  60 (20.00%) Train loss: 12.938 \t Validation loss: 9.712\n",
            "  70 (23.33%) Train loss: 12.750 \t Validation loss: 9.564\n",
            "  80 (26.67%) Train loss: 12.585 \t Validation loss: 9.425\n",
            "  90 (30.00%) Train loss: 12.432 \t Validation loss: 9.295\n",
            " 100 (33.33%) Train loss: 12.315 \t Validation loss: 9.187\n",
            " 110 (36.67%) Train loss: 12.219 \t Validation loss: 9.094\n",
            " 120 (40.00%) Train loss: 12.139 \t Validation loss: 9.023\n",
            " 130 (43.33%) Train loss: 12.072 \t Validation loss: 8.980\n",
            " 140 (46.67%) Train loss: 12.015 \t Validation loss: 8.950\n",
            " 150 (50.00%) Train loss: 11.969 \t Validation loss: 8.920\n",
            " 160 (53.33%) Train loss: 11.937 \t Validation loss: 8.890\n",
            " 170 (56.67%) Train loss: 11.906 \t Validation loss: 8.870\n",
            " 180 (60.00%) Train loss: 11.881 \t Validation loss: 8.856\n",
            " 190 (63.33%) Train loss: 11.860 \t Validation loss: 8.847\n",
            " 200 (66.67%) Train loss: 11.847 \t Validation loss: 8.837\n",
            " 210 (70.00%) Train loss: 11.839 \t Validation loss: 8.832\n",
            " 220 (73.33%) Train loss: 11.832 \t Validation loss: 8.829\n",
            " 230 (76.67%) Train loss: 11.826 \t Validation loss: 8.824\n",
            " 240 (80.00%) Train loss: 11.820 \t Validation loss: 8.823\n",
            " 250 (83.33%) Train loss: 11.814 \t Validation loss: 8.814\n",
            " 260 (86.67%) Train loss: 11.806 \t Validation loss: 8.807\n",
            " 270 (90.00%) Train loss: 11.796 \t Validation loss: 8.798\n",
            " 280 (93.33%) Train loss: 11.786 \t Validation loss: 8.789\n",
            " 290 (96.67%) Train loss: 11.778 \t Validation loss: 8.780\n"
          ]
        },
        {
          "output_type": "display_data",
          "data": {
            "image/png": "[encoded data removed]",
            "text/plain": [
              "<Figure size 432x288 with 1 Axes>"
            ]
          },
          "metadata": {
            "needs_background": "light"
          }
        }
      ]
    },
    {
      "cell_type": "markdown",
      "metadata": {
        "id": "FoVogF-tntwZ"
      },
      "source": [
        "## Overfitting\n",
        "\n",
        "In order to overfit the data an additional layer was added to the network. The number of units was also increased to 16. Additionally the number of epochs was increased. All of this alone did not seem to work (validation loss was still smaller than training loss). What actually made a difference was decreasing the training set (it was decreased by half). It can be seen on the figure below that now the training loss is significantly lower than the validation loss indicating overfitting."
      ]
    },
    {
      "cell_type": "code",
      "metadata": {
        "collapsed": true,
        "id": "tQZCn2dxFtIl",
        "colab": {
          "base_uri": "https://localhost:8080/",
          "height": 783
        },
        "outputId": "458f27db-ada2-484a-aaaf-8f4f0b837c1c"
      },
      "source": [
        "# Insert your code for getting overfitting, underfitting and just right fitting\n",
        "#Overfitting model training\n",
        "\n",
        "half = (len(x_train))//2\n",
        "x_train_small = x_train[: half]                                                 #Decreasing the training set by half to achieve overfitting\n",
        "y_train_small = y_train[: half]\n",
        "\n",
        "NN = [\n",
        "    DenseLayer(1, 16, lambda x: x.relu()),                                      #Adding an additional layer and increasing the number of hidden units in a layer to to 16 to achieve\n",
        "    DenseLayer(16, 16, lambda x: x.relu()),                                     #overfitting\n",
        "    DenseLayer(16, 1, lambda x: x.identity())]\n",
        "\n",
        "EPOCHS = 300\n",
        "LEARN_R = 1e-3 \n",
        "\n",
        "train_loss = []\n",
        "val_loss = []\n",
        "\n",
        "for e in range(EPOCHS):\n",
        "     \n",
        "    # Forward pass and loss computation\n",
        "    Loss = squared_loss(y_train_small, forward(x_train_small, NN))              \n",
        "\n",
        "    # Backward pass\n",
        "    Loss.backward()\n",
        "    \n",
        "    # gradient descent update\n",
        "    update_parameters(parameters(NN), LEARN_R)\n",
        "    zero_gradients(parameters(NN))\n",
        "    \n",
        "    # Training loss\n",
        "    train_loss.append(Loss.v)\n",
        "    \n",
        "    # Validation\n",
        "    Loss_validation = squared_loss(y_validation, forward(x_validation, NN))\n",
        "    val_loss.append(Loss_validation.v)\n",
        "    \n",
        "    if e%10==0:\n",
        "        print(\"{:4d}\".format(e),\n",
        "              \"({:5.2f}%)\".format(e/EPOCHS*100), \n",
        "              \"Train loss: {:4.3f} \\t Validation loss: {:4.3f}\".format(train_loss[-1], val_loss[-1]))\n",
        "        \n",
        "plt.plot(range(len(train_loss)), train_loss, label=\"Training loss\");\n",
        "plt.plot(range(len(val_loss)), val_loss, label=\"Validation loss\");\n",
        "plt.xlabel(\"Epochs\");\n",
        "plt.ylabel(\"Loss\");\n",
        "plt.legend();\n",
        "plt.show()"
      ],
      "execution_count": 50,
      "outputs": [
        {
          "output_type": "stream",
          "name": "stdout",
          "text": [
            "   0 ( 0.00%) Train loss: 41.752 \t Validation loss: 104.925\n",
            "  10 ( 3.33%) Train loss: 39.849 \t Validation loss: 99.722\n",
            "  20 ( 6.67%) Train loss: 37.426 \t Validation loss: 93.336\n",
            "  30 (10.00%) Train loss: 32.575 \t Validation loss: 80.868\n",
            "  40 (13.33%) Train loss: 24.249 \t Validation loss: 59.982\n",
            "  50 (16.67%) Train loss: 15.725 \t Validation loss: 39.341\n",
            "  60 (20.00%) Train loss: 10.772 \t Validation loss: 27.479\n",
            "  70 (23.33%) Train loss: 8.483 \t Validation loss: 21.676\n",
            "  80 (26.67%) Train loss: 7.363 \t Validation loss: 18.624\n",
            "  90 (30.00%) Train loss: 6.756 \t Validation loss: 16.896\n",
            " 100 (33.33%) Train loss: 6.394 \t Validation loss: 15.841\n",
            " 110 (36.67%) Train loss: 6.153 \t Validation loss: 15.117\n",
            " 120 (40.00%) Train loss: 5.977 \t Validation loss: 14.609\n",
            " 130 (43.33%) Train loss: 5.836 \t Validation loss: 14.222\n",
            " 140 (46.67%) Train loss: 5.717 \t Validation loss: 13.878\n",
            " 150 (50.00%) Train loss: 5.609 \t Validation loss: 13.621\n",
            " 160 (53.33%) Train loss: 5.512 \t Validation loss: 13.406\n",
            " 170 (56.67%) Train loss: 5.425 \t Validation loss: 13.240\n",
            " 180 (60.00%) Train loss: 5.356 \t Validation loss: 13.105\n",
            " 190 (63.33%) Train loss: 5.300 \t Validation loss: 12.998\n",
            " 200 (66.67%) Train loss: 5.253 \t Validation loss: 12.897\n",
            " 210 (70.00%) Train loss: 5.210 \t Validation loss: 12.809\n",
            " 220 (73.33%) Train loss: 5.170 \t Validation loss: 12.743\n",
            " 230 (76.67%) Train loss: 5.135 \t Validation loss: 12.679\n",
            " 240 (80.00%) Train loss: 5.100 \t Validation loss: 12.622\n",
            " 250 (83.33%) Train loss: 5.065 \t Validation loss: 12.570\n",
            " 260 (86.67%) Train loss: 5.031 \t Validation loss: 12.516\n",
            " 270 (90.00%) Train loss: 4.998 \t Validation loss: 12.470\n",
            " 280 (93.33%) Train loss: 4.961 \t Validation loss: 12.421\n",
            " 290 (96.67%) Train loss: 4.925 \t Validation loss: 12.362\n"
          ]
        },
        {
          "output_type": "display_data",
          "data": {
            "image/png": "[encoded data removed]",
            "text/plain": [
              "<Figure size 432x288 with 1 Axes>"
            ]
          },
          "metadata": {
            "needs_background": "light"
          }
        }
      ]
    },
    {
      "cell_type": "code",
      "metadata": {
        "id": "Gru9uwWLqeAw",
        "outputId": "697da051-4163-45e6-9d5a-1a44c1845a90",
        "colab": {
          "base_uri": "https://localhost:8080/",
          "height": 279
        }
      },
      "source": [
        "#Overfitting model test\n",
        "output_test = forward(x_test, NN)\n",
        "\n",
        "x_test_np = Var_to_nparray(x_test)\n",
        "x_train_np = Var_to_nparray(x_train_small)\n",
        "y_train_np = Var_to_nparray(y_train_small)\n",
        "if D1:\n",
        "    plt.scatter(x_train_np, y_train_np, label=\"train data\");\n",
        "    plt.scatter(x_test_np, Var_to_nparray(output_test), label=\"test prediction\");\n",
        "    plt.scatter(x_test_np, y_test_np, label=\"test data\");\n",
        "    plt.legend();\n",
        "    plt.xlabel(\"x\");\n",
        "    plt.ylabel(\"y\");\n",
        "else:\n",
        "    plt.scatter(x_train_np[:,1], y_train, label=\"train data\");\n",
        "    plt.scatter(x_test_np[:,1], Var_to_nparray(output_test), label=\"test data prediction\");\n",
        "    plt.scatter(x_test_np[:,1], y_test_np, label=\"test data\");\n",
        "    plt.legend();\n",
        "    plt.xlabel(\"x\");\n",
        "    plt.ylabel(\"y\");"
      ],
      "execution_count": 51,
      "outputs": [
        {
          "output_type": "display_data",
          "data": {
            "image/png": "[encoded data removed]",
            "text/plain": [
              "<Figure size 432x288 with 1 Axes>"
            ]
          },
          "metadata": {
            "needs_background": "light"
          }
        }
      ]
    },
    {
      "cell_type": "markdown",
      "metadata": {
        "id": "cCeij1gUoxWu"
      },
      "source": [
        "## Underfitting\n",
        "\n",
        "To achieve underfitting the number of layers and units in the layers was decreased. Also the number of epochs was decreased. "
      ]
    },
    {
      "cell_type": "code",
      "metadata": {
        "colab": {
          "base_uri": "https://localhost:8080/",
          "height": 363
        },
        "id": "Iej49v1AmBFp",
        "outputId": "57173ac4-fb76-41c3-b689-9f27e10e49f6"
      },
      "source": [
        "#Underfitting model training\n",
        "\n",
        "NN = [\n",
        "    DenseLayer(1, 3, lambda x: x.relu()),\n",
        "    DenseLayer(3, 1, lambda x: x.identity()),\n",
        "]\n",
        "\n",
        "EPOCHS = 50\n",
        "LEARN_R = 1e-3 \n",
        "\n",
        "train_loss = []\n",
        "val_loss = []\n",
        "\n",
        "for e in range(EPOCHS):\n",
        "     \n",
        "    # Forward pass and loss computation\n",
        "    Loss = squared_loss(y_train, forward(x_train, NN))\n",
        "\n",
        "    # Backward pass\n",
        "    Loss.backward()\n",
        "    \n",
        "    # gradient descent update\n",
        "    update_parameters(parameters(NN), LEARN_R)\n",
        "    zero_gradients(parameters(NN))\n",
        "    \n",
        "    # Training loss\n",
        "    train_loss.append(Loss.v)\n",
        "    \n",
        "    # Validation\n",
        "    Loss_validation = squared_loss(y_validation, forward(x_validation, NN))\n",
        "    val_loss.append(Loss_validation.v)\n",
        "    \n",
        "    if e%10==0:\n",
        "        print(\"{:4d}\".format(e),\n",
        "              \"({:5.2f}%)\".format(e/EPOCHS*100), \n",
        "              \"Train loss: {:4.3f} \\t Validation loss: {:4.3f}\".format(train_loss[-1], val_loss[-1]))\n",
        "        \n",
        "plt.plot(range(len(train_loss)), train_loss, label=\"Training loss\");\n",
        "plt.plot(range(len(val_loss)), val_loss, label=\"Validation loss\");\n",
        "plt.legend();\n",
        "plt.xlabel(\"Epochs\");\n",
        "plt.ylabel(\"Loss\");\n",
        "plt.show()"
      ],
      "execution_count": 52,
      "outputs": [
        {
          "output_type": "stream",
          "name": "stdout",
          "text": [
            "   0 ( 0.00%) Train loss: 105.358 \t Validation loss: 106.507\n",
            "  10 (20.00%) Train loss: 79.997 \t Validation loss: 77.807\n",
            "  20 (40.00%) Train loss: 23.122 \t Validation loss: 19.489\n",
            "  30 (60.00%) Train loss: 14.449 \t Validation loss: 11.225\n",
            "  40 (80.00%) Train loss: 14.090 \t Validation loss: 10.806\n"
          ]
        },
        {
          "output_type": "display_data",
          "data": {
            "image/png": "[encoded data removed]",
            "text/plain": [
              "<Figure size 432x288 with 1 Axes>"
            ]
          },
          "metadata": {
            "needs_background": "light"
          }
        }
      ]
    },
    {
      "cell_type": "code",
      "metadata": {
        "colab": {
          "base_uri": "https://localhost:8080/",
          "height": 279
        },
        "id": "K1p4ptSmxc0b",
        "outputId": "790c3a0b-bbaa-4c2f-c16f-ba4131f49d32"
      },
      "source": [
        "#Underfitting model test\n",
        "output_test = forward(x_test, NN)\n",
        "\n",
        "x_test_np = Var_to_nparray(x_test)\n",
        "x_train_np = Var_to_nparray(x_train)\n",
        "y_train_np = Var_to_nparray(y_train)\n",
        "if D1:\n",
        "    plt.scatter(x_train_np, y_train_np, label=\"train data\");\n",
        "    plt.scatter(x_test_np, Var_to_nparray(output_test), label=\"test prediction\");\n",
        "    plt.scatter(x_test_np, y_test_np, label=\"test data\");\n",
        "    plt.legend();\n",
        "    plt.xlabel(\"x\");\n",
        "    plt.ylabel(\"y\");\n",
        "else:\n",
        "    plt.scatter(x_train_np[:,1], y_train, label=\"train data\");\n",
        "    plt.scatter(x_test_np[:,1], Var_to_nparray(output_test), label=\"test data prediction\");\n",
        "    plt.scatter(x_test_np[:,1], y_test_np, label=\"test data\");\n",
        "    plt.legend();\n",
        "    plt.xlabel(\"x\");\n",
        "    plt.ylabel(\"y\");"
      ],
      "execution_count": 53,
      "outputs": [
        {
          "output_type": "display_data",
          "data": {
            "image/png": "[encoded data removed]",
            "text/plain": [
              "<Figure size 432x288 with 1 Axes>"
            ]
          },
          "metadata": {
            "needs_background": "light"
          }
        }
      ]
    },
    {
      "cell_type": "markdown",
      "metadata": {
        "id": "fYPZP-eTFtIo"
      },
      "source": [
        "# Next steps - classification\n",
        "\n",
        "It is straight forward to extend what we have done to classification. \n",
        "\n",
        "For numerical stability it is better to make softmax and cross-entropy as one function so we write the cross entropy loss as a function of the logits we talked about last week. \n",
        "\n",
        "Next week we will see how to perform classification in PyTorch."
      ]
    },
    {
      "cell_type": "markdown",
      "metadata": {
        "id": "qsVPul3QFtIo"
      },
      "source": [
        "## Exercise l) optional - Implement backpropagation for classification\n",
        "\n",
        "Should be possible with very few lines of code. :-)"
      ]
    },
    {
      "cell_type": "code",
      "metadata": {
        "collapsed": true,
        "id": "oC8QrI2tFtIp"
      },
      "source": [
        "# Just add code."
      ],
      "execution_count": null,
      "outputs": []
    },
    {
      "cell_type": "markdown",
      "metadata": {
        "id": "APqhJv3tta1O"
      },
      "source": [
        "## Exercise m) optional - Introduce a NeuralNetwork class\n",
        "\n",
        "The functions we applied on the neural network (parameters, update_parameters and zero_gradients) can more naturally be included as methods in a NeuralNetwork class. Make such a class and modify the code to use it. "
      ]
    },
    {
      "cell_type": "code",
      "metadata": {
        "id": "Dqfnor1ouMLq"
      },
      "source": [
        "# just add some code"
      ],
      "execution_count": null,
      "outputs": []
    }
  ]
}